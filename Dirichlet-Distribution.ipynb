{
 "cells": [
  {
   "cell_type": "markdown",
   "metadata": {},
   "source": [
    "##  Dirichlet Distribution, $Dir(\\alpha)$ ##"
   ]
  },
  {
   "cell_type": "markdown",
   "metadata": {},
   "source": [
    "In this Jupyter notebook we generate a plot for Wikipedia, illustrating  the graph of a few probability density functions\n",
    "for  the [Dirichlet distribution](https://en.wikipedia.org/wiki/Dirichlet_distribution),  corresponding to different parameter vectors $\\alpha$."
   ]
  },
  {
   "cell_type": "code",
   "execution_count": 1,
   "metadata": {},
   "outputs": [],
   "source": [
    "import numpy as np\n",
    "import matplotlib.tri as tri\n",
    "import scipy.stats as st"
   ]
  },
  {
   "cell_type": "markdown",
   "metadata": {},
   "source": [
    " Dirichlet distribution is defined on the open simplex \n",
    "$\\{(x_1, x_2, x_2)\\:|\\: x_1+x_2+x_3=1, x_k\\in(0,1)\\}$. \n",
    "\n",
    "$(x_1,  x_2, x_3)$ are interpreted as the [baricentric coordinates](https://en.wikipedia.org/wiki/Barycentric_coordinate_system) of the points\n",
    "in a planar triangle."
   ]
  },
  {
   "cell_type": "markdown",
   "metadata": {},
   "source": [
    "We take an equilateral triangle and subdivide it uniformly and recursively,  by a  procedure of type 1-to-4 split:"
   ]
  },
  {
   "cell_type": "code",
   "execution_count": 2,
   "metadata": {},
   "outputs": [],
   "source": [
    "def cartesian2baric(point, M, dist=1.e-15):\n",
    "    # point is list or tuple of two floats representing the cartesia coordinates of a 2d point\n",
    "    # M is the matrix of the transformation from cartesian to barycentric coordinates\n",
    "   \n",
    "    baric = np.dot(M, np.array(point +(1,))) \n",
    "    return np.clip(baric, dist, 1.0 - dist) # clip the baric to force it belong to the open simplex\n",
    "\n",
    "def uniftriang(vertices, subdiv_level=7):\n",
    "    #define a uniform triangulation of the triangle of vertices vertices\n",
    "    triangle = tri.Triangulation(vertices[:, 0], vertices[:, 1])\n",
    "    refined_tri = tri.UniformTriRefiner(triangle)\n",
    "    finaltri = refined_tri.refine_triangulation(subdiv=subdiv_level)\n",
    "    #finaltri.triangles are the simplices of the triangulation\n",
    "    #finaltri.x, finaltri.y are the cartesian coordinates of the triangulation vertices \n",
    "    return finaltri"
   ]
  },
  {
   "cell_type": "markdown",
   "metadata": {},
   "source": [
    "Define the vertices of an equilateral triangle, subdivide it, and compute the baricentric coordinates of the triangulation points:"
   ]
  },
  {
   "cell_type": "code",
   "execution_count": 3,
   "metadata": {},
   "outputs": [],
   "source": [
    "tri_vertices = np.array([[0, 0], [1, 0], [0.5, np.sqrt(3)/2]])\n",
    "A = np.array([[0, 1, 0.5], [0, 0, np.sqrt(3)/2], [1, 1, 1]]) #transformation matrix from barycentric to cartesian coords\n",
    "invA = np.linalg.inv(A)\n",
    "triangul = uniftriang(tri_vertices)\n",
    "baric_coords = [cartesian2baric(point, invA)  for point in zip(triangul.x, triangul.y)]"
   ]
  },
  {
   "cell_type": "markdown",
   "metadata": {},
   "source": [
    "We define and plot the surface representing a Dirichlet probability density function as a Plotly Mesh3d:"
   ]
  },
  {
   "cell_type": "code",
   "execution_count": 4,
   "metadata": {},
   "outputs": [],
   "source": [
    "import plotly.plotly as py\n",
    "import plotly.graph_objs as go\n",
    "from plotly import tools as tls"
   ]
  },
  {
   "cell_type": "code",
   "execution_count": 5,
   "metadata": {},
   "outputs": [],
   "source": [
    "def plotly_triangular_mesh(vertices, simplices, intensities=None, colorscale=\"Viridis\",\n",
    "                           flatshading=False, showscale=False, reversescale=False, plot_edges=False):\n",
    "    \n",
    "    #vertices - vertices of the triangulation; a numpy array of shape (n_vertices, 3)\n",
    "    #simplices - simplices (subtriangles) of the triangulation; a numpy array of shape (n_simplices, 3)\n",
    "    #intensities can be either a function of (x,y,z) or a list of values; if it is None the intensity is z\n",
    "    \n",
    "    x, y, z = vertices.T \n",
    "    I, J, K = simplices.T     \n",
    "    if intensities is None:\n",
    "        intensity = z\n",
    "    elif hasattr(intensities, '__call__'):\n",
    "        intensity = intensities(x,y,z)\n",
    "    elif  isinstance(intensities, (list, np.ndarray)):\n",
    "        intensity = intensities #intensities are given in a list\n",
    "    else:\n",
    "        raise ValueError(\"intensities can be either a function or a list, np.array\")\n",
    "        \n",
    "    return      dict(type='mesh3d',\n",
    "                     x=x,\n",
    "                     y=y,\n",
    "                     z=z,\n",
    "                     colorscale=colorscale, \n",
    "                     reversescale=reversescale,\n",
    "                     intensity= intensity,\n",
    "                     flatshading=flatshading,\n",
    "                     i=I,\n",
    "                     j=J,\n",
    "                     k=K,\n",
    "                     name='',\n",
    "                     showscale=showscale\n",
    "                    )   "
   ]
  },
  {
   "cell_type": "markdown",
   "metadata": {},
   "source": [
    "Define a list of  parameters $\\alpha$ for the Dirichlet distributions to be plotted:"
   ]
  },
  {
   "cell_type": "code",
   "execution_count": 6,
   "metadata": {},
   "outputs": [],
   "source": [
    "alpha = [[(1.3, 1.3, 1.3), (3, 3, 3), (7, 7, 7)],\n",
    "         [(2, 6, 11), (14, 9, 5),  (6, 2, 6)]]\n",
    "m = len(alpha)\n",
    "n = len(alpha[0])"
   ]
  },
  {
   "cell_type": "code",
   "execution_count": 7,
   "metadata": {},
   "outputs": [
    {
     "name": "stdout",
     "output_type": "stream",
     "text": [
      "This is the format of your plot grid:\n",
      "[ (1,1) scene1 ]  [ (1,2) scene2 ]  [ (1,3) scene3 ]\n",
      "[ (2,1) scene4 ]  [ (2,2) scene5 ]  [ (2,3) scene6 ]\n",
      "\n"
     ]
    }
   ],
   "source": [
    "fig = tls.make_subplots(rows=m, cols=n, vertical_spacing=0.0075, horizontal_spacing=0.025,\n",
    "                        specs=[ [{'is_3d': True}, {'is_3d': True}, {'is_3d': True}],\n",
    "                                [{'is_3d': True}, {'is_3d': True}, {'is_3d': True}]\n",
    "                              ])"
   ]
  },
  {
   "cell_type": "code",
   "execution_count": 8,
   "metadata": {},
   "outputs": [
    {
     "data": {
      "text/plain": [
       "[['scene1', 'scene2', 'scene3'], ['scene4', 'scene5', 'scene6']]"
      ]
     },
     "execution_count": 8,
     "metadata": {},
     "output_type": "execute_result"
    }
   ],
   "source": [
    "scenes = [['scene{}'.format(j+1+i*n) for j in range(n)] for i in range(m)]\n",
    "scenes"
   ]
  },
  {
   "cell_type": "code",
   "execution_count": 9,
   "metadata": {},
   "outputs": [],
   "source": [
    "axis = dict(showbackground=True, \n",
    "            backgroundcolor=\"rgb(230, 230,230)\",\n",
    "            gridcolor=\"rgb(255, 255, 255)\",      \n",
    "            zerolinecolor=\"rgb(255, 255, 255)\", \n",
    "            tickfont=dict(size=11),\n",
    "           titlefont =dict(size=12))\n",
    "\n",
    "scene = dict(xaxis=dict(axis),\n",
    "             yaxis=dict(axis), \n",
    "             zaxis=dict(axis), \n",
    "             aspectratio=dict(x=1, y=1, z=0.25))\n",
    "fig.update_scenes(scene);"
   ]
  },
  {
   "cell_type": "code",
   "execution_count": 10,
   "metadata": {},
   "outputs": [],
   "source": [
    "pl_deep = [[0.0, 'rgb(253, 253, 204)'],\n",
    "           [0.1, 'rgb(201, 235, 177)'],\n",
    "           [0.2, 'rgb(145, 216, 163)'],\n",
    "           [0.3, 'rgb(102, 194, 163)'],\n",
    "           [0.4, 'rgb(81, 168, 162)'],\n",
    "           [0.5, 'rgb(72, 141, 157)'],\n",
    "           [0.6, 'rgb(64, 117, 152)'],\n",
    "           [0.7, 'rgb(61, 90, 146)'],\n",
    "           [0.8, 'rgb(65, 64, 123)'],\n",
    "           [0.9, 'rgb(55, 44, 80)'],\n",
    "           [1.0, 'rgb(39, 26, 44)']]"
   ]
  },
  {
   "cell_type": "code",
   "execution_count": 11,
   "metadata": {},
   "outputs": [],
   "source": [
    "for i in range(m):\n",
    "    for j in range(n):\n",
    "        X = st.dirichlet(np.array(alpha[i][j]))\n",
    "        C = [X.pdf(baric_coords[k]) for k in range(len(baric_coords)) ]\n",
    "        zmax = max(C)\n",
    "        surf_vertices = np.vstack((triangul.x, triangul.y, C)).T # vertices of the surface triangulation\n",
    "        trace = plotly_triangular_mesh(surf_vertices, triangul.triangles, intensities=None, colorscale=pl_deep)\n",
    "        fig.append_trace(trace, i+1, j+1)\n",
    "        fig.update_scenes({'zaxis': {'tickvals': [round(zmax/2,1), round(zmax,1)]}})\n",
    "        \n",
    "fig.layout.update(title='Dirichlet distribution over an open 2-simplex'+\n",
    "                     '<br> alpha=(1.3, 1.3, 1.3), (3, 3, 3), (7, 7, 7), '+\n",
    "                     '<br>(2, 6, 11), (14, 9, 5), (6, 2, 6) ', \n",
    "                     font=dict(family='Georgia, serif',\n",
    "                               size=14),\n",
    "                     margin=dict(t=135),\n",
    "                     height=800, \n",
    "                     width=900, \n",
    "                     showlegend=False\n",
    "                    );"
   ]
  },
  {
   "cell_type": "code",
   "execution_count": 13,
   "metadata": {},
   "outputs": [],
   "source": [
    "fw = go.FigureWidget(fig)\n",
    "fw"
   ]
  },
  {
   "cell_type": "code",
   "execution_count": 14,
   "metadata": {},
   "outputs": [
    {
     "data": {
      "text/html": [
       "\n",
       "        <iframe\n",
       "            width=\"900\"\n",
       "            height=\"800\"\n",
       "            src=\"https://plot.ly/~empet/13886/\"\n",
       "            frameborder=\"0\"\n",
       "            allowfullscreen\n",
       "        ></iframe>\n",
       "        "
      ],
      "text/plain": [
       "<IPython.lib.display.IFrame at 0x258d485be10>"
      ]
     },
     "execution_count": 14,
     "metadata": {},
     "output_type": "execute_result"
    }
   ],
   "source": [
    "from IPython.display import IFrame\n",
    "IFrame('https://plot.ly/~empet/13886/',  width=900, height=800)"
   ]
  },
  {
   "cell_type": "code",
   "execution_count": null,
   "metadata": {},
   "outputs": [],
   "source": []
  }
 ],
 "metadata": {
  "kernelspec": {
   "display_name": "Python 3",
   "language": "python",
   "name": "python3"
  },
  "language_info": {
   "codemirror_mode": {
    "name": "ipython",
    "version": 3
   },
   "file_extension": ".py",
   "mimetype": "text/x-python",
   "name": "python",
   "nbconvert_exporter": "python",
   "pygments_lexer": "ipython3",
   "version": "3.7.1"
  }
 },
 "nbformat": 4,
 "nbformat_minor": 1
}
