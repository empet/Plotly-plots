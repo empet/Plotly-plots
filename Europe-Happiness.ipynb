{
 "cells": [
  {
   "cell_type": "markdown",
   "metadata": {},
   "source": [
    "## Europe Happiness ##"
   ]
  },
  {
   "cell_type": "markdown",
   "metadata": {},
   "source": [
    "In this notebook we visualize Europe countries happiness scores. Data are retrieved  from [World Happiness Report 2016](http://worldhappiness.report/wp-content/uploads/sites/2/2016/03/HR-V1_web.pdf).\n"
   ]
  },
  {
   "cell_type": "code",
   "execution_count": 1,
   "metadata": {},
   "outputs": [],
   "source": [
    "import numpy as np\n",
    "import pandas as pd\n",
    "import matplotlib.cm as cm"
   ]
  },
  {
   "cell_type": "code",
   "execution_count": 2,
   "metadata": {},
   "outputs": [
    {
     "data": {
      "text/html": [
       "<div>\n",
       "<style scoped>\n",
       "    .dataframe tbody tr th:only-of-type {\n",
       "        vertical-align: middle;\n",
       "    }\n",
       "\n",
       "    .dataframe tbody tr th {\n",
       "        vertical-align: top;\n",
       "    }\n",
       "\n",
       "    .dataframe thead th {\n",
       "        text-align: right;\n",
       "    }\n",
       "</style>\n",
       "<table border=\"1\" class=\"dataframe\">\n",
       "  <thead>\n",
       "    <tr style=\"text-align: right;\">\n",
       "      <th></th>\n",
       "      <th>Country</th>\n",
       "      <th>World-Rank</th>\n",
       "      <th>Score</th>\n",
       "    </tr>\n",
       "  </thead>\n",
       "  <tbody>\n",
       "    <tr>\n",
       "      <th>0</th>\n",
       "      <td>Denmark</td>\n",
       "      <td>1</td>\n",
       "      <td>7.526</td>\n",
       "    </tr>\n",
       "    <tr>\n",
       "      <th>1</th>\n",
       "      <td>Switzerland</td>\n",
       "      <td>2</td>\n",
       "      <td>7.509</td>\n",
       "    </tr>\n",
       "    <tr>\n",
       "      <th>2</th>\n",
       "      <td>Iceland</td>\n",
       "      <td>3</td>\n",
       "      <td>7.501</td>\n",
       "    </tr>\n",
       "    <tr>\n",
       "      <th>3</th>\n",
       "      <td>Norway</td>\n",
       "      <td>4</td>\n",
       "      <td>7.498</td>\n",
       "    </tr>\n",
       "    <tr>\n",
       "      <th>4</th>\n",
       "      <td>Finland</td>\n",
       "      <td>5</td>\n",
       "      <td>7.413</td>\n",
       "    </tr>\n",
       "  </tbody>\n",
       "</table>\n",
       "</div>"
      ],
      "text/plain": [
       "       Country  World-Rank  Score\n",
       "0      Denmark           1  7.526\n",
       "1  Switzerland           2  7.509\n",
       "2      Iceland           3  7.501\n",
       "3       Norway           4  7.498\n",
       "4      Finland           5  7.413"
      ]
     },
     "execution_count": 2,
     "metadata": {},
     "output_type": "execute_result"
    }
   ],
   "source": [
    "df = pd.read_excel('Data/Europe-Happiness.xlsx')\n",
    "df.head()"
   ]
  },
  {
   "cell_type": "code",
   "execution_count": 3,
   "metadata": {},
   "outputs": [],
   "source": [
    "N = len(df)"
   ]
  },
  {
   "cell_type": "code",
   "execution_count": 4,
   "metadata": {},
   "outputs": [],
   "source": [
    "score = df['Score'].values\n",
    "country = list(df.Country)\n",
    "country[13] = 'U Kingdom'\n",
    "country[14] = 'Czech Rep'\n",
    "country[38] = 'Bosn Herzeg'\n",
    "world_rk = list(df['World-Rank'])"
   ]
  },
  {
   "cell_type": "code",
   "execution_count": 5,
   "metadata": {},
   "outputs": [],
   "source": [
    "import plotly.plotly as py\n",
    "import plotly.graph_objs as go"
   ]
  },
  {
   "cell_type": "markdown",
   "metadata": {},
   "source": [
    "Function that maps a normalized happiness score to a color in a given matplotlib  colormap:"
   ]
  },
  {
   "cell_type": "code",
   "execution_count": 6,
   "metadata": {},
   "outputs": [],
   "source": [
    "def map_z2color(val, colormap, vmin, vmax):\n",
    "    #map the normalized value val to a corresponding color in the mpl colormap\n",
    "    \n",
    "    if vmin >= vmax:\n",
    "        raise ValueError('incorrect relation between vmin and vmax')\n",
    "    t = (val-vmin) / (vmax-vmin) #normalize val\n",
    "    C = (np.array(colormap(t)[:3])*255).astype(np.uint8)\n",
    "    #convert to a Plotly color code:\n",
    "    return f'rgb{tuple(C)}'"
   ]
  },
  {
   "cell_type": "code",
   "execution_count": 7,
   "metadata": {},
   "outputs": [],
   "source": [
    "def set_layout(title, plot_size):# set plot layout\n",
    "\n",
    "    return go.Layout(title=title,\n",
    "                     font=dict(size=12), \n",
    "                     xaxis=dict(visible=False, range=[-3.5, 4]),\n",
    "                     yaxis=dict(visible=False, range=[-4.5, 3.5]),\n",
    "                     showlegend=False,\n",
    "                     width=plot_size,\n",
    "                     height=plot_size,\n",
    "                     hovermode='closest')  "
   ]
  },
  {
   "cell_type": "code",
   "execution_count": 8,
   "metadata": {},
   "outputs": [],
   "source": [
    "def set_annotation(x, y, anno_text,  angle, fontsize=11): # annotations\n",
    "    return dict(x= x,  \n",
    "                y= y,       \n",
    "                text= anno_text,      \n",
    "                textangle=angle, # angle in degrees \n",
    "                font=dict(size=fontsize),  \n",
    "                showarrow=False     \n",
    "                     ) "
   ]
  },
  {
   "cell_type": "markdown",
   "metadata": {},
   "source": [
    "We visualize  countries happiness through a circular barchart. The height of each bar is proportional to the corresponding happiness score:"
   ]
  },
  {
   "cell_type": "code",
   "execution_count": 9,
   "metadata": {},
   "outputs": [],
   "source": [
    "bar_height = [score[k]/4.75 for k in range(N)]"
   ]
  },
  {
   "cell_type": "markdown",
   "metadata": {},
   "source": [
    "The bars are inserted along the unit circle, starting with the angular position $\\pi/2$, in the anti-clockwise direction: "
   ]
  },
  {
   "cell_type": "code",
   "execution_count": 10,
   "metadata": {},
   "outputs": [],
   "source": [
    "theta = [np.pi/2+(2*k+1)*np.pi/72  for k in range(N)] # angular position of base bar centers"
   ]
  },
  {
   "cell_type": "code",
   "execution_count": 11,
   "metadata": {},
   "outputs": [],
   "source": [
    "xi = [np.cos(theta[k]) for k in range(N)]# starting bar position\n",
    "yi = [np.sin(theta[k]) for k in range(N)]\n",
    "\n",
    "\n",
    "xf = [(bar_height[k]+1)*np.cos(theta[k]) for k in range(N)]#end bar position\n",
    "yf = [(bar_height[k]+1)*np.sin(theta[k]) for k in range(N)]\n",
    "\n",
    "xm = [(xi[k]+xf[k])*0.5   for k in range(N)]#mid bar position for inserting hovering text\n",
    "ym = [(yi[k]+yf[k])*0.5   for k in range(N)]\n",
    "\n",
    "xpos_t = [(bar_height[k]+1.32)*np.cos(theta[k]) for k in range(N)]#text position\n",
    "ypos_t = [(bar_height[k]+1.32)*np.sin(theta[k]) for k in range(N)]"
   ]
  },
  {
   "cell_type": "markdown",
   "metadata": {},
   "source": [
    "The decreased level of happiness is illustrated through  the Viridis colormap:"
   ]
  },
  {
   "cell_type": "code",
   "execution_count": 12,
   "metadata": {},
   "outputs": [],
   "source": [
    "import matplotlib.cm as cm\n",
    "cmap = cm.viridis"
   ]
  },
  {
   "cell_type": "code",
   "execution_count": 13,
   "metadata": {},
   "outputs": [],
   "source": [
    "vmin = score[-1]\n",
    "vmax = score[0]\n",
    "bar_colors = [map_z2color(score[k], cmap, score[-1], score[0]) for k in range(N)]"
   ]
  },
  {
   "cell_type": "markdown",
   "metadata": {},
   "source": [
    "Define the hover text:"
   ]
  },
  {
   "cell_type": "code",
   "execution_count": 14,
   "metadata": {},
   "outputs": [],
   "source": [
    "text = [f'{country[k]}<br>Score: {round(score[k],3)}<br>World rank: {world_rk[k]}'  for  k in range(len(score))]"
   ]
  },
  {
   "cell_type": "markdown",
   "metadata": {},
   "source": [
    "Set position of the hover text inside bars:"
   ]
  },
  {
   "cell_type": "code",
   "execution_count": 15,
   "metadata": {},
   "outputs": [],
   "source": [
    "trace = go.Scatter(x=xm,\n",
    "                   y=ym,\n",
    "                   name='',\n",
    "                   mode='markers' ,\n",
    "                   marker=dict(size=0.05, color=bar_colors[15]),\n",
    "                   text=text,\n",
    "                   hoverinfo='text')\n",
    "tracet = go.Scatter(x=xf,\n",
    "                    y=yf,\n",
    "                    name='',\n",
    "                    mode='markers' ,\n",
    "                    marker=dict(size=0.05, color=bar_colors[15]), \n",
    "                    text=text,\n",
    "                    hoverinfo='text')"
   ]
  },
  {
   "cell_type": "code",
   "execution_count": 16,
   "metadata": {},
   "outputs": [],
   "source": [
    "traceB = [go.Scatter(x=[xi[k], xf[k], None], # Circular bars are drawn as lines of width 9\n",
    "                     y=[yi[k], yf[k], None], \n",
    "                     mode='lines', \n",
    "                     line=dict(color=bar_colors[k], width=9.6),\n",
    "                     hoverinfo='none')  for k in range(N)]\n"
   ]
  },
  {
   "cell_type": "code",
   "execution_count": 17,
   "metadata": {},
   "outputs": [],
   "source": [
    "title = \"Europe Happiness Score and Global Ranking\"+\\\n",
    "\"<br>Data: World Happiness Report, 2016\"+\\\n",
    "\"<a href='http://worldhappiness.report/wp-content/uploads/sites/2/2016/03/HR-V1_web.pdf'> [1]</a>\"\n",
    "layout = set_layout('', 900)"
   ]
  },
  {
   "cell_type": "code",
   "execution_count": 18,
   "metadata": {},
   "outputs": [],
   "source": [
    "annotext_angle = [(-(180*np.arctan(yi[k]/xi[k])/np.pi)) for k in range(N)]# angles in degrees, computed following \n",
    "                                                                          #Plotly reversed trigonometric rule"
   ]
  },
  {
   "cell_type": "markdown",
   "metadata": {},
   "source": [
    "Define and insert annotations in plot layout:"
   ]
  },
  {
   "cell_type": "code",
   "execution_count": 19,
   "metadata": {},
   "outputs": [],
   "source": [
    "annot = []\n",
    "for k in range(N):\n",
    "    annot += [set_annotation(xpos_t[k], ypos_t[k], country[k],  annotext_angle[k],  fontsize=10)]\n",
    "annot += [set_annotation(0.5, 0.1, title, 0 ) ]    "
   ]
  },
  {
   "cell_type": "code",
   "execution_count": 20,
   "metadata": {},
   "outputs": [],
   "source": [
    "fig = go.FigureWidget(data=traceB+[trace, tracet], layout=layout)"
   ]
  },
  {
   "cell_type": "code",
   "execution_count": 21,
   "metadata": {},
   "outputs": [
    {
     "data": {
      "application/vnd.jupyter.widget-view+json": {
       "model_id": "267d48d86fc64a30beca02ea85a8026c",
       "version_major": 2,
       "version_minor": 0
      },
      "text/plain": [
       "FigureWidget({\n",
       "    'data': [{'hoverinfo': 'none',\n",
       "              'line': {'color': 'rgb(253, 231, 36)', 'width'…"
      ]
     },
     "metadata": {},
     "output_type": "display_data"
    }
   ],
   "source": [
    "fig.layout.update(annotations=annot,\n",
    "                  plot_bgcolor='rgb(245,245,245)');\n",
    "fig"
   ]
  },
  {
   "cell_type": "code",
   "execution_count": null,
   "metadata": {},
   "outputs": [],
   "source": []
  }
 ],
 "metadata": {
  "kernelspec": {
   "display_name": "Python 3",
   "language": "python",
   "name": "python3"
  },
  "language_info": {
   "codemirror_mode": {
    "name": "ipython",
    "version": 3
   },
   "file_extension": ".py",
   "mimetype": "text/x-python",
   "name": "python",
   "nbconvert_exporter": "python",
   "pygments_lexer": "ipython3",
   "version": "3.7.1"
  },
  "widgets": {
   "application/vnd.jupyter.widget-state+json": {
    "state": {
     "267d48d86fc64a30beca02ea85a8026c": {
      "model_module": "plotlywidget",
      "model_module_version": "^0.11.0",
      "model_name": "FigureModel",
      "state": {
       "_config": {
        "plotlyServerURL": "https://plot.ly"
       },
       "_data": [
        {
         "hoverinfo": "none",
         "line": {
          "color": "rgb(253, 231, 36)",
          "width": 9.6
         },
         "mode": "lines",
         "type": "scatter",
         "uid": "844be6ea-0dad-4bc9-b1dc-661ba1ed15e6",
         "x": [
          -0.04361938736533589,
          -0.11273086300986597,
          null
         ],
         "y": [
          0.9990482215818578,
          2.581961256450292,
          null
         ]
        },
        {
         "hoverinfo": "none",
         "line": {
          "color": "rgb(250, 230, 34)",
          "width": 9.6
         },
         "mode": "lines",
         "type": "scatter",
         "uid": "ee68f0e4-fbdf-4f08-b801-5d7bbc35a405",
         "x": [
          -0.1305261922200516,
          -0.3368674927211816,
          null
         ],
         "y": [
          0.9914448613738104,
          2.5587626432803243,
          null
         ]
        },
        {
         "hoverinfo": "none",
         "line": {
          "color": "rgb(250, 230, 34)",
          "width": 9.6
         },
         "mode": "lines",
         "type": "scatter",
         "uid": "3765e99b-6763-4448-bdeb-2c81fa42774a",
         "x": [
          -0.2164396139381028,
          -0.5582319390222521,
          null
         ],
         "y": [
          0.9762960071199334,
          2.5180215543634326,
          null
         ]
        },
        {
         "hoverinfo": "none",
         "line": {
          "color": "rgb(248, 230, 33)",
          "width": 9.6
         },
         "mode": "lines",
         "type": "scatter",
         "uid": "b5a4b90e-ef85-4425-a93f-73e6e151ad0f",
         "x": [
          -0.3007057995042731,
          -0.7753778173322815,
          null
         ],
         "y": [
          0.9537169507482269,
          2.459184255318797,
          null
         ]
        },
        {
         "hoverinfo": "none",
         "line": {
          "color": "rgb(233, 228, 25)",
          "width": 9.6
         },
         "mode": "lines",
         "type": "scatter",
         "uid": "814e1e16-6064-452a-80fb-933213f47d65",
         "x": [
          -0.3826834323650897,
          -0.9799112816540181,
          null
         ],
         "y": [
          0.9238795325112867,
          2.3657151060915327,
          null
         ]
        },
        {
         "hoverinfo": "none",
         "line": {
          "color": "rgb(218, 226, 24)",
          "width": 9.6
         },
         "mode": "lines",
         "type": "scatter",
         "uid": "22133b55-1ce9-4253-953c-637e0c1f0b63",
         "x": [
          -0.4617486132350338,
          -1.1751745232417523,
          null
         ],
         "y": [
          0.8870108331782218,
          2.257489255219268,
          null
         ]
        },
        {
         "hoverinfo": "none",
         "line": {
          "color": "rgb(207, 225, 28)",
          "width": 9.6
         },
         "mode": "lines",
         "type": "scatter",
         "uid": "3967fba4-46df-4313-ab78-7300ee554bed",
         "x": [
          -0.537299608346824,
          -1.3620262282324438,
          null
         ],
         "y": [
          0.8433914458128856,
          2.137952926112201,
          null
         ]
        },
        {
         "hoverinfo": "none",
         "line": {
          "color": "rgb(202, 224, 30)",
          "width": 9.6
         },
         "mode": "lines",
         "type": "scatter",
         "uid": "9fc2214c-3d3c-4241-ba66-67b6b8ceaebc",
         "x": [
          -0.6087614290087207,
          -1.5401023352416412,
          null
         ],
         "y": [
          0.7933533402912352,
          2.0071004400588994,
          null
         ]
        },
        {
         "hoverinfo": "none",
         "line": {
          "color": "rgb(173, 220, 48)",
          "width": 9.6
         },
         "mode": "lines",
         "type": "scatter",
         "uid": "1617c001-fb85-4024-93b9-5112276d8b13",
         "x": [
          -0.6755902076156602,
          -1.6881221419347938,
          null
         ],
         "y": [
          0.7372773368101241,
          1.8422620443367077,
          null
         ]
        },
        {
         "hoverinfo": "none",
         "line": {
          "color": "rgb(146, 215, 65)",
          "width": 9.6
         },
         "mode": "lines",
         "type": "scatter",
         "uid": "8f6e7306-5624-4450-8642-e7e82cf60fd0",
         "x": [
          -0.737277336810124,
          -1.8228600091574938,
          null
         ],
         "y": [
          0.6755902076156604,
          1.670343452260698,
          null
         ]
        },
        {
         "hoverinfo": "none",
         "line": {
          "color": "rgb(134, 212, 73)",
          "width": 9.6
         },
         "mode": "lines",
         "type": "scatter",
         "uid": "48954253-744c-42f3-a77f-7584bd3a8dc0",
         "x": [
          -0.793353340291235,
          -1.9506470865813332,
          null
         ],
         "y": [
          0.6087614290087209,
          1.4967841535563895,
          null
         ]
        },
        {
         "hoverinfo": "none",
         "line": {
          "color": "rgb(131, 211, 75)",
          "width": 9.6
         },
         "mode": "lines",
         "type": "scatter",
         "uid": "92e5c97c-4436-4bab-b6fd-a17327716e83",
         "x": [
          -0.8433914458128855,
          -2.0697713860717486,
          null
         ],
         "y": [
          0.5372996083468241,
          1.3185897967366167,
          null
         ]
        },
        {
         "hoverinfo": "none",
         "line": {
          "color": "rgb(124, 210, 79)",
          "width": 9.6
         },
         "mode": "lines",
         "type": "scatter",
         "uid": "cb472954-a0e0-4c60-a22d-1eca201adb8c",
         "x": [
          -0.8870108331782217,
          -2.1700953457608665,
          null
         ],
         "y": [
          0.4617486132350339,
          1.1296801335588063,
          null
         ]
        },
        {
         "hoverinfo": "none",
         "line": {
          "color": "rgb(98, 202, 95)",
          "width": 9.6
         },
         "mode": "lines",
         "type": "scatter",
         "uid": "1e83b648-642a-456b-86f0-beb82ce49f21",
         "x": [
          -0.9238795325112867,
          -2.231898449593056,
          null
         ],
         "y": [
          0.3826834323650899,
          0.9244826076609276,
          null
         ]
        },
        {
         "hoverinfo": "none",
         "line": {
          "color": "rgb(77, 194, 107)",
          "width": 9.6
         },
         "mode": "lines",
         "type": "scatter",
         "uid": "d8acdc11-8583-4361-8796-ba7870b68690",
         "x": [
          -0.953716950748227,
          -2.278078425934607,
          null
         ],
         "y": [
          0.3007057995042729,
          0.7182753686685222,
          null
         ]
        },
        {
         "hoverinfo": "none",
         "line": {
          "color": "rgb(61, 187, 116)",
          "width": 9.6
         },
         "mode": "lines",
         "type": "scatter",
         "uid": "494e2a01-dbc9-4d6e-a501-b21c962cfd6e",
         "x": [
          -0.9762960071199334,
          -2.309813584845013,
          null
         ],
         "y": [
          0.21643961393810274,
          0.5120733434602945,
          null
         ]
        },
        {
         "hoverinfo": "none",
         "line": {
          "color": "rgb(59, 186, 117)",
          "width": 9.6
         },
         "mode": "lines",
         "type": "scatter",
         "uid": "2725c6f6-58c4-48eb-bca3-dfcce7f992ff",
         "x": [
          -0.9914448613738104,
          -2.3435669270537143,
          null
         ],
         "y": [
          0.13052619222005157,
          0.3085364392098398,
          null
         ]
        },
        {
         "hoverinfo": "none",
         "line": {
          "color": "rgb(46, 178, 124)",
          "width": 9.6
         },
         "mode": "lines",
         "type": "scatter",
         "uid": "d7c12008-14cf-465f-998f-f2d3f607e78a",
         "x": [
          -0.9990482215818578,
          -2.3369315347360047,
          null
         ],
         "y": [
          0.04361938736533607,
          0.10203263431921034,
          null
         ]
        },
        {
         "hoverinfo": "none",
         "line": {
          "color": "rgb(30, 158, 136)",
          "width": 9.6
         },
         "mode": "lines",
         "type": "scatter",
         "uid": "ab9dd17d-3208-4934-a2df-095bb10e8125",
         "x": [
          -0.9990482215818578,
          -2.2774092933238643,
          null
         ],
         "y": [
          -0.04361938736533583,
          -0.09943383713512764,
          null
         ]
        },
        {
         "hoverinfo": "none",
         "line": {
          "color": "rgb(30, 152, 138)",
          "width": 9.6
         },
         "mode": "lines",
         "type": "scatter",
         "uid": "15d1368f-23dd-4edb-a1b7-83aead3ea0a7",
         "x": [
          -0.9914448613738105,
          -2.2410828371727587,
          null
         ],
         "y": [
          -0.13052619222005132,
          -0.29504415281404023,
          null
         ]
        },
        {
         "hoverinfo": "none",
         "line": {
          "color": "rgb(30, 152, 138)",
          "width": 9.6
         },
         "mode": "lines",
         "type": "scatter",
         "uid": "668898d0-0851-4b50-b09e-279583dadd31",
         "x": [
          -0.9762960071199335,
          -2.2047846880790583,
          null
         ],
         "y": [
          -0.21643961393810252,
          -0.4887889976240054,
          null
         ]
        },
        {
         "hoverinfo": "none",
         "line": {
          "color": "rgb(31, 147, 139)",
          "width": 9.6
         },
         "mode": "lines",
         "type": "scatter",
         "uid": "b336e056-db55-4a28-9a8d-b241dc83bf40",
         "x": [
          -0.953716950748227,
          -2.1421486626384914,
          null
         ],
         "y": [
          -0.3007057995042727,
          -0.6754168789286494,
          null
         ]
        },
        {
         "hoverinfo": "none",
         "line": {
          "color": "rgb(32, 145, 140)",
          "width": 9.6
         },
         "mode": "lines",
         "type": "scatter",
         "uid": "76da8dcc-3458-489a-b843-263b80aa3799",
         "x": [
          -0.9238795325112868,
          -2.0708516595047732,
          null
         ],
         "y": [
          -0.38268343236508967,
          -0.8577748430297074,
          null
         ]
        },
        {
         "hoverinfo": "none",
         "line": {
          "color": "rgb(33, 142, 140)",
          "width": 9.6
         },
         "mode": "lines",
         "type": "scatter",
         "uid": "025a795e-a54c-4bb4-ae9e-448cd8052e56",
         "x": [
          -0.8870108331782216,
          -1.980555136144888,
          null
         ],
         "y": [
          -0.46174861323503413,
          -1.0310117456780572,
          null
         ]
        },
        {
         "hoverinfo": "none",
         "line": {
          "color": "rgb(33, 141, 140)",
          "width": 9.6
         },
         "mode": "lines",
         "type": "scatter",
         "uid": "b35ec427-ff57-4bdb-af9c-f587c233d8bb",
         "x": [
          -0.8433914458128858,
          -1.8794312534588204,
          null
         ],
         "y": [
          -0.5372996083468236,
          -1.1973297588107636,
          null
         ]
        },
        {
         "hoverinfo": "none",
         "line": {
          "color": "rgb(34, 139, 141)",
          "width": 9.6
         },
         "mode": "lines",
         "type": "scatter",
         "uid": "07c6cd7e-3a33-4f06-992b-5447193bb053",
         "x": [
          -0.7933533402912352,
          -1.7642508070518563,
          null
         ],
         "y": [
          -0.6087614290087207,
          -1.3537572578145507,
          null
         ]
        },
        {
         "hoverinfo": "none",
         "line": {
          "color": "rgb(34, 138, 141)",
          "width": 9.6
         },
         "mode": "lines",
         "type": "scatter",
         "uid": "90e18754-e451-45a9-b965-d14d4a3e5db6",
         "x": [
          -0.7372773368101241,
          -1.6378422016885115,
          null
         ],
         "y": [
          -0.6755902076156601,
          -1.500805867528515,
          null
         ]
        },
        {
         "hoverinfo": "none",
         "line": {
          "color": "rgb(35, 137, 141)",
          "width": 9.6
         },
         "mode": "lines",
         "type": "scatter",
         "uid": "ee6b5938-581f-4c7c-9fd4-ae5583b9dc1b",
         "x": [
          -0.6755902076156604,
          -1.4963967524893393,
          null
         ],
         "y": [
          -0.7372773368101239,
          -1.6330304969640657,
          null
         ]
        },
        {
         "hoverinfo": "none",
         "line": {
          "color": "rgb(35, 136, 141)",
          "width": 9.6
         },
         "mode": "lines",
         "type": "scatter",
         "uid": "8ff4abda-ee4d-4e1f-8d31-3764a59446cc",
         "x": [
          -0.6087614290087209,
          -1.347990044276574,
          null
         ],
         "y": [
          -0.7933533402912349,
          -1.7567348280385704,
          null
         ]
        },
        {
         "hoverinfo": "none",
         "line": {
          "color": "rgb(41, 121, 142)",
          "width": 9.6
         },
         "mode": "lines",
         "type": "scatter",
         "uid": "aa2befd7-d7fb-48fb-af10-7ba30fa870c5",
         "x": [
          -0.5372996083468242,
          -1.1662229393801593,
          null
         ],
         "y": [
          -0.8433914458128855,
          -1.8306033276485996,
          null
         ]
        },
        {
         "hoverinfo": "none",
         "line": {
          "color": "rgb(41, 120, 142)",
          "width": 9.6
         },
         "mode": "lines",
         "type": "scatter",
         "uid": "d1228265-e2d3-4e46-b7c8-1f017f62db6c",
         "x": [
          -0.46174861323503436,
          -1.000876573024824,
          null
         ],
         "y": [
          -0.8870108331782215,
          -1.9226660080848352,
          null
         ]
        },
        {
         "hoverinfo": "none",
         "line": {
          "color": "rgb(42, 119, 142)",
          "width": 9.6
         },
         "mode": "lines",
         "type": "scatter",
         "uid": "166c5888-6b21-46e1-b356-649c71726a2c",
         "x": [
          -0.38268343236509034,
          -0.828046382704926,
          null
         ],
         "y": [
          -0.9238795325112865,
          -1.999080807400211,
          null
         ]
        },
        {
         "hoverinfo": "none",
         "line": {
          "color": "rgb(42, 118, 142)",
          "width": 9.6
         },
         "mode": "lines",
         "type": "scatter",
         "uid": "b48a035e-2cdc-462b-bae7-463ee283a3f9",
         "x": [
          -0.3007057995042738,
          -0.6499676723179746,
          null
         ],
         "y": [
          -0.9537169507482267,
          -2.061434091227799,
          null
         ]
        },
        {
         "hoverinfo": "none",
         "line": {
          "color": "rgb(43, 116, 142)",
          "width": 9.6
         },
         "mode": "lines",
         "type": "scatter",
         "uid": "f4f9d826-4724-4c0a-8dc6-6facacddf7aa",
         "x": [
          -0.21643961393810368,
          -0.4665071089470116,
          null
         ],
         "y": [
          -0.9762960071199331,
          -2.1042775833460787,
          null
         ]
        },
        {
         "hoverinfo": "none",
         "line": {
          "color": "rgb(46, 109, 142)",
          "width": 9.6
         },
         "mode": "lines",
         "type": "scatter",
         "uid": "211b72bf-dbf5-43ff-8126-9394d19006b9",
         "x": [
          -0.13052619222005163,
          -0.27894134257384084,
          null
         ],
         "y": [
          -0.9914448613738104,
          -2.118769850064326,
          null
         ]
        },
        {
         "hoverinfo": "none",
         "line": {
          "color": "rgb(46, 108, 142)",
          "width": 9.6
         },
         "mode": "lines",
         "type": "scatter",
         "uid": "d754b338-b275-4c83-8ee7-b9a597484936",
         "x": [
          -0.04361938736533613,
          -0.09310673020992485,
          null
         ],
         "y": [
          -0.9990482215818578,
          -2.1324947197091486,
          null
         ]
        },
        {
         "hoverinfo": "none",
         "line": {
          "color": "rgb(49, 101, 141)",
          "width": 9.6
         },
         "mode": "lines",
         "type": "scatter",
         "uid": "a0484781-dbe3-473b-81df-727763776fde",
         "x": [
          0.043619387365335764,
          0.0922067933758603,
          null
         ],
         "y": [
          -0.9990482215818578,
          -2.1118827774533546,
          null
         ]
        },
        {
         "hoverinfo": "none",
         "line": {
          "color": "rgb(53, 92, 140)",
          "width": 9.6
         },
         "mode": "lines",
         "type": "scatter",
         "uid": "63eeec53-694e-4f83-8473-73835e056570",
         "x": [
          0.13052619222005127,
          0.2727860021407261,
          null
         ],
         "y": [
          -0.9914448613738105,
          -2.0720153976542774,
          null
         ]
        },
        {
         "hoverinfo": "none",
         "line": {
          "color": "rgb(54, 91, 140)",
          "width": 9.6
         },
         "mode": "lines",
         "type": "scatter",
         "uid": "984d935f-99aa-4b6f-a175-c2d80e20a9b8",
         "x": [
          0.21643961393810332,
          0.45169808273019324,
          null
         ],
         "y": [
          -0.9762960071199333,
          -2.0374783828589256,
          null
         ]
        },
        {
         "hoverinfo": "none",
         "line": {
          "color": "rgb(54, 91, 140)",
          "width": 9.6
         },
         "mode": "lines",
         "type": "scatter",
         "uid": "890c0d1e-5887-40b3-8958-9068cad83823",
         "x": [
          0.30070579950427345,
          0.6274305639761799,
          null
         ],
         "y": [
          -0.9537169507482268,
          -1.9899555155506687,
          null
         ]
        },
        {
         "hoverinfo": "none",
         "line": {
          "color": "rgb(55, 89, 140)",
          "width": 9.6
         },
         "mode": "lines",
         "type": "scatter",
         "uid": "851f95e0-969a-4e82-be2d-37133dbf9b9c",
         "x": [
          0.38268343236509,
          0.7971900133163295,
          null
         ],
         "y": [
          -0.9238795325112866,
          -1.9245869419366695,
          null
         ]
        },
        {
         "hoverinfo": "none",
         "line": {
          "color": "rgb(55, 88, 140)",
          "width": 9.6
         },
         "mode": "lines",
         "type": "scatter",
         "uid": "7a9c4466-16f5-40f1-8795-0f6739baed41",
         "x": [
          0.4617486132350341,
          0.959756643888314,
          null
         ],
         "y": [
          -0.8870108331782216,
          -1.8436753591512804,
          null
         ]
        },
        {
         "hoverinfo": "none",
         "line": {
          "color": "rgb(56, 87, 140)",
          "width": 9.6
         },
         "mode": "lines",
         "type": "scatter",
         "uid": "8ecd81da-f1f4-411d-ae4a-c4017829b43a",
         "x": [
          0.5372996083468239,
          1.1165651439982103,
          null
         ],
         "y": [
          -0.8433914458128857,
          -1.7526562024461043,
          null
         ]
        },
        {
         "hoverinfo": "none",
         "line": {
          "color": "rgb(59, 81, 138)",
          "width": 9.6
         },
         "mode": "lines",
         "type": "scatter",
         "uid": "fc5a6082-d052-4195-a38a-478e0649f18e",
         "x": [
          0.6087614290087205,
          1.2537922231562766,
          null
         ],
         "y": [
          -0.7933533402912352,
          -1.6339738374882429,
          null
         ]
        },
        {
         "hoverinfo": "none",
         "line": {
          "color": "rgb(70, 45, 124)",
          "width": 9.6
         },
         "mode": "lines",
         "type": "scatter",
         "uid": "173c4864-f1fb-4cbc-aba3-c526158e345e",
         "x": [
          0.6755902076156601,
          1.337668611079007,
          null
         ],
         "y": [
          -0.7372773368101242,
          -1.4598091268840458,
          null
         ]
        },
        {
         "hoverinfo": "none",
         "line": {
          "color": "rgb(71, 17, 99)",
          "width": 9.6
         },
         "mode": "lines",
         "type": "scatter",
         "uid": "26da1779-74cc-40a9-98fc-2c0f63d1d547",
         "x": [
          0.7372773368101239,
          1.4140203238611007,
          null
         ],
         "y": [
          -0.6755902076156605,
          -1.2957109034481404,
          null
         ]
        },
        {
         "hoverinfo": "none",
         "line": {
          "color": "rgb(70, 12, 95)",
          "width": 9.6
         },
         "mode": "lines",
         "type": "scatter",
         "uid": "23eeaf66-7c66-49e3-8302-d7da74e570fd",
         "x": [
          0.7933533402912349,
          1.515555412590035,
          null
         ],
         "y": [
          -0.608761429008721,
          -1.162926569857923,
          null
         ]
        },
        {
         "hoverinfo": "none",
         "line": {
          "color": "rgb(68, 3, 87)",
          "width": 9.6
         },
         "mode": "lines",
         "type": "scatter",
         "uid": "64093bc2-1659-4471-a41d-5b987e624248",
         "x": [
          0.8433914458128855,
          1.5983599568858096,
          null
         ],
         "y": [
          -0.5372996083468242,
          -1.0182675945974973,
          null
         ]
        },
        {
         "hoverinfo": "none",
         "line": {
          "color": "rgb(68, 1, 84)",
          "width": 9.6
         },
         "mode": "lines",
         "type": "scatter",
         "uid": "87c9fd03-6a1b-41ea-bed9-5b5c01c10c48",
         "x": [
          0.8870108331782214,
          1.6744897139177075,
          null
         ],
         "y": [
          -0.4617486132350344,
          -0.8716841715533796,
          null
         ]
        },
        {
         "hoverinfo": "text",
         "marker": {
          "color": "rgb(61, 187, 116)",
          "size": 0.05
         },
         "mode": "markers",
         "name": "",
         "text": [
          "Denmark<br>Score: 7.526<br>World rank: 1",
          "Switzerland<br>Score: 7.509<br>World rank: 2",
          "Iceland<br>Score: 7.501<br>World rank: 3",
          "Norway<br>Score: 7.498<br>World rank: 4",
          "Finland<br>Score: 7.413<br>World rank: 5",
          "Netherlands<br>Score: 7.339<br>World rank: 7",
          "Sweden<br>Score: 7.291<br>World rank: 10",
          "Israel<br>Score: 7.267<br>World rank: 11",
          "Austria<br>Score: 7.119<br>World rank: 12",
          "Germany<br>Score: 6.994<br>World rank: 16",
          "Belgium<br>Score: 6.929<br>World rank: 18",
          "Ireland<br>Score: 6.907<br>World rank: 19",
          "Luxembourg<br>Score: 6.871<br>World rank: 20",
          "U Kingdom<br>Score: 6.725<br>World rank: 23",
          "Czech Rep<br>Score: 6.596<br>World rank: 27",
          "Malta<br>Score: 6.488<br>World rank: 30",
          "France<br>Score: 6.478<br>World rank: 32",
          "Spain<br>Score: 6.361<br>World rank: 37",
          "Slovakia<br>Score: 6.078<br>World rank: 45",
          "Uzbekistan<br>Score: 5.987<br>World rank: 49",
          "Italy<br>Score: 5.977<br>World rank: 50",
          "Kazakhstan<br>Score: 5.919<br>World rank: 54",
          "Moldova<br>Score: 5.897<br>World rank: 55",
          "Russia<br>Score: 5.856<br>World rank: 56",
          "Poland<br>Score: 5.835<br>World rank: 57",
          "Lithuania<br>Score: 5.813<br>World rank: 60",
          "Belarus<br>Score: 5.802<br>World rank: 61",
          "North Cyprus<br>Score: 5.771<br>World rank: 62",
          "Slovenia<br>Score: 5.768<br>World rank: 63",
          "Latvia<br>Score: 5.56<br>World rank: 68",
          "Cyprus<br>Score: 5.546<br>World rank: 69",
          "Romania<br>Score: 5.528<br>World rank: 71",
          "Estonia<br>Score: 5.517<br>World rank: 72",
          "Croatia<br>Score: 5.488<br>World rank: 74",
          "Kosovo<br>Score: 5.401<br>World rank: 77",
          "Turkey<br>Score: 5.389<br>World rank: 78",
          "Azerbaijan<br>Score: 5.291<br>World rank: 81",
          "Serbia<br>Score: 5.177<br>World rank: 86",
          "Bosn Herzeg<br>Score: 5.163<br>World rank: 87",
          "Montenegro<br>Score: 5.161<br>World rank: 88",
          "Hungary<br>Score: 5.145<br>World rank: 91",
          "Portugal<br>Score: 5.123<br>World rank: 94",
          "Macedonia<br>Score: 5.121<br>World rank: 95",
          "Greece<br>Score: 5.033<br>World rank: 99",
          "Albania<br>Score: 4.655<br>World rank: 109",
          "Armenia<br>Score: 4.36<br>World rank: 121",
          "Ukraine<br>Score: 4.324<br>World rank: 123",
          "Georgia<br>Score: 4.252<br>World rank: 126",
          "Bulgaria<br>Score: 4.217<br>World rank: 129"
         ],
         "type": "scatter",
         "uid": "e2b33cc7-1836-4b3e-9a4d-99c51ae6db08",
         "x": [
          -0.07817512518760093,
          -0.23369684247061662,
          -0.3873357764801775,
          -0.5380418084182773,
          -0.681297357009554,
          -0.8184615682383931,
          -0.9496629182896339,
          -1.074431882125181,
          -1.181856174775227,
          -1.2800686729838089,
          -1.372000213436284,
          -1.456581415942317,
          -1.528553089469544,
          -1.5778889910521712,
          -1.6158976883414171,
          -1.643054795982473,
          -1.6675058942137624,
          -1.6679898781589313,
          -1.6382287574528611,
          -1.6162638492732846,
          -1.590540347599496,
          -1.547932806693359,
          -1.49736559600803,
          -1.4337829846615548,
          -1.361411349635853,
          -1.2788020736715457,
          -1.1875597692493178,
          -1.0859934800524997,
          -0.9783757366426474,
          -0.8517612738634918,
          -0.7313125931299291,
          -0.6053649075350082,
          -0.4753367359111242,
          -0.34147336144255763,
          -0.20473376739694624,
          -0.06836305878763049,
          0.06791309037059803,
          0.20165609718038868,
          0.3340688483341483,
          0.4640681817402267,
          0.5899367228407097,
          0.7107526285616741,
          0.8269323761725171,
          0.9312768260824986,
          1.0066294093473336,
          1.0756488303356122,
          1.154454376440635,
          1.2208757013493474,
          1.2807502735479646
         ],
         "y": [
          1.7905047390160749,
          1.7751037523270674,
          1.747158780741683,
          1.7064506030335118,
          1.6447973193014098,
          1.572250044198745,
          1.4906721859625434,
          1.4002268901750674,
          1.289769690573416,
          1.1729668299381792,
          1.052772791282555,
          0.9279447025417205,
          0.7957143733969201,
          0.6535830200130087,
          0.5094905840863975,
          0.36425647869919864,
          0.2195313157149457,
          0.0728260108422732,
          -0.07152661225023174,
          -0.21278517251704576,
          -0.35261430578105396,
          -0.48806133921646105,
          -0.6202291376973985,
          -0.7463801794565457,
          -0.8673146835787936,
          -0.9812593434116357,
          -1.0881980375720874,
          -1.1851539168870948,
          -1.2750440841649027,
          -1.3369973867307425,
          -1.4048384206315283,
          -1.461480169955749,
          -1.5075755209880128,
          -1.540286795233006,
          -1.5551073557190682,
          -1.5657714706455033,
          -1.5554654995176063,
          -1.531730129514044,
          -1.5068871949894294,
          -1.471836233149448,
          -1.424233237223978,
          -1.365343096164751,
          -1.298023824129495,
          -1.2136635888897391,
          -1.098543231847085,
          -0.9856505555319004,
          -0.885843999433322,
          -0.7777836014721607,
          -0.666716392394207
         ]
        },
        {
         "hoverinfo": "text",
         "marker": {
          "color": "rgb(61, 187, 116)",
          "size": 0.05
         },
         "mode": "markers",
         "name": "",
         "text": [
          "Denmark<br>Score: 7.526<br>World rank: 1",
          "Switzerland<br>Score: 7.509<br>World rank: 2",
          "Iceland<br>Score: 7.501<br>World rank: 3",
          "Norway<br>Score: 7.498<br>World rank: 4",
          "Finland<br>Score: 7.413<br>World rank: 5",
          "Netherlands<br>Score: 7.339<br>World rank: 7",
          "Sweden<br>Score: 7.291<br>World rank: 10",
          "Israel<br>Score: 7.267<br>World rank: 11",
          "Austria<br>Score: 7.119<br>World rank: 12",
          "Germany<br>Score: 6.994<br>World rank: 16",
          "Belgium<br>Score: 6.929<br>World rank: 18",
          "Ireland<br>Score: 6.907<br>World rank: 19",
          "Luxembourg<br>Score: 6.871<br>World rank: 20",
          "U Kingdom<br>Score: 6.725<br>World rank: 23",
          "Czech Rep<br>Score: 6.596<br>World rank: 27",
          "Malta<br>Score: 6.488<br>World rank: 30",
          "France<br>Score: 6.478<br>World rank: 32",
          "Spain<br>Score: 6.361<br>World rank: 37",
          "Slovakia<br>Score: 6.078<br>World rank: 45",
          "Uzbekistan<br>Score: 5.987<br>World rank: 49",
          "Italy<br>Score: 5.977<br>World rank: 50",
          "Kazakhstan<br>Score: 5.919<br>World rank: 54",
          "Moldova<br>Score: 5.897<br>World rank: 55",
          "Russia<br>Score: 5.856<br>World rank: 56",
          "Poland<br>Score: 5.835<br>World rank: 57",
          "Lithuania<br>Score: 5.813<br>World rank: 60",
          "Belarus<br>Score: 5.802<br>World rank: 61",
          "North Cyprus<br>Score: 5.771<br>World rank: 62",
          "Slovenia<br>Score: 5.768<br>World rank: 63",
          "Latvia<br>Score: 5.56<br>World rank: 68",
          "Cyprus<br>Score: 5.546<br>World rank: 69",
          "Romania<br>Score: 5.528<br>World rank: 71",
          "Estonia<br>Score: 5.517<br>World rank: 72",
          "Croatia<br>Score: 5.488<br>World rank: 74",
          "Kosovo<br>Score: 5.401<br>World rank: 77",
          "Turkey<br>Score: 5.389<br>World rank: 78",
          "Azerbaijan<br>Score: 5.291<br>World rank: 81",
          "Serbia<br>Score: 5.177<br>World rank: 86",
          "Bosn Herzeg<br>Score: 5.163<br>World rank: 87",
          "Montenegro<br>Score: 5.161<br>World rank: 88",
          "Hungary<br>Score: 5.145<br>World rank: 91",
          "Portugal<br>Score: 5.123<br>World rank: 94",
          "Macedonia<br>Score: 5.121<br>World rank: 95",
          "Greece<br>Score: 5.033<br>World rank: 99",
          "Albania<br>Score: 4.655<br>World rank: 109",
          "Armenia<br>Score: 4.36<br>World rank: 121",
          "Ukraine<br>Score: 4.324<br>World rank: 123",
          "Georgia<br>Score: 4.252<br>World rank: 126",
          "Bulgaria<br>Score: 4.217<br>World rank: 129"
         ],
         "type": "scatter",
         "uid": "45dc7c01-e056-4013-8588-04c2033e04dc",
         "x": [
          -0.11273086300986597,
          -0.3368674927211816,
          -0.5582319390222521,
          -0.7753778173322815,
          -0.9799112816540181,
          -1.1751745232417523,
          -1.3620262282324438,
          -1.5401023352416412,
          -1.6881221419347938,
          -1.8228600091574938,
          -1.9506470865813332,
          -2.0697713860717486,
          -2.1700953457608665,
          -2.231898449593056,
          -2.278078425934607,
          -2.309813584845013,
          -2.3435669270537143,
          -2.3369315347360047,
          -2.2774092933238643,
          -2.2410828371727587,
          -2.2047846880790583,
          -2.1421486626384914,
          -2.0708516595047732,
          -1.980555136144888,
          -1.8794312534588204,
          -1.7642508070518563,
          -1.6378422016885115,
          -1.4963967524893393,
          -1.347990044276574,
          -1.1662229393801593,
          -1.000876573024824,
          -0.828046382704926,
          -0.6499676723179746,
          -0.4665071089470116,
          -0.27894134257384084,
          -0.09310673020992485,
          0.0922067933758603,
          0.2727860021407261,
          0.45169808273019324,
          0.6274305639761799,
          0.7971900133163295,
          0.959756643888314,
          1.1165651439982103,
          1.2537922231562766,
          1.337668611079007,
          1.4140203238611007,
          1.515555412590035,
          1.5983599568858096,
          1.6744897139177075
         ],
         "y": [
          2.581961256450292,
          2.5587626432803243,
          2.5180215543634326,
          2.459184255318797,
          2.3657151060915327,
          2.257489255219268,
          2.137952926112201,
          2.0071004400588994,
          1.8422620443367077,
          1.670343452260698,
          1.4967841535563895,
          1.3185897967366167,
          1.1296801335588063,
          0.9244826076609276,
          0.7182753686685222,
          0.5120733434602945,
          0.3085364392098398,
          0.10203263431921034,
          -0.09943383713512764,
          -0.29504415281404023,
          -0.4887889976240054,
          -0.6754168789286494,
          -0.8577748430297074,
          -1.0310117456780572,
          -1.1973297588107636,
          -1.3537572578145507,
          -1.500805867528515,
          -1.6330304969640657,
          -1.7567348280385704,
          -1.8306033276485996,
          -1.9226660080848352,
          -1.999080807400211,
          -2.061434091227799,
          -2.1042775833460787,
          -2.118769850064326,
          -2.1324947197091486,
          -2.1118827774533546,
          -2.0720153976542774,
          -2.0374783828589256,
          -1.9899555155506687,
          -1.9245869419366695,
          -1.8436753591512804,
          -1.7526562024461043,
          -1.6339738374882429,
          -1.4598091268840458,
          -1.2957109034481404,
          -1.162926569857923,
          -1.0182675945974973,
          -0.8716841715533796
         ]
        }
       ],
       "_js2py_pointsCallback": {},
       "_js2py_relayout": {},
       "_js2py_restyle": {},
       "_js2py_update": {},
       "_last_layout_edit_id": 1,
       "_last_trace_edit_id": 1,
       "_layout": {
        "annotations": [
         {
          "font": {
           "size": 10
          },
          "showarrow": false,
          "text": "Denmark",
          "textangle": 87.5,
          "x": -0.12668906696677348,
          "y": 2.901656687356487
         },
         {
          "font": {
           "size": 10
          },
          "showarrow": false,
          "text": "Switzerland",
          "textangle": 82.5,
          "x": -0.3786358742315981,
          "y": 2.8760249989199442
         },
         {
          "font": {
           "size": 10
          },
          "showarrow": false,
          "text": "Iceland",
          "textangle": 77.5,
          "x": -0.627492615482445,
          "y": 2.830436276641811
         },
         {
          "font": {
           "size": 10
          },
          "showarrow": false,
          "text": "Norway",
          "textangle": 72.5,
          "x": -0.8716036731736488,
          "y": 2.764373679558229
         },
         {
          "font": {
           "size": 10
          },
          "showarrow": false,
          "text": "Finland",
          "textangle": 67.5,
          "x": -1.1023699800108469,
          "y": 2.6613565564951447
         },
         {
          "font": {
           "size": 10
          },
          "showarrow": false,
          "text": "Netherlands",
          "textangle": 62.5,
          "x": -1.322934079476963,
          "y": 2.541332721836299
         },
         {
          "font": {
           "size": 10
          },
          "showarrow": false,
          "text": "Sweden",
          "textangle": 57.5,
          "x": -1.5339621029034276,
          "y": 2.407838188772325
         },
         {
          "font": {
           "size": 10
          },
          "showarrow": false,
          "text": "Israel",
          "textangle": 52.5,
          "x": -1.7349059925244321,
          "y": 2.260973508952095
         },
         {
          "font": {
           "size": 10
          },
          "showarrow": false,
          "text": "Austria",
          "textangle": 47.5,
          "x": -1.9043110083718053,
          "y": 2.0781907921159477
         },
         {
          "font": {
           "size": 10
          },
          "showarrow": false,
          "text": "Germany",
          "textangle": 42.5,
          "x": -2.0587887569367336,
          "y": 1.8865323186977094
         },
         {
          "font": {
           "size": 10
          },
          "showarrow": false,
          "text": "Belgium",
          "textangle": 37.5,
          "x": -2.204520155474529,
          "y": 1.6915878108391804
         },
         {
          "font": {
           "size": 10
          },
          "showarrow": false,
          "text": "Ireland",
          "textangle": 32.50000000000003,
          "x": -2.3396566487318724,
          "y": 1.4905256714076005
         },
         {
          "font": {
           "size": 10
          },
          "showarrow": false,
          "text": "Luxembourg",
          "textangle": 27.5,
          "x": -2.4539388123778973,
          "y": 1.277439689794017
         },
         {
          "font": {
           "size": 10
          },
          "showarrow": false,
          "text": "U Kingdom",
          "textangle": 22.5,
          "x": -2.527539899996668,
          "y": 1.0469413060177564
         },
         {
          "font": {
           "size": 10
          },
          "showarrow": false,
          "text": "Czech Rep",
          "textangle": 17.49999999999997,
          "x": -2.5832678501740403,
          "y": 0.8145012245098896
         },
         {
          "font": {
           "size": 10
          },
          "showarrow": false,
          "text": "Malta",
          "textangle": 12.5,
          "x": -2.622228307123392,
          "y": 0.5813340199204873
         },
         {
          "font": {
           "size": 10
          },
          "showarrow": false,
          "text": "France",
          "textangle": 7.5,
          "x": -2.6608292826933337,
          "y": 0.3503048207202563
         },
         {
          "font": {
           "size": 10
          },
          "showarrow": false,
          "text": "Spain",
          "textangle": 2.5,
          "x": -2.6566269656421992,
          "y": 0.11599083827611789
         },
         {
          "font": {
           "size": 10
          },
          "showarrow": false,
          "text": "Slovakia",
          "textangle": -2.5,
          "x": -2.5971047242300593,
          "y": -0.11339204109203511
         },
         {
          "font": {
           "size": 10
          },
          "showarrow": false,
          "text": "Uzbekistan",
          "textangle": -7.499999999999972,
          "x": -2.558345192812378,
          "y": -0.3368125343244566
         },
         {
          "font": {
           "size": 10
          },
          "showarrow": false,
          "text": "Italy",
          "textangle": -12.499999999999972,
          "x": -2.517199410357437,
          "y": -0.5580496740841983
         },
         {
          "font": {
           "size": 10
          },
          "showarrow": false,
          "text": "Kazakhstan",
          "textangle": -17.49999999999997,
          "x": -2.447338086877924,
          "y": -0.7716427347700168
         },
         {
          "font": {
           "size": 10
          },
          "showarrow": false,
          "text": "Moldova",
          "textangle": -22.5,
          "x": -2.366493109908385,
          "y": -0.9802335413865361
         },
         {
          "font": {
           "size": 10
          },
          "showarrow": false,
          "text": "Russia",
          "textangle": -27.5,
          "x": -2.2643986027619194,
          "y": -1.1787713019132684
         },
         {
          "font": {
           "size": 10
          },
          "showarrow": false,
          "text": "Poland",
          "textangle": -32.49999999999997,
          "x": -2.149316516118944,
          "y": -1.3692656334817472
         },
         {
          "font": {
           "size": 10
          },
          "showarrow": false,
          "text": "Lithuania",
          "textangle": -37.5,
          "x": -2.0181238759450513,
          "y": -1.5485609150973414
         },
         {
          "font": {
           "size": 10
          },
          "showarrow": false,
          "text": "Belarus",
          "textangle": -42.5,
          "x": -1.8737709494677512,
          "y": -1.716994733965526
         },
         {
          "font": {
           "size": 10
          },
          "showarrow": false,
          "text": "North Cyprus",
          "textangle": -47.5,
          "x": -1.7125856189263509,
          "y": -1.8689592447433057
         },
         {
          "font": {
           "size": 10
          },
          "showarrow": false,
          "text": "Slovenia",
          "textangle": -52.499999999999986,
          "x": -1.5427937015593645,
          "y": -2.0106078969317656
         },
         {
          "font": {
           "size": 10
          },
          "showarrow": false,
          "text": "Latvia",
          "textangle": -57.49999999999997,
          "x": -1.3381588140511433,
          "y": -2.100488590308723
         },
         {
          "font": {
           "size": 10
          },
          "showarrow": false,
          "text": "Cyprus",
          "textangle": -62.49999999999997,
          "x": -1.1486361292600349,
          "y": -2.2065094747018663
         },
         {
          "font": {
           "size": 10
          },
          "showarrow": false,
          "text": "Romania",
          "textangle": -67.49999999999997,
          "x": -0.950505081061755,
          "y": -2.294722257803823
         },
         {
          "font": {
           "size": 10
          },
          "showarrow": false,
          "text": "Estonia",
          "textangle": -72.49999999999997,
          "x": -0.7461935281593423,
          "y": -2.3666235154672317
         },
         {
          "font": {
           "size": 10
          },
          "showarrow": false,
          "text": "Croatia",
          "textangle": -77.49999999999996,
          "x": -0.5357677854072048,
          "y": -2.4166923056244576
         },
         {
          "font": {
           "size": 10
          },
          "showarrow": false,
          "text": "Kosovo",
          "textangle": -82.49999999999999,
          "x": -0.3207097240842574,
          "y": -2.4360322057039454
         },
         {
          "font": {
           "size": 10
          },
          "showarrow": false,
          "text": "Turkey",
          "textangle": -87.49999999999999,
          "x": -0.10706493416683241,
          "y": -2.452190150615343
         },
         {
          "font": {
           "size": 10
          },
          "showarrow": false,
          "text": "Azerbaijan",
          "textangle": 87.5,
          "x": 0.10616499733276774,
          "y": -2.4315782083595487
         },
         {
          "font": {
           "size": 10
          },
          "showarrow": false,
          "text": "Serbia",
          "textangle": 82.5,
          "x": 0.3145543836511425,
          "y": -2.389277753293897
         },
         {
          "font": {
           "size": 10
          },
          "showarrow": false,
          "text": "Bosn Herzeg",
          "textangle": 77.5,
          "x": 0.5209587591903864,
          "y": -2.3498931051373044
         },
         {
          "font": {
           "size": 10
          },
          "showarrow": false,
          "text": "Montenegro",
          "textangle": 72.5,
          "x": 0.7236564198175475,
          "y": -2.2951449397901014
         },
         {
          "font": {
           "size": 10
          },
          "showarrow": false,
          "text": "Hungary",
          "textangle": 67.5,
          "x": 0.9196487116731584,
          "y": -2.2202283923402817
         },
         {
          "font": {
           "size": 10
          },
          "showarrow": false,
          "text": "Portugal",
          "textangle": 62.5,
          "x": 1.1075162001235248,
          "y": -2.1275188257683113
         },
         {
          "font": {
           "size": 10
          },
          "showarrow": false,
          "text": "Macedonia",
          "textangle": 57.5,
          "x": 1.2885010186691939,
          "y": -2.0225414651062277
         },
         {
          "font": {
           "size": 10
          },
          "showarrow": false,
          "text": "Greece",
          "textangle": 52.5,
          "x": 1.4485958804390673,
          "y": -1.8878469063814385
         },
         {
          "font": {
           "size": 10
          },
          "showarrow": false,
          "text": "Albania",
          "textangle": 47.5,
          "x": 1.5538574775160185,
          "y": -1.6957378746632858
         },
         {
          "font": {
           "size": 10
          },
          "showarrow": false,
          "text": "Armenia",
          "textangle": 42.50000000000003,
          "x": 1.6499490716403404,
          "y": -1.5118997698851517
         },
         {
          "font": {
           "size": 10
          },
          "showarrow": false,
          "text": "Ukraine",
          "textangle": 37.50000000000003,
          "x": 1.7694284814832302,
          "y": -1.3577302271407137
         },
         {
          "font": {
           "size": 10
          },
          "showarrow": false,
          "text": "Georgia",
          "textangle": 32.50000000000003,
          "x": 1.8682452195459327,
          "y": -1.1902034692684809
         },
         {
          "font": {
           "size": 10
          },
          "showarrow": false,
          "text": "Bulgaria",
          "textangle": 27.50000000000003,
          "x": 1.9583331805347384,
          "y": -1.0194437277885906
         },
         {
          "font": {
           "size": 11
          },
          "showarrow": false,
          "text": "Europe Happiness Score and Global Ranking<br>Data: World Happiness Report, 2016<a href='http://worldhappiness.report/wp-content/uploads/sites/2/2016/03/HR-V1_web.pdf'> [1]</a>",
          "textangle": 0,
          "x": 0.5,
          "y": 0.1
         }
        ],
        "font": {
         "size": 12
        },
        "height": 900,
        "hovermode": "closest",
        "plot_bgcolor": "rgb(245,245,245)",
        "showlegend": false,
        "template": {},
        "title": {
         "text": ""
        },
        "width": 900,
        "xaxis": {
         "range": [
          -3.5,
          4
         ],
         "visible": false
        },
        "yaxis": {
         "range": [
          -4.5,
          3.5
         ],
         "visible": false
        }
       },
       "_py2js_addTraces": {},
       "_py2js_animate": {},
       "_py2js_deleteTraces": {},
       "_py2js_moveTraces": {},
       "_py2js_removeLayoutProps": {},
       "_py2js_removeTraceProps": {},
       "_py2js_restyle": {},
       "_view_count": 1
      }
     },
     "297b39901c274d8e9a4a18fcf1698487": {
      "model_module": "plotlywidget",
      "model_module_version": "^0.11.0",
      "model_name": "FigureModel",
      "state": {
       "_config": {
        "plotlyServerURL": "https://plot.ly"
       },
       "_data": [
        {
         "hoverinfo": "none",
         "line": {
          "color": "rgb(253, 231, 36)",
          "width": 9.6
         },
         "mode": "lines",
         "type": "scatter",
         "uid": "5d8923b3-4c41-42a6-8b63-5b96dba06bd8",
         "x": [
          -0.04361938736533589,
          -0.11273086300986597,
          null
         ],
         "y": [
          0.9990482215818578,
          2.581961256450292,
          null
         ]
        },
        {
         "hoverinfo": "none",
         "line": {
          "color": "rgb(250, 230, 34)",
          "width": 9.6
         },
         "mode": "lines",
         "type": "scatter",
         "uid": "0a300682-3c9e-48e5-b004-b4a4dbe4c69b",
         "x": [
          -0.1305261922200516,
          -0.3368674927211816,
          null
         ],
         "y": [
          0.9914448613738104,
          2.5587626432803243,
          null
         ]
        },
        {
         "hoverinfo": "none",
         "line": {
          "color": "rgb(250, 230, 34)",
          "width": 9.6
         },
         "mode": "lines",
         "type": "scatter",
         "uid": "84d74bbd-fd0a-4356-998e-03a7dca76107",
         "x": [
          -0.2164396139381028,
          -0.5582319390222521,
          null
         ],
         "y": [
          0.9762960071199334,
          2.5180215543634326,
          null
         ]
        },
        {
         "hoverinfo": "none",
         "line": {
          "color": "rgb(248, 230, 33)",
          "width": 9.6
         },
         "mode": "lines",
         "type": "scatter",
         "uid": "5f55a55e-4150-40c9-a437-a7253cfd6729",
         "x": [
          -0.3007057995042731,
          -0.7753778173322815,
          null
         ],
         "y": [
          0.9537169507482269,
          2.459184255318797,
          null
         ]
        },
        {
         "hoverinfo": "none",
         "line": {
          "color": "rgb(233, 228, 25)",
          "width": 9.6
         },
         "mode": "lines",
         "type": "scatter",
         "uid": "db856359-43ed-4de9-868d-ab5a6aa2eb84",
         "x": [
          -0.3826834323650897,
          -0.9799112816540181,
          null
         ],
         "y": [
          0.9238795325112867,
          2.3657151060915327,
          null
         ]
        },
        {
         "hoverinfo": "none",
         "line": {
          "color": "rgb(218, 226, 24)",
          "width": 9.6
         },
         "mode": "lines",
         "type": "scatter",
         "uid": "626688b1-7a12-46d5-a5b6-c5d267226cb5",
         "x": [
          -0.4617486132350338,
          -1.1751745232417523,
          null
         ],
         "y": [
          0.8870108331782218,
          2.257489255219268,
          null
         ]
        },
        {
         "hoverinfo": "none",
         "line": {
          "color": "rgb(207, 225, 28)",
          "width": 9.6
         },
         "mode": "lines",
         "type": "scatter",
         "uid": "4b0102bb-d8bc-48e3-bab6-0627f3bbc26a",
         "x": [
          -0.537299608346824,
          -1.3620262282324438,
          null
         ],
         "y": [
          0.8433914458128856,
          2.137952926112201,
          null
         ]
        },
        {
         "hoverinfo": "none",
         "line": {
          "color": "rgb(202, 224, 30)",
          "width": 9.6
         },
         "mode": "lines",
         "type": "scatter",
         "uid": "69a3178a-c671-4dd5-9ee7-2fa4a6266aab",
         "x": [
          -0.6087614290087207,
          -1.5401023352416412,
          null
         ],
         "y": [
          0.7933533402912352,
          2.0071004400588994,
          null
         ]
        },
        {
         "hoverinfo": "none",
         "line": {
          "color": "rgb(173, 220, 48)",
          "width": 9.6
         },
         "mode": "lines",
         "type": "scatter",
         "uid": "41e5325c-dc8f-408b-9b1e-5efb5ae37c7b",
         "x": [
          -0.6755902076156602,
          -1.6881221419347938,
          null
         ],
         "y": [
          0.7372773368101241,
          1.8422620443367077,
          null
         ]
        },
        {
         "hoverinfo": "none",
         "line": {
          "color": "rgb(146, 215, 65)",
          "width": 9.6
         },
         "mode": "lines",
         "type": "scatter",
         "uid": "fd01645a-f33e-4c63-a010-c1573bffd358",
         "x": [
          -0.737277336810124,
          -1.8228600091574938,
          null
         ],
         "y": [
          0.6755902076156604,
          1.670343452260698,
          null
         ]
        },
        {
         "hoverinfo": "none",
         "line": {
          "color": "rgb(134, 212, 73)",
          "width": 9.6
         },
         "mode": "lines",
         "type": "scatter",
         "uid": "add54308-6fa8-4dda-8210-df51d7e0b35b",
         "x": [
          -0.793353340291235,
          -1.9506470865813332,
          null
         ],
         "y": [
          0.6087614290087209,
          1.4967841535563895,
          null
         ]
        },
        {
         "hoverinfo": "none",
         "line": {
          "color": "rgb(131, 211, 75)",
          "width": 9.6
         },
         "mode": "lines",
         "type": "scatter",
         "uid": "4680e519-81b6-44b8-829e-6995d7b83498",
         "x": [
          -0.8433914458128855,
          -2.0697713860717486,
          null
         ],
         "y": [
          0.5372996083468241,
          1.3185897967366167,
          null
         ]
        },
        {
         "hoverinfo": "none",
         "line": {
          "color": "rgb(124, 210, 79)",
          "width": 9.6
         },
         "mode": "lines",
         "type": "scatter",
         "uid": "72d64cb1-147b-45ab-9751-6e2fc18e20e9",
         "x": [
          -0.8870108331782217,
          -2.1700953457608665,
          null
         ],
         "y": [
          0.4617486132350339,
          1.1296801335588063,
          null
         ]
        },
        {
         "hoverinfo": "none",
         "line": {
          "color": "rgb(98, 202, 95)",
          "width": 9.6
         },
         "mode": "lines",
         "type": "scatter",
         "uid": "e0a191fc-6632-44f6-8943-d824a3134ddf",
         "x": [
          -0.9238795325112867,
          -2.231898449593056,
          null
         ],
         "y": [
          0.3826834323650899,
          0.9244826076609276,
          null
         ]
        },
        {
         "hoverinfo": "none",
         "line": {
          "color": "rgb(77, 194, 107)",
          "width": 9.6
         },
         "mode": "lines",
         "type": "scatter",
         "uid": "2bfde0b5-7e50-492e-adec-f8423c042fb8",
         "x": [
          -0.953716950748227,
          -2.278078425934607,
          null
         ],
         "y": [
          0.3007057995042729,
          0.7182753686685222,
          null
         ]
        },
        {
         "hoverinfo": "none",
         "line": {
          "color": "rgb(61, 187, 116)",
          "width": 9.6
         },
         "mode": "lines",
         "type": "scatter",
         "uid": "9e59d3db-efa7-45b7-8669-873b001545e0",
         "x": [
          -0.9762960071199334,
          -2.309813584845013,
          null
         ],
         "y": [
          0.21643961393810274,
          0.5120733434602945,
          null
         ]
        },
        {
         "hoverinfo": "none",
         "line": {
          "color": "rgb(59, 186, 117)",
          "width": 9.6
         },
         "mode": "lines",
         "type": "scatter",
         "uid": "fd284f32-add3-4e1b-befa-0e927b032fe7",
         "x": [
          -0.9914448613738104,
          -2.3435669270537143,
          null
         ],
         "y": [
          0.13052619222005157,
          0.3085364392098398,
          null
         ]
        },
        {
         "hoverinfo": "none",
         "line": {
          "color": "rgb(46, 178, 124)",
          "width": 9.6
         },
         "mode": "lines",
         "type": "scatter",
         "uid": "b89b9af3-fe8e-4f90-9bf2-66f2a845030d",
         "x": [
          -0.9990482215818578,
          -2.3369315347360047,
          null
         ],
         "y": [
          0.04361938736533607,
          0.10203263431921034,
          null
         ]
        },
        {
         "hoverinfo": "none",
         "line": {
          "color": "rgb(30, 158, 136)",
          "width": 9.6
         },
         "mode": "lines",
         "type": "scatter",
         "uid": "d09f5189-bf07-4975-a519-41708da41e12",
         "x": [
          -0.9990482215818578,
          -2.2774092933238643,
          null
         ],
         "y": [
          -0.04361938736533583,
          -0.09943383713512764,
          null
         ]
        },
        {
         "hoverinfo": "none",
         "line": {
          "color": "rgb(30, 152, 138)",
          "width": 9.6
         },
         "mode": "lines",
         "type": "scatter",
         "uid": "0c8c0402-67a8-4aee-8612-8aff1585c889",
         "x": [
          -0.9914448613738105,
          -2.2410828371727587,
          null
         ],
         "y": [
          -0.13052619222005132,
          -0.29504415281404023,
          null
         ]
        },
        {
         "hoverinfo": "none",
         "line": {
          "color": "rgb(30, 152, 138)",
          "width": 9.6
         },
         "mode": "lines",
         "type": "scatter",
         "uid": "0b16d39a-557e-420b-9682-0936bba0d95f",
         "x": [
          -0.9762960071199335,
          -2.2047846880790583,
          null
         ],
         "y": [
          -0.21643961393810252,
          -0.4887889976240054,
          null
         ]
        },
        {
         "hoverinfo": "none",
         "line": {
          "color": "rgb(31, 147, 139)",
          "width": 9.6
         },
         "mode": "lines",
         "type": "scatter",
         "uid": "799f3a08-853e-4de6-8b2e-32bc21c6467d",
         "x": [
          -0.953716950748227,
          -2.1421486626384914,
          null
         ],
         "y": [
          -0.3007057995042727,
          -0.6754168789286494,
          null
         ]
        },
        {
         "hoverinfo": "none",
         "line": {
          "color": "rgb(32, 145, 140)",
          "width": 9.6
         },
         "mode": "lines",
         "type": "scatter",
         "uid": "9ee71c1d-21b5-41a3-895c-b92a9dcb6e0b",
         "x": [
          -0.9238795325112868,
          -2.0708516595047732,
          null
         ],
         "y": [
          -0.38268343236508967,
          -0.8577748430297074,
          null
         ]
        },
        {
         "hoverinfo": "none",
         "line": {
          "color": "rgb(33, 142, 140)",
          "width": 9.6
         },
         "mode": "lines",
         "type": "scatter",
         "uid": "1fb99a18-f495-4484-838e-bde8d998e7cb",
         "x": [
          -0.8870108331782216,
          -1.980555136144888,
          null
         ],
         "y": [
          -0.46174861323503413,
          -1.0310117456780572,
          null
         ]
        },
        {
         "hoverinfo": "none",
         "line": {
          "color": "rgb(33, 141, 140)",
          "width": 9.6
         },
         "mode": "lines",
         "type": "scatter",
         "uid": "6c7f4b7f-740b-4efe-9d7a-f9a5427cbe36",
         "x": [
          -0.8433914458128858,
          -1.8794312534588204,
          null
         ],
         "y": [
          -0.5372996083468236,
          -1.1973297588107636,
          null
         ]
        },
        {
         "hoverinfo": "none",
         "line": {
          "color": "rgb(34, 139, 141)",
          "width": 9.6
         },
         "mode": "lines",
         "type": "scatter",
         "uid": "fc9f2e5c-d998-485a-b311-5ee0507f6dba",
         "x": [
          -0.7933533402912352,
          -1.7642508070518563,
          null
         ],
         "y": [
          -0.6087614290087207,
          -1.3537572578145507,
          null
         ]
        },
        {
         "hoverinfo": "none",
         "line": {
          "color": "rgb(34, 138, 141)",
          "width": 9.6
         },
         "mode": "lines",
         "type": "scatter",
         "uid": "d2bf1a03-97a8-4fc3-87b1-612186b3689b",
         "x": [
          -0.7372773368101241,
          -1.6378422016885115,
          null
         ],
         "y": [
          -0.6755902076156601,
          -1.500805867528515,
          null
         ]
        },
        {
         "hoverinfo": "none",
         "line": {
          "color": "rgb(35, 137, 141)",
          "width": 9.6
         },
         "mode": "lines",
         "type": "scatter",
         "uid": "6fb9d9f8-461f-410a-8b02-b5848ad7bdb5",
         "x": [
          -0.6755902076156604,
          -1.4963967524893393,
          null
         ],
         "y": [
          -0.7372773368101239,
          -1.6330304969640657,
          null
         ]
        },
        {
         "hoverinfo": "none",
         "line": {
          "color": "rgb(35, 136, 141)",
          "width": 9.6
         },
         "mode": "lines",
         "type": "scatter",
         "uid": "54aab649-4595-49e5-bae3-ec00450da5c7",
         "x": [
          -0.6087614290087209,
          -1.347990044276574,
          null
         ],
         "y": [
          -0.7933533402912349,
          -1.7567348280385704,
          null
         ]
        },
        {
         "hoverinfo": "none",
         "line": {
          "color": "rgb(41, 121, 142)",
          "width": 9.6
         },
         "mode": "lines",
         "type": "scatter",
         "uid": "f23f740d-8ca7-4960-8ca0-0e65f6aa0775",
         "x": [
          -0.5372996083468242,
          -1.1662229393801593,
          null
         ],
         "y": [
          -0.8433914458128855,
          -1.8306033276485996,
          null
         ]
        },
        {
         "hoverinfo": "none",
         "line": {
          "color": "rgb(41, 120, 142)",
          "width": 9.6
         },
         "mode": "lines",
         "type": "scatter",
         "uid": "74320efb-0267-4c27-9e00-7689066d779c",
         "x": [
          -0.46174861323503436,
          -1.000876573024824,
          null
         ],
         "y": [
          -0.8870108331782215,
          -1.9226660080848352,
          null
         ]
        },
        {
         "hoverinfo": "none",
         "line": {
          "color": "rgb(42, 119, 142)",
          "width": 9.6
         },
         "mode": "lines",
         "type": "scatter",
         "uid": "96735ada-cc9f-42d7-acfe-7d3feac12e90",
         "x": [
          -0.38268343236509034,
          -0.828046382704926,
          null
         ],
         "y": [
          -0.9238795325112865,
          -1.999080807400211,
          null
         ]
        },
        {
         "hoverinfo": "none",
         "line": {
          "color": "rgb(42, 118, 142)",
          "width": 9.6
         },
         "mode": "lines",
         "type": "scatter",
         "uid": "0766eab0-ce91-4bd4-b7c7-24eca35e7820",
         "x": [
          -0.3007057995042738,
          -0.6499676723179746,
          null
         ],
         "y": [
          -0.9537169507482267,
          -2.061434091227799,
          null
         ]
        },
        {
         "hoverinfo": "none",
         "line": {
          "color": "rgb(43, 116, 142)",
          "width": 9.6
         },
         "mode": "lines",
         "type": "scatter",
         "uid": "840ffaed-a89f-4d1f-b72b-efc096c7728f",
         "x": [
          -0.21643961393810368,
          -0.4665071089470116,
          null
         ],
         "y": [
          -0.9762960071199331,
          -2.1042775833460787,
          null
         ]
        },
        {
         "hoverinfo": "none",
         "line": {
          "color": "rgb(46, 109, 142)",
          "width": 9.6
         },
         "mode": "lines",
         "type": "scatter",
         "uid": "38113ab6-0a41-4bea-85e9-1f32fb97de62",
         "x": [
          -0.13052619222005163,
          -0.27894134257384084,
          null
         ],
         "y": [
          -0.9914448613738104,
          -2.118769850064326,
          null
         ]
        },
        {
         "hoverinfo": "none",
         "line": {
          "color": "rgb(46, 108, 142)",
          "width": 9.6
         },
         "mode": "lines",
         "type": "scatter",
         "uid": "f15abf77-966a-4935-b48d-c8709488c53b",
         "x": [
          -0.04361938736533613,
          -0.09310673020992485,
          null
         ],
         "y": [
          -0.9990482215818578,
          -2.1324947197091486,
          null
         ]
        },
        {
         "hoverinfo": "none",
         "line": {
          "color": "rgb(49, 101, 141)",
          "width": 9.6
         },
         "mode": "lines",
         "type": "scatter",
         "uid": "5f570f3b-cee2-464f-a82d-1fd07a2706fc",
         "x": [
          0.043619387365335764,
          0.0922067933758603,
          null
         ],
         "y": [
          -0.9990482215818578,
          -2.1118827774533546,
          null
         ]
        },
        {
         "hoverinfo": "none",
         "line": {
          "color": "rgb(53, 92, 140)",
          "width": 9.6
         },
         "mode": "lines",
         "type": "scatter",
         "uid": "e06f8eee-2539-4d3d-9199-8c206c178017",
         "x": [
          0.13052619222005127,
          0.2727860021407261,
          null
         ],
         "y": [
          -0.9914448613738105,
          -2.0720153976542774,
          null
         ]
        },
        {
         "hoverinfo": "none",
         "line": {
          "color": "rgb(54, 91, 140)",
          "width": 9.6
         },
         "mode": "lines",
         "type": "scatter",
         "uid": "91955598-dcfb-4b27-8bcb-d7b6bafe3290",
         "x": [
          0.21643961393810332,
          0.45169808273019324,
          null
         ],
         "y": [
          -0.9762960071199333,
          -2.0374783828589256,
          null
         ]
        },
        {
         "hoverinfo": "none",
         "line": {
          "color": "rgb(54, 91, 140)",
          "width": 9.6
         },
         "mode": "lines",
         "type": "scatter",
         "uid": "ac2a0fa5-823f-463c-8feb-6e0c8da5ab34",
         "x": [
          0.30070579950427345,
          0.6274305639761799,
          null
         ],
         "y": [
          -0.9537169507482268,
          -1.9899555155506687,
          null
         ]
        },
        {
         "hoverinfo": "none",
         "line": {
          "color": "rgb(55, 89, 140)",
          "width": 9.6
         },
         "mode": "lines",
         "type": "scatter",
         "uid": "a3d8e49a-2ac8-49e2-8b88-64a0aa5fae1d",
         "x": [
          0.38268343236509,
          0.7971900133163295,
          null
         ],
         "y": [
          -0.9238795325112866,
          -1.9245869419366695,
          null
         ]
        },
        {
         "hoverinfo": "none",
         "line": {
          "color": "rgb(55, 88, 140)",
          "width": 9.6
         },
         "mode": "lines",
         "type": "scatter",
         "uid": "16bfc3fe-caed-43c7-b9a5-0ded6eba1901",
         "x": [
          0.4617486132350341,
          0.959756643888314,
          null
         ],
         "y": [
          -0.8870108331782216,
          -1.8436753591512804,
          null
         ]
        },
        {
         "hoverinfo": "none",
         "line": {
          "color": "rgb(56, 87, 140)",
          "width": 9.6
         },
         "mode": "lines",
         "type": "scatter",
         "uid": "c1006ce0-43e2-4e90-9557-478f8f80c653",
         "x": [
          0.5372996083468239,
          1.1165651439982103,
          null
         ],
         "y": [
          -0.8433914458128857,
          -1.7526562024461043,
          null
         ]
        },
        {
         "hoverinfo": "none",
         "line": {
          "color": "rgb(59, 81, 138)",
          "width": 9.6
         },
         "mode": "lines",
         "type": "scatter",
         "uid": "fb13787d-9101-43e5-b63b-dcbb9511f3f2",
         "x": [
          0.6087614290087205,
          1.2537922231562766,
          null
         ],
         "y": [
          -0.7933533402912352,
          -1.6339738374882429,
          null
         ]
        },
        {
         "hoverinfo": "none",
         "line": {
          "color": "rgb(70, 45, 124)",
          "width": 9.6
         },
         "mode": "lines",
         "type": "scatter",
         "uid": "b8904cd9-c897-48fb-a84a-4e004af68e92",
         "x": [
          0.6755902076156601,
          1.337668611079007,
          null
         ],
         "y": [
          -0.7372773368101242,
          -1.4598091268840458,
          null
         ]
        },
        {
         "hoverinfo": "none",
         "line": {
          "color": "rgb(71, 17, 99)",
          "width": 9.6
         },
         "mode": "lines",
         "type": "scatter",
         "uid": "504a145f-7412-44e1-be18-e41f4e8466cf",
         "x": [
          0.7372773368101239,
          1.4140203238611007,
          null
         ],
         "y": [
          -0.6755902076156605,
          -1.2957109034481404,
          null
         ]
        },
        {
         "hoverinfo": "none",
         "line": {
          "color": "rgb(70, 12, 95)",
          "width": 9.6
         },
         "mode": "lines",
         "type": "scatter",
         "uid": "0613c71f-2ddb-4c4f-a55f-1249276b6721",
         "x": [
          0.7933533402912349,
          1.515555412590035,
          null
         ],
         "y": [
          -0.608761429008721,
          -1.162926569857923,
          null
         ]
        },
        {
         "hoverinfo": "none",
         "line": {
          "color": "rgb(68, 3, 87)",
          "width": 9.6
         },
         "mode": "lines",
         "type": "scatter",
         "uid": "af84aa7c-d5ac-4ae6-bd17-7312d41135de",
         "x": [
          0.8433914458128855,
          1.5983599568858096,
          null
         ],
         "y": [
          -0.5372996083468242,
          -1.0182675945974973,
          null
         ]
        },
        {
         "hoverinfo": "none",
         "line": {
          "color": "rgb(68, 1, 84)",
          "width": 9.6
         },
         "mode": "lines",
         "type": "scatter",
         "uid": "06760d7e-3738-4f99-a824-4727f473bc43",
         "x": [
          0.8870108331782214,
          1.6744897139177075,
          null
         ],
         "y": [
          -0.4617486132350344,
          -0.8716841715533796,
          null
         ]
        },
        {
         "hoverinfo": "text",
         "marker": {
          "color": "rgb(61, 187, 116)",
          "size": 0.05
         },
         "mode": "markers",
         "name": "",
         "text": [
          "Denmark<br>Score: 7.526<br>World rank: 1",
          "Switzerland<br>Score: 7.509<br>World rank: 2",
          "Iceland<br>Score: 7.501<br>World rank: 3",
          "Norway<br>Score: 7.498<br>World rank: 4",
          "Finland<br>Score: 7.413<br>World rank: 5",
          "Netherlands<br>Score: 7.339<br>World rank: 7",
          "Sweden<br>Score: 7.291<br>World rank: 10",
          "Israel<br>Score: 7.267<br>World rank: 11",
          "Austria<br>Score: 7.119<br>World rank: 12",
          "Germany<br>Score: 6.994<br>World rank: 16",
          "Belgium<br>Score: 6.929<br>World rank: 18",
          "Ireland<br>Score: 6.907<br>World rank: 19",
          "Luxembourg<br>Score: 6.871<br>World rank: 20",
          "U Kingdom<br>Score: 6.725<br>World rank: 23",
          "Czech Rep<br>Score: 6.596<br>World rank: 27",
          "Malta<br>Score: 6.488<br>World rank: 30",
          "France<br>Score: 6.478<br>World rank: 32",
          "Spain<br>Score: 6.361<br>World rank: 37",
          "Slovakia<br>Score: 6.078<br>World rank: 45",
          "Uzbekistan<br>Score: 5.987<br>World rank: 49",
          "Italy<br>Score: 5.977<br>World rank: 50",
          "Kazakhstan<br>Score: 5.919<br>World rank: 54",
          "Moldova<br>Score: 5.897<br>World rank: 55",
          "Russia<br>Score: 5.856<br>World rank: 56",
          "Poland<br>Score: 5.835<br>World rank: 57",
          "Lithuania<br>Score: 5.813<br>World rank: 60",
          "Belarus<br>Score: 5.802<br>World rank: 61",
          "North Cyprus<br>Score: 5.771<br>World rank: 62",
          "Slovenia<br>Score: 5.768<br>World rank: 63",
          "Latvia<br>Score: 5.56<br>World rank: 68",
          "Cyprus<br>Score: 5.546<br>World rank: 69",
          "Romania<br>Score: 5.528<br>World rank: 71",
          "Estonia<br>Score: 5.517<br>World rank: 72",
          "Croatia<br>Score: 5.488<br>World rank: 74",
          "Kosovo<br>Score: 5.401<br>World rank: 77",
          "Turkey<br>Score: 5.389<br>World rank: 78",
          "Azerbaijan<br>Score: 5.291<br>World rank: 81",
          "Serbia<br>Score: 5.177<br>World rank: 86",
          "Bosn Herzeg<br>Score: 5.163<br>World rank: 87",
          "Montenegro<br>Score: 5.161<br>World rank: 88",
          "Hungary<br>Score: 5.145<br>World rank: 91",
          "Portugal<br>Score: 5.123<br>World rank: 94",
          "Macedonia<br>Score: 5.121<br>World rank: 95",
          "Greece<br>Score: 5.033<br>World rank: 99",
          "Albania<br>Score: 4.655<br>World rank: 109",
          "Armenia<br>Score: 4.36<br>World rank: 121",
          "Ukraine<br>Score: 4.324<br>World rank: 123",
          "Georgia<br>Score: 4.252<br>World rank: 126",
          "Bulgaria<br>Score: 4.217<br>World rank: 129"
         ],
         "type": "scatter",
         "uid": "87803037-f703-48d5-b7e3-48f92cec35e7",
         "x": [
          -0.07817512518760093,
          -0.23369684247061662,
          -0.3873357764801775,
          -0.5380418084182773,
          -0.681297357009554,
          -0.8184615682383931,
          -0.9496629182896339,
          -1.074431882125181,
          -1.181856174775227,
          -1.2800686729838089,
          -1.372000213436284,
          -1.456581415942317,
          -1.528553089469544,
          -1.5778889910521712,
          -1.6158976883414171,
          -1.643054795982473,
          -1.6675058942137624,
          -1.6679898781589313,
          -1.6382287574528611,
          -1.6162638492732846,
          -1.590540347599496,
          -1.547932806693359,
          -1.49736559600803,
          -1.4337829846615548,
          -1.361411349635853,
          -1.2788020736715457,
          -1.1875597692493178,
          -1.0859934800524997,
          -0.9783757366426474,
          -0.8517612738634918,
          -0.7313125931299291,
          -0.6053649075350082,
          -0.4753367359111242,
          -0.34147336144255763,
          -0.20473376739694624,
          -0.06836305878763049,
          0.06791309037059803,
          0.20165609718038868,
          0.3340688483341483,
          0.4640681817402267,
          0.5899367228407097,
          0.7107526285616741,
          0.8269323761725171,
          0.9312768260824986,
          1.0066294093473336,
          1.0756488303356122,
          1.154454376440635,
          1.2208757013493474,
          1.2807502735479646
         ],
         "y": [
          1.7905047390160749,
          1.7751037523270674,
          1.747158780741683,
          1.7064506030335118,
          1.6447973193014098,
          1.572250044198745,
          1.4906721859625434,
          1.4002268901750674,
          1.289769690573416,
          1.1729668299381792,
          1.052772791282555,
          0.9279447025417205,
          0.7957143733969201,
          0.6535830200130087,
          0.5094905840863975,
          0.36425647869919864,
          0.2195313157149457,
          0.0728260108422732,
          -0.07152661225023174,
          -0.21278517251704576,
          -0.35261430578105396,
          -0.48806133921646105,
          -0.6202291376973985,
          -0.7463801794565457,
          -0.8673146835787936,
          -0.9812593434116357,
          -1.0881980375720874,
          -1.1851539168870948,
          -1.2750440841649027,
          -1.3369973867307425,
          -1.4048384206315283,
          -1.461480169955749,
          -1.5075755209880128,
          -1.540286795233006,
          -1.5551073557190682,
          -1.5657714706455033,
          -1.5554654995176063,
          -1.531730129514044,
          -1.5068871949894294,
          -1.471836233149448,
          -1.424233237223978,
          -1.365343096164751,
          -1.298023824129495,
          -1.2136635888897391,
          -1.098543231847085,
          -0.9856505555319004,
          -0.885843999433322,
          -0.7777836014721607,
          -0.666716392394207
         ]
        },
        {
         "hoverinfo": "text",
         "marker": {
          "color": "rgb(61, 187, 116)",
          "size": 0.05
         },
         "mode": "markers",
         "name": "",
         "text": [
          "Denmark<br>Score: 7.526<br>World rank: 1",
          "Switzerland<br>Score: 7.509<br>World rank: 2",
          "Iceland<br>Score: 7.501<br>World rank: 3",
          "Norway<br>Score: 7.498<br>World rank: 4",
          "Finland<br>Score: 7.413<br>World rank: 5",
          "Netherlands<br>Score: 7.339<br>World rank: 7",
          "Sweden<br>Score: 7.291<br>World rank: 10",
          "Israel<br>Score: 7.267<br>World rank: 11",
          "Austria<br>Score: 7.119<br>World rank: 12",
          "Germany<br>Score: 6.994<br>World rank: 16",
          "Belgium<br>Score: 6.929<br>World rank: 18",
          "Ireland<br>Score: 6.907<br>World rank: 19",
          "Luxembourg<br>Score: 6.871<br>World rank: 20",
          "U Kingdom<br>Score: 6.725<br>World rank: 23",
          "Czech Rep<br>Score: 6.596<br>World rank: 27",
          "Malta<br>Score: 6.488<br>World rank: 30",
          "France<br>Score: 6.478<br>World rank: 32",
          "Spain<br>Score: 6.361<br>World rank: 37",
          "Slovakia<br>Score: 6.078<br>World rank: 45",
          "Uzbekistan<br>Score: 5.987<br>World rank: 49",
          "Italy<br>Score: 5.977<br>World rank: 50",
          "Kazakhstan<br>Score: 5.919<br>World rank: 54",
          "Moldova<br>Score: 5.897<br>World rank: 55",
          "Russia<br>Score: 5.856<br>World rank: 56",
          "Poland<br>Score: 5.835<br>World rank: 57",
          "Lithuania<br>Score: 5.813<br>World rank: 60",
          "Belarus<br>Score: 5.802<br>World rank: 61",
          "North Cyprus<br>Score: 5.771<br>World rank: 62",
          "Slovenia<br>Score: 5.768<br>World rank: 63",
          "Latvia<br>Score: 5.56<br>World rank: 68",
          "Cyprus<br>Score: 5.546<br>World rank: 69",
          "Romania<br>Score: 5.528<br>World rank: 71",
          "Estonia<br>Score: 5.517<br>World rank: 72",
          "Croatia<br>Score: 5.488<br>World rank: 74",
          "Kosovo<br>Score: 5.401<br>World rank: 77",
          "Turkey<br>Score: 5.389<br>World rank: 78",
          "Azerbaijan<br>Score: 5.291<br>World rank: 81",
          "Serbia<br>Score: 5.177<br>World rank: 86",
          "Bosn Herzeg<br>Score: 5.163<br>World rank: 87",
          "Montenegro<br>Score: 5.161<br>World rank: 88",
          "Hungary<br>Score: 5.145<br>World rank: 91",
          "Portugal<br>Score: 5.123<br>World rank: 94",
          "Macedonia<br>Score: 5.121<br>World rank: 95",
          "Greece<br>Score: 5.033<br>World rank: 99",
          "Albania<br>Score: 4.655<br>World rank: 109",
          "Armenia<br>Score: 4.36<br>World rank: 121",
          "Ukraine<br>Score: 4.324<br>World rank: 123",
          "Georgia<br>Score: 4.252<br>World rank: 126",
          "Bulgaria<br>Score: 4.217<br>World rank: 129"
         ],
         "type": "scatter",
         "uid": "6200bed9-8d70-47a3-91bd-117683ce238d",
         "x": [
          -0.11273086300986597,
          -0.3368674927211816,
          -0.5582319390222521,
          -0.7753778173322815,
          -0.9799112816540181,
          -1.1751745232417523,
          -1.3620262282324438,
          -1.5401023352416412,
          -1.6881221419347938,
          -1.8228600091574938,
          -1.9506470865813332,
          -2.0697713860717486,
          -2.1700953457608665,
          -2.231898449593056,
          -2.278078425934607,
          -2.309813584845013,
          -2.3435669270537143,
          -2.3369315347360047,
          -2.2774092933238643,
          -2.2410828371727587,
          -2.2047846880790583,
          -2.1421486626384914,
          -2.0708516595047732,
          -1.980555136144888,
          -1.8794312534588204,
          -1.7642508070518563,
          -1.6378422016885115,
          -1.4963967524893393,
          -1.347990044276574,
          -1.1662229393801593,
          -1.000876573024824,
          -0.828046382704926,
          -0.6499676723179746,
          -0.4665071089470116,
          -0.27894134257384084,
          -0.09310673020992485,
          0.0922067933758603,
          0.2727860021407261,
          0.45169808273019324,
          0.6274305639761799,
          0.7971900133163295,
          0.959756643888314,
          1.1165651439982103,
          1.2537922231562766,
          1.337668611079007,
          1.4140203238611007,
          1.515555412590035,
          1.5983599568858096,
          1.6744897139177075
         ],
         "y": [
          2.581961256450292,
          2.5587626432803243,
          2.5180215543634326,
          2.459184255318797,
          2.3657151060915327,
          2.257489255219268,
          2.137952926112201,
          2.0071004400588994,
          1.8422620443367077,
          1.670343452260698,
          1.4967841535563895,
          1.3185897967366167,
          1.1296801335588063,
          0.9244826076609276,
          0.7182753686685222,
          0.5120733434602945,
          0.3085364392098398,
          0.10203263431921034,
          -0.09943383713512764,
          -0.29504415281404023,
          -0.4887889976240054,
          -0.6754168789286494,
          -0.8577748430297074,
          -1.0310117456780572,
          -1.1973297588107636,
          -1.3537572578145507,
          -1.500805867528515,
          -1.6330304969640657,
          -1.7567348280385704,
          -1.8306033276485996,
          -1.9226660080848352,
          -1.999080807400211,
          -2.061434091227799,
          -2.1042775833460787,
          -2.118769850064326,
          -2.1324947197091486,
          -2.1118827774533546,
          -2.0720153976542774,
          -2.0374783828589256,
          -1.9899555155506687,
          -1.9245869419366695,
          -1.8436753591512804,
          -1.7526562024461043,
          -1.6339738374882429,
          -1.4598091268840458,
          -1.2957109034481404,
          -1.162926569857923,
          -1.0182675945974973,
          -0.8716841715533796
         ]
        }
       ],
       "_js2py_layoutDelta": {},
       "_js2py_pointsCallback": {},
       "_js2py_relayout": {},
       "_js2py_restyle": {},
       "_js2py_traceDeltas": {},
       "_js2py_update": {},
       "_last_layout_edit_id": 1,
       "_last_trace_edit_id": 1,
       "_layout": {
        "annotations": [
         {
          "font": {
           "size": 10
          },
          "showarrow": false,
          "text": "Denmark",
          "textangle": 87.5,
          "x": -0.12668906696677348,
          "y": 2.901656687356487
         },
         {
          "font": {
           "size": 10
          },
          "showarrow": false,
          "text": "Switzerland",
          "textangle": 82.5,
          "x": -0.3786358742315981,
          "y": 2.8760249989199442
         },
         {
          "font": {
           "size": 10
          },
          "showarrow": false,
          "text": "Iceland",
          "textangle": 77.5,
          "x": -0.627492615482445,
          "y": 2.830436276641811
         },
         {
          "font": {
           "size": 10
          },
          "showarrow": false,
          "text": "Norway",
          "textangle": 72.5,
          "x": -0.8716036731736488,
          "y": 2.764373679558229
         },
         {
          "font": {
           "size": 10
          },
          "showarrow": false,
          "text": "Finland",
          "textangle": 67.5,
          "x": -1.1023699800108469,
          "y": 2.6613565564951447
         },
         {
          "font": {
           "size": 10
          },
          "showarrow": false,
          "text": "Netherlands",
          "textangle": 62.5,
          "x": -1.322934079476963,
          "y": 2.541332721836299
         },
         {
          "font": {
           "size": 10
          },
          "showarrow": false,
          "text": "Sweden",
          "textangle": 57.5,
          "x": -1.5339621029034276,
          "y": 2.407838188772325
         },
         {
          "font": {
           "size": 10
          },
          "showarrow": false,
          "text": "Israel",
          "textangle": 52.5,
          "x": -1.7349059925244321,
          "y": 2.260973508952095
         },
         {
          "font": {
           "size": 10
          },
          "showarrow": false,
          "text": "Austria",
          "textangle": 47.5,
          "x": -1.9043110083718053,
          "y": 2.0781907921159477
         },
         {
          "font": {
           "size": 10
          },
          "showarrow": false,
          "text": "Germany",
          "textangle": 42.5,
          "x": -2.0587887569367336,
          "y": 1.8865323186977094
         },
         {
          "font": {
           "size": 10
          },
          "showarrow": false,
          "text": "Belgium",
          "textangle": 37.5,
          "x": -2.204520155474529,
          "y": 1.6915878108391804
         },
         {
          "font": {
           "size": 10
          },
          "showarrow": false,
          "text": "Ireland",
          "textangle": 32.50000000000003,
          "x": -2.3396566487318724,
          "y": 1.4905256714076005
         },
         {
          "font": {
           "size": 10
          },
          "showarrow": false,
          "text": "Luxembourg",
          "textangle": 27.5,
          "x": -2.4539388123778973,
          "y": 1.277439689794017
         },
         {
          "font": {
           "size": 10
          },
          "showarrow": false,
          "text": "U Kingdom",
          "textangle": 22.5,
          "x": -2.527539899996668,
          "y": 1.0469413060177564
         },
         {
          "font": {
           "size": 10
          },
          "showarrow": false,
          "text": "Czech Rep",
          "textangle": 17.49999999999997,
          "x": -2.5832678501740403,
          "y": 0.8145012245098896
         },
         {
          "font": {
           "size": 10
          },
          "showarrow": false,
          "text": "Malta",
          "textangle": 12.5,
          "x": -2.622228307123392,
          "y": 0.5813340199204873
         },
         {
          "font": {
           "size": 10
          },
          "showarrow": false,
          "text": "France",
          "textangle": 7.5,
          "x": -2.6608292826933337,
          "y": 0.3503048207202563
         },
         {
          "font": {
           "size": 10
          },
          "showarrow": false,
          "text": "Spain",
          "textangle": 2.5,
          "x": -2.6566269656421992,
          "y": 0.11599083827611789
         },
         {
          "font": {
           "size": 10
          },
          "showarrow": false,
          "text": "Slovakia",
          "textangle": -2.5,
          "x": -2.5971047242300593,
          "y": -0.11339204109203511
         },
         {
          "font": {
           "size": 10
          },
          "showarrow": false,
          "text": "Uzbekistan",
          "textangle": -7.499999999999972,
          "x": -2.558345192812378,
          "y": -0.3368125343244566
         },
         {
          "font": {
           "size": 10
          },
          "showarrow": false,
          "text": "Italy",
          "textangle": -12.499999999999972,
          "x": -2.517199410357437,
          "y": -0.5580496740841983
         },
         {
          "font": {
           "size": 10
          },
          "showarrow": false,
          "text": "Kazakhstan",
          "textangle": -17.49999999999997,
          "x": -2.447338086877924,
          "y": -0.7716427347700168
         },
         {
          "font": {
           "size": 10
          },
          "showarrow": false,
          "text": "Moldova",
          "textangle": -22.5,
          "x": -2.366493109908385,
          "y": -0.9802335413865361
         },
         {
          "font": {
           "size": 10
          },
          "showarrow": false,
          "text": "Russia",
          "textangle": -27.5,
          "x": -2.2643986027619194,
          "y": -1.1787713019132684
         },
         {
          "font": {
           "size": 10
          },
          "showarrow": false,
          "text": "Poland",
          "textangle": -32.49999999999997,
          "x": -2.149316516118944,
          "y": -1.3692656334817472
         },
         {
          "font": {
           "size": 10
          },
          "showarrow": false,
          "text": "Lithuania",
          "textangle": -37.5,
          "x": -2.0181238759450513,
          "y": -1.5485609150973414
         },
         {
          "font": {
           "size": 10
          },
          "showarrow": false,
          "text": "Belarus",
          "textangle": -42.5,
          "x": -1.8737709494677512,
          "y": -1.716994733965526
         },
         {
          "font": {
           "size": 10
          },
          "showarrow": false,
          "text": "North Cyprus",
          "textangle": -47.5,
          "x": -1.7125856189263509,
          "y": -1.8689592447433057
         },
         {
          "font": {
           "size": 10
          },
          "showarrow": false,
          "text": "Slovenia",
          "textangle": -52.499999999999986,
          "x": -1.5427937015593645,
          "y": -2.0106078969317656
         },
         {
          "font": {
           "size": 10
          },
          "showarrow": false,
          "text": "Latvia",
          "textangle": -57.49999999999997,
          "x": -1.3381588140511433,
          "y": -2.100488590308723
         },
         {
          "font": {
           "size": 10
          },
          "showarrow": false,
          "text": "Cyprus",
          "textangle": -62.49999999999997,
          "x": -1.1486361292600349,
          "y": -2.2065094747018663
         },
         {
          "font": {
           "size": 10
          },
          "showarrow": false,
          "text": "Romania",
          "textangle": -67.49999999999997,
          "x": -0.950505081061755,
          "y": -2.294722257803823
         },
         {
          "font": {
           "size": 10
          },
          "showarrow": false,
          "text": "Estonia",
          "textangle": -72.49999999999997,
          "x": -0.7461935281593423,
          "y": -2.3666235154672317
         },
         {
          "font": {
           "size": 10
          },
          "showarrow": false,
          "text": "Croatia",
          "textangle": -77.49999999999996,
          "x": -0.5357677854072048,
          "y": -2.4166923056244576
         },
         {
          "font": {
           "size": 10
          },
          "showarrow": false,
          "text": "Kosovo",
          "textangle": -82.49999999999999,
          "x": -0.3207097240842574,
          "y": -2.4360322057039454
         },
         {
          "font": {
           "size": 10
          },
          "showarrow": false,
          "text": "Turkey",
          "textangle": -87.49999999999999,
          "x": -0.10706493416683241,
          "y": -2.452190150615343
         },
         {
          "font": {
           "size": 10
          },
          "showarrow": false,
          "text": "Azerbaijan",
          "textangle": 87.5,
          "x": 0.10616499733276774,
          "y": -2.4315782083595487
         },
         {
          "font": {
           "size": 10
          },
          "showarrow": false,
          "text": "Serbia",
          "textangle": 82.5,
          "x": 0.3145543836511425,
          "y": -2.389277753293897
         },
         {
          "font": {
           "size": 10
          },
          "showarrow": false,
          "text": "Bosn Herzeg",
          "textangle": 77.5,
          "x": 0.5209587591903864,
          "y": -2.3498931051373044
         },
         {
          "font": {
           "size": 10
          },
          "showarrow": false,
          "text": "Montenegro",
          "textangle": 72.5,
          "x": 0.7236564198175475,
          "y": -2.2951449397901014
         },
         {
          "font": {
           "size": 10
          },
          "showarrow": false,
          "text": "Hungary",
          "textangle": 67.5,
          "x": 0.9196487116731584,
          "y": -2.2202283923402817
         },
         {
          "font": {
           "size": 10
          },
          "showarrow": false,
          "text": "Portugal",
          "textangle": 62.5,
          "x": 1.1075162001235248,
          "y": -2.1275188257683113
         },
         {
          "font": {
           "size": 10
          },
          "showarrow": false,
          "text": "Macedonia",
          "textangle": 57.5,
          "x": 1.2885010186691939,
          "y": -2.0225414651062277
         },
         {
          "font": {
           "size": 10
          },
          "showarrow": false,
          "text": "Greece",
          "textangle": 52.5,
          "x": 1.4485958804390673,
          "y": -1.8878469063814385
         },
         {
          "font": {
           "size": 10
          },
          "showarrow": false,
          "text": "Albania",
          "textangle": 47.5,
          "x": 1.5538574775160185,
          "y": -1.6957378746632858
         },
         {
          "font": {
           "size": 10
          },
          "showarrow": false,
          "text": "Armenia",
          "textangle": 42.50000000000003,
          "x": 1.6499490716403404,
          "y": -1.5118997698851517
         },
         {
          "font": {
           "size": 10
          },
          "showarrow": false,
          "text": "Ukraine",
          "textangle": 37.50000000000003,
          "x": 1.7694284814832302,
          "y": -1.3577302271407137
         },
         {
          "font": {
           "size": 10
          },
          "showarrow": false,
          "text": "Georgia",
          "textangle": 32.50000000000003,
          "x": 1.8682452195459327,
          "y": -1.1902034692684809
         },
         {
          "font": {
           "size": 10
          },
          "showarrow": false,
          "text": "Bulgaria",
          "textangle": 27.50000000000003,
          "x": 1.9583331805347384,
          "y": -1.0194437277885906
         },
         {
          "font": {
           "size": 11
          },
          "showarrow": false,
          "text": "Europe Happiness Score and Global Ranking<br>Data: World Happiness Report, 2016<a href='http://worldhappiness.report/wp-content/uploads/sites/2/2016/03/HR-V1_web.pdf'> [1]</a>",
          "textangle": 0,
          "x": 0.5,
          "y": 0.1
         }
        ],
        "font": {
         "size": 12
        },
        "height": 1000,
        "hovermode": "closest",
        "showlegend": false,
        "template": {},
        "title": {
         "text": ""
        },
        "width": 1000,
        "xaxis": {
         "range": [
          -3.5,
          4
         ],
         "visible": false
        }
       },
       "_py2js_addTraces": {},
       "_py2js_animate": {},
       "_py2js_deleteTraces": {},
       "_py2js_moveTraces": {},
       "_py2js_removeLayoutProps": {},
       "_py2js_removeTraceProps": {},
       "_py2js_restyle": {},
       "_view_count": 0
      }
     },
     "97943e69570d459db55e2721461aeda7": {
      "model_module": "plotlywidget",
      "model_module_version": "^0.11.0",
      "model_name": "FigureModel",
      "state": {
       "_config": {
        "plotlyServerURL": "https://plot.ly"
       },
       "_data": [
        {
         "hoverinfo": "none",
         "line": {
          "color": "rgb(253, 231, 36)",
          "width": 9.6
         },
         "mode": "lines",
         "type": "scatter",
         "uid": "a74b02f2-2b5d-4371-9a60-f489c51ed8a9",
         "x": [
          -0.04361938736533589,
          -0.11273086300986597,
          null
         ],
         "y": [
          0.9990482215818578,
          2.581961256450292,
          null
         ]
        },
        {
         "hoverinfo": "none",
         "line": {
          "color": "rgb(250, 230, 34)",
          "width": 9.6
         },
         "mode": "lines",
         "type": "scatter",
         "uid": "a29b32cc-5ab2-4ffb-8ed3-fca5a6587e29",
         "x": [
          -0.1305261922200516,
          -0.3368674927211816,
          null
         ],
         "y": [
          0.9914448613738104,
          2.5587626432803243,
          null
         ]
        },
        {
         "hoverinfo": "none",
         "line": {
          "color": "rgb(250, 230, 34)",
          "width": 9.6
         },
         "mode": "lines",
         "type": "scatter",
         "uid": "9325a1be-a55d-4698-b108-f19f4d3d8c67",
         "x": [
          -0.2164396139381028,
          -0.5582319390222521,
          null
         ],
         "y": [
          0.9762960071199334,
          2.5180215543634326,
          null
         ]
        },
        {
         "hoverinfo": "none",
         "line": {
          "color": "rgb(248, 230, 33)",
          "width": 9.6
         },
         "mode": "lines",
         "type": "scatter",
         "uid": "354cba8a-430b-4adb-ac18-cd5006f4610f",
         "x": [
          -0.3007057995042731,
          -0.7753778173322815,
          null
         ],
         "y": [
          0.9537169507482269,
          2.459184255318797,
          null
         ]
        },
        {
         "hoverinfo": "none",
         "line": {
          "color": "rgb(233, 228, 25)",
          "width": 9.6
         },
         "mode": "lines",
         "type": "scatter",
         "uid": "9804853f-cebf-48e2-b40b-50acac8b283c",
         "x": [
          -0.3826834323650897,
          -0.9799112816540181,
          null
         ],
         "y": [
          0.9238795325112867,
          2.3657151060915327,
          null
         ]
        },
        {
         "hoverinfo": "none",
         "line": {
          "color": "rgb(218, 226, 24)",
          "width": 9.6
         },
         "mode": "lines",
         "type": "scatter",
         "uid": "81fe2019-dd49-4c11-b189-20a0ee404981",
         "x": [
          -0.4617486132350338,
          -1.1751745232417523,
          null
         ],
         "y": [
          0.8870108331782218,
          2.257489255219268,
          null
         ]
        },
        {
         "hoverinfo": "none",
         "line": {
          "color": "rgb(207, 225, 28)",
          "width": 9.6
         },
         "mode": "lines",
         "type": "scatter",
         "uid": "d67ab7c8-bd25-41b4-8df3-8b13ff3dfd77",
         "x": [
          -0.537299608346824,
          -1.3620262282324438,
          null
         ],
         "y": [
          0.8433914458128856,
          2.137952926112201,
          null
         ]
        },
        {
         "hoverinfo": "none",
         "line": {
          "color": "rgb(202, 224, 30)",
          "width": 9.6
         },
         "mode": "lines",
         "type": "scatter",
         "uid": "35aca181-27a5-413b-8dfe-ec785a92f793",
         "x": [
          -0.6087614290087207,
          -1.5401023352416412,
          null
         ],
         "y": [
          0.7933533402912352,
          2.0071004400588994,
          null
         ]
        },
        {
         "hoverinfo": "none",
         "line": {
          "color": "rgb(173, 220, 48)",
          "width": 9.6
         },
         "mode": "lines",
         "type": "scatter",
         "uid": "47e0e059-89a4-443f-9cde-365e00f4c7d0",
         "x": [
          -0.6755902076156602,
          -1.6881221419347938,
          null
         ],
         "y": [
          0.7372773368101241,
          1.8422620443367077,
          null
         ]
        },
        {
         "hoverinfo": "none",
         "line": {
          "color": "rgb(146, 215, 65)",
          "width": 9.6
         },
         "mode": "lines",
         "type": "scatter",
         "uid": "a564f016-0422-4f97-aa96-5ff502c516ae",
         "x": [
          -0.737277336810124,
          -1.8228600091574938,
          null
         ],
         "y": [
          0.6755902076156604,
          1.670343452260698,
          null
         ]
        },
        {
         "hoverinfo": "none",
         "line": {
          "color": "rgb(134, 212, 73)",
          "width": 9.6
         },
         "mode": "lines",
         "type": "scatter",
         "uid": "0c156dc4-335a-4dc0-b529-2749597207f6",
         "x": [
          -0.793353340291235,
          -1.9506470865813332,
          null
         ],
         "y": [
          0.6087614290087209,
          1.4967841535563895,
          null
         ]
        },
        {
         "hoverinfo": "none",
         "line": {
          "color": "rgb(131, 211, 75)",
          "width": 9.6
         },
         "mode": "lines",
         "type": "scatter",
         "uid": "a9a96369-32a9-4a08-80b9-77ff4a092f8b",
         "x": [
          -0.8433914458128855,
          -2.0697713860717486,
          null
         ],
         "y": [
          0.5372996083468241,
          1.3185897967366167,
          null
         ]
        },
        {
         "hoverinfo": "none",
         "line": {
          "color": "rgb(124, 210, 79)",
          "width": 9.6
         },
         "mode": "lines",
         "type": "scatter",
         "uid": "28fb1a96-690a-42de-a31e-cd1db29b10fd",
         "x": [
          -0.8870108331782217,
          -2.1700953457608665,
          null
         ],
         "y": [
          0.4617486132350339,
          1.1296801335588063,
          null
         ]
        },
        {
         "hoverinfo": "none",
         "line": {
          "color": "rgb(98, 202, 95)",
          "width": 9.6
         },
         "mode": "lines",
         "type": "scatter",
         "uid": "f3804c04-7588-44bc-9fba-cc37a29c252e",
         "x": [
          -0.9238795325112867,
          -2.231898449593056,
          null
         ],
         "y": [
          0.3826834323650899,
          0.9244826076609276,
          null
         ]
        },
        {
         "hoverinfo": "none",
         "line": {
          "color": "rgb(77, 194, 107)",
          "width": 9.6
         },
         "mode": "lines",
         "type": "scatter",
         "uid": "15a9737d-cfe4-4fd5-847b-cbd7b7b10ede",
         "x": [
          -0.953716950748227,
          -2.278078425934607,
          null
         ],
         "y": [
          0.3007057995042729,
          0.7182753686685222,
          null
         ]
        },
        {
         "hoverinfo": "none",
         "line": {
          "color": "rgb(61, 187, 116)",
          "width": 9.6
         },
         "mode": "lines",
         "type": "scatter",
         "uid": "e10b9e6d-89fb-45f3-bc10-d60d4c908f03",
         "x": [
          -0.9762960071199334,
          -2.309813584845013,
          null
         ],
         "y": [
          0.21643961393810274,
          0.5120733434602945,
          null
         ]
        },
        {
         "hoverinfo": "none",
         "line": {
          "color": "rgb(59, 186, 117)",
          "width": 9.6
         },
         "mode": "lines",
         "type": "scatter",
         "uid": "afc9344e-13f7-4c2e-87e8-2733ea99fecd",
         "x": [
          -0.9914448613738104,
          -2.3435669270537143,
          null
         ],
         "y": [
          0.13052619222005157,
          0.3085364392098398,
          null
         ]
        },
        {
         "hoverinfo": "none",
         "line": {
          "color": "rgb(46, 178, 124)",
          "width": 9.6
         },
         "mode": "lines",
         "type": "scatter",
         "uid": "f0ecc89d-5d20-425c-87de-c39a53c5c90d",
         "x": [
          -0.9990482215818578,
          -2.3369315347360047,
          null
         ],
         "y": [
          0.04361938736533607,
          0.10203263431921034,
          null
         ]
        },
        {
         "hoverinfo": "none",
         "line": {
          "color": "rgb(30, 158, 136)",
          "width": 9.6
         },
         "mode": "lines",
         "type": "scatter",
         "uid": "cc06e857-6a39-4a38-88b3-12cc27878526",
         "x": [
          -0.9990482215818578,
          -2.2774092933238643,
          null
         ],
         "y": [
          -0.04361938736533583,
          -0.09943383713512764,
          null
         ]
        },
        {
         "hoverinfo": "none",
         "line": {
          "color": "rgb(30, 152, 138)",
          "width": 9.6
         },
         "mode": "lines",
         "type": "scatter",
         "uid": "6bbf4383-3358-40f9-8737-e96433b92290",
         "x": [
          -0.9914448613738105,
          -2.2410828371727587,
          null
         ],
         "y": [
          -0.13052619222005132,
          -0.29504415281404023,
          null
         ]
        },
        {
         "hoverinfo": "none",
         "line": {
          "color": "rgb(30, 152, 138)",
          "width": 9.6
         },
         "mode": "lines",
         "type": "scatter",
         "uid": "9483f06b-b7c7-42c4-9f17-e461b0f0216e",
         "x": [
          -0.9762960071199335,
          -2.2047846880790583,
          null
         ],
         "y": [
          -0.21643961393810252,
          -0.4887889976240054,
          null
         ]
        },
        {
         "hoverinfo": "none",
         "line": {
          "color": "rgb(31, 147, 139)",
          "width": 9.6
         },
         "mode": "lines",
         "type": "scatter",
         "uid": "57ff6c87-e820-4cb4-8c2d-aa2a25ae8fd1",
         "x": [
          -0.953716950748227,
          -2.1421486626384914,
          null
         ],
         "y": [
          -0.3007057995042727,
          -0.6754168789286494,
          null
         ]
        },
        {
         "hoverinfo": "none",
         "line": {
          "color": "rgb(32, 145, 140)",
          "width": 9.6
         },
         "mode": "lines",
         "type": "scatter",
         "uid": "733aa66e-63ec-4e4a-9ec3-3bca5709a412",
         "x": [
          -0.9238795325112868,
          -2.0708516595047732,
          null
         ],
         "y": [
          -0.38268343236508967,
          -0.8577748430297074,
          null
         ]
        },
        {
         "hoverinfo": "none",
         "line": {
          "color": "rgb(33, 142, 140)",
          "width": 9.6
         },
         "mode": "lines",
         "type": "scatter",
         "uid": "f375acc5-16d4-4ba0-9e62-47148c3224a1",
         "x": [
          -0.8870108331782216,
          -1.980555136144888,
          null
         ],
         "y": [
          -0.46174861323503413,
          -1.0310117456780572,
          null
         ]
        },
        {
         "hoverinfo": "none",
         "line": {
          "color": "rgb(33, 141, 140)",
          "width": 9.6
         },
         "mode": "lines",
         "type": "scatter",
         "uid": "90c4acf9-8fd2-4416-a58e-69fda7da36e1",
         "x": [
          -0.8433914458128858,
          -1.8794312534588204,
          null
         ],
         "y": [
          -0.5372996083468236,
          -1.1973297588107636,
          null
         ]
        },
        {
         "hoverinfo": "none",
         "line": {
          "color": "rgb(34, 139, 141)",
          "width": 9.6
         },
         "mode": "lines",
         "type": "scatter",
         "uid": "cdceef76-6864-40d8-8b7f-f11404da2d52",
         "x": [
          -0.7933533402912352,
          -1.7642508070518563,
          null
         ],
         "y": [
          -0.6087614290087207,
          -1.3537572578145507,
          null
         ]
        },
        {
         "hoverinfo": "none",
         "line": {
          "color": "rgb(34, 138, 141)",
          "width": 9.6
         },
         "mode": "lines",
         "type": "scatter",
         "uid": "87ee2510-95cb-4fc7-9950-44d1fd097ad5",
         "x": [
          -0.7372773368101241,
          -1.6378422016885115,
          null
         ],
         "y": [
          -0.6755902076156601,
          -1.500805867528515,
          null
         ]
        },
        {
         "hoverinfo": "none",
         "line": {
          "color": "rgb(35, 137, 141)",
          "width": 9.6
         },
         "mode": "lines",
         "type": "scatter",
         "uid": "f334bf5a-2914-4fac-b56b-9df2e57282ef",
         "x": [
          -0.6755902076156604,
          -1.4963967524893393,
          null
         ],
         "y": [
          -0.7372773368101239,
          -1.6330304969640657,
          null
         ]
        },
        {
         "hoverinfo": "none",
         "line": {
          "color": "rgb(35, 136, 141)",
          "width": 9.6
         },
         "mode": "lines",
         "type": "scatter",
         "uid": "1e912945-99c3-40e7-bb04-5beaed0ffa90",
         "x": [
          -0.6087614290087209,
          -1.347990044276574,
          null
         ],
         "y": [
          -0.7933533402912349,
          -1.7567348280385704,
          null
         ]
        },
        {
         "hoverinfo": "none",
         "line": {
          "color": "rgb(41, 121, 142)",
          "width": 9.6
         },
         "mode": "lines",
         "type": "scatter",
         "uid": "1d738b91-b2f0-46ab-beba-14eddeeee339",
         "x": [
          -0.5372996083468242,
          -1.1662229393801593,
          null
         ],
         "y": [
          -0.8433914458128855,
          -1.8306033276485996,
          null
         ]
        },
        {
         "hoverinfo": "none",
         "line": {
          "color": "rgb(41, 120, 142)",
          "width": 9.6
         },
         "mode": "lines",
         "type": "scatter",
         "uid": "0ca5d435-5ac9-4828-b294-8d11b8a0b232",
         "x": [
          -0.46174861323503436,
          -1.000876573024824,
          null
         ],
         "y": [
          -0.8870108331782215,
          -1.9226660080848352,
          null
         ]
        },
        {
         "hoverinfo": "none",
         "line": {
          "color": "rgb(42, 119, 142)",
          "width": 9.6
         },
         "mode": "lines",
         "type": "scatter",
         "uid": "9a2fa75d-9898-44c8-b47c-176d756fd563",
         "x": [
          -0.38268343236509034,
          -0.828046382704926,
          null
         ],
         "y": [
          -0.9238795325112865,
          -1.999080807400211,
          null
         ]
        },
        {
         "hoverinfo": "none",
         "line": {
          "color": "rgb(42, 118, 142)",
          "width": 9.6
         },
         "mode": "lines",
         "type": "scatter",
         "uid": "5b842690-ebca-4f72-927b-25ee8376e884",
         "x": [
          -0.3007057995042738,
          -0.6499676723179746,
          null
         ],
         "y": [
          -0.9537169507482267,
          -2.061434091227799,
          null
         ]
        },
        {
         "hoverinfo": "none",
         "line": {
          "color": "rgb(43, 116, 142)",
          "width": 9.6
         },
         "mode": "lines",
         "type": "scatter",
         "uid": "130c002b-9427-404b-986b-1c814fea2a8b",
         "x": [
          -0.21643961393810368,
          -0.4665071089470116,
          null
         ],
         "y": [
          -0.9762960071199331,
          -2.1042775833460787,
          null
         ]
        },
        {
         "hoverinfo": "none",
         "line": {
          "color": "rgb(46, 109, 142)",
          "width": 9.6
         },
         "mode": "lines",
         "type": "scatter",
         "uid": "e47383ca-7e84-4b80-a4f6-bfb87f7b470d",
         "x": [
          -0.13052619222005163,
          -0.27894134257384084,
          null
         ],
         "y": [
          -0.9914448613738104,
          -2.118769850064326,
          null
         ]
        },
        {
         "hoverinfo": "none",
         "line": {
          "color": "rgb(46, 108, 142)",
          "width": 9.6
         },
         "mode": "lines",
         "type": "scatter",
         "uid": "63c000f8-771e-4440-abe7-7226c2a7779e",
         "x": [
          -0.04361938736533613,
          -0.09310673020992485,
          null
         ],
         "y": [
          -0.9990482215818578,
          -2.1324947197091486,
          null
         ]
        },
        {
         "hoverinfo": "none",
         "line": {
          "color": "rgb(49, 101, 141)",
          "width": 9.6
         },
         "mode": "lines",
         "type": "scatter",
         "uid": "6d2bea80-3e5b-40b7-8f62-3d009db343f9",
         "x": [
          0.043619387365335764,
          0.0922067933758603,
          null
         ],
         "y": [
          -0.9990482215818578,
          -2.1118827774533546,
          null
         ]
        },
        {
         "hoverinfo": "none",
         "line": {
          "color": "rgb(53, 92, 140)",
          "width": 9.6
         },
         "mode": "lines",
         "type": "scatter",
         "uid": "cebaadb2-97ab-4ec5-958b-e406664c1b9c",
         "x": [
          0.13052619222005127,
          0.2727860021407261,
          null
         ],
         "y": [
          -0.9914448613738105,
          -2.0720153976542774,
          null
         ]
        },
        {
         "hoverinfo": "none",
         "line": {
          "color": "rgb(54, 91, 140)",
          "width": 9.6
         },
         "mode": "lines",
         "type": "scatter",
         "uid": "98e8ae7f-5b28-4417-b055-afc9db1c0d21",
         "x": [
          0.21643961393810332,
          0.45169808273019324,
          null
         ],
         "y": [
          -0.9762960071199333,
          -2.0374783828589256,
          null
         ]
        },
        {
         "hoverinfo": "none",
         "line": {
          "color": "rgb(54, 91, 140)",
          "width": 9.6
         },
         "mode": "lines",
         "type": "scatter",
         "uid": "5f2831ec-0fab-4253-bfca-13780e9cf442",
         "x": [
          0.30070579950427345,
          0.6274305639761799,
          null
         ],
         "y": [
          -0.9537169507482268,
          -1.9899555155506687,
          null
         ]
        },
        {
         "hoverinfo": "none",
         "line": {
          "color": "rgb(55, 89, 140)",
          "width": 9.6
         },
         "mode": "lines",
         "type": "scatter",
         "uid": "3da6d2ba-a00f-4f96-86ec-7fb94321df2a",
         "x": [
          0.38268343236509,
          0.7971900133163295,
          null
         ],
         "y": [
          -0.9238795325112866,
          -1.9245869419366695,
          null
         ]
        },
        {
         "hoverinfo": "none",
         "line": {
          "color": "rgb(55, 88, 140)",
          "width": 9.6
         },
         "mode": "lines",
         "type": "scatter",
         "uid": "ce63d565-4535-4508-9dd3-26406bb117db",
         "x": [
          0.4617486132350341,
          0.959756643888314,
          null
         ],
         "y": [
          -0.8870108331782216,
          -1.8436753591512804,
          null
         ]
        },
        {
         "hoverinfo": "none",
         "line": {
          "color": "rgb(56, 87, 140)",
          "width": 9.6
         },
         "mode": "lines",
         "type": "scatter",
         "uid": "eb40b74a-f594-427d-9933-e5ffe2f27609",
         "x": [
          0.5372996083468239,
          1.1165651439982103,
          null
         ],
         "y": [
          -0.8433914458128857,
          -1.7526562024461043,
          null
         ]
        },
        {
         "hoverinfo": "none",
         "line": {
          "color": "rgb(59, 81, 138)",
          "width": 9.6
         },
         "mode": "lines",
         "type": "scatter",
         "uid": "838765f2-652a-4f5f-9b4d-8ff767cb400b",
         "x": [
          0.6087614290087205,
          1.2537922231562766,
          null
         ],
         "y": [
          -0.7933533402912352,
          -1.6339738374882429,
          null
         ]
        },
        {
         "hoverinfo": "none",
         "line": {
          "color": "rgb(70, 45, 124)",
          "width": 9.6
         },
         "mode": "lines",
         "type": "scatter",
         "uid": "f902b7c1-8611-4f72-9190-6f8118379fbe",
         "x": [
          0.6755902076156601,
          1.337668611079007,
          null
         ],
         "y": [
          -0.7372773368101242,
          -1.4598091268840458,
          null
         ]
        },
        {
         "hoverinfo": "none",
         "line": {
          "color": "rgb(71, 17, 99)",
          "width": 9.6
         },
         "mode": "lines",
         "type": "scatter",
         "uid": "9d9a53ce-3808-472b-b820-c3875ced23dd",
         "x": [
          0.7372773368101239,
          1.4140203238611007,
          null
         ],
         "y": [
          -0.6755902076156605,
          -1.2957109034481404,
          null
         ]
        },
        {
         "hoverinfo": "none",
         "line": {
          "color": "rgb(70, 12, 95)",
          "width": 9.6
         },
         "mode": "lines",
         "type": "scatter",
         "uid": "3f7c5997-e08e-497d-9b9b-8de1e729b8a9",
         "x": [
          0.7933533402912349,
          1.515555412590035,
          null
         ],
         "y": [
          -0.608761429008721,
          -1.162926569857923,
          null
         ]
        },
        {
         "hoverinfo": "none",
         "line": {
          "color": "rgb(68, 3, 87)",
          "width": 9.6
         },
         "mode": "lines",
         "type": "scatter",
         "uid": "7e9024c3-1675-4653-b270-1973322fc2ff",
         "x": [
          0.8433914458128855,
          1.5983599568858096,
          null
         ],
         "y": [
          -0.5372996083468242,
          -1.0182675945974973,
          null
         ]
        },
        {
         "hoverinfo": "none",
         "line": {
          "color": "rgb(68, 1, 84)",
          "width": 9.6
         },
         "mode": "lines",
         "type": "scatter",
         "uid": "f04f1c2d-57cd-4028-a80f-4f0796894f6b",
         "x": [
          0.8870108331782214,
          1.6744897139177075,
          null
         ],
         "y": [
          -0.4617486132350344,
          -0.8716841715533796,
          null
         ]
        },
        {
         "hoverinfo": "text",
         "marker": {
          "color": "rgb(61, 187, 116)",
          "size": 0.05
         },
         "mode": "markers",
         "name": "",
         "text": [
          "Denmark<br>Score: 7.526<br>World rank: 1",
          "Switzerland<br>Score: 7.509<br>World rank: 2",
          "Iceland<br>Score: 7.501<br>World rank: 3",
          "Norway<br>Score: 7.498<br>World rank: 4",
          "Finland<br>Score: 7.413<br>World rank: 5",
          "Netherlands<br>Score: 7.339<br>World rank: 7",
          "Sweden<br>Score: 7.291<br>World rank: 10",
          "Israel<br>Score: 7.267<br>World rank: 11",
          "Austria<br>Score: 7.119<br>World rank: 12",
          "Germany<br>Score: 6.994<br>World rank: 16",
          "Belgium<br>Score: 6.929<br>World rank: 18",
          "Ireland<br>Score: 6.907<br>World rank: 19",
          "Luxembourg<br>Score: 6.871<br>World rank: 20",
          "U Kingdom<br>Score: 6.725<br>World rank: 23",
          "Czech Rep<br>Score: 6.596<br>World rank: 27",
          "Malta<br>Score: 6.488<br>World rank: 30",
          "France<br>Score: 6.478<br>World rank: 32",
          "Spain<br>Score: 6.361<br>World rank: 37",
          "Slovakia<br>Score: 6.078<br>World rank: 45",
          "Uzbekistan<br>Score: 5.987<br>World rank: 49",
          "Italy<br>Score: 5.977<br>World rank: 50",
          "Kazakhstan<br>Score: 5.919<br>World rank: 54",
          "Moldova<br>Score: 5.897<br>World rank: 55",
          "Russia<br>Score: 5.856<br>World rank: 56",
          "Poland<br>Score: 5.835<br>World rank: 57",
          "Lithuania<br>Score: 5.813<br>World rank: 60",
          "Belarus<br>Score: 5.802<br>World rank: 61",
          "North Cyprus<br>Score: 5.771<br>World rank: 62",
          "Slovenia<br>Score: 5.768<br>World rank: 63",
          "Latvia<br>Score: 5.56<br>World rank: 68",
          "Cyprus<br>Score: 5.546<br>World rank: 69",
          "Romania<br>Score: 5.528<br>World rank: 71",
          "Estonia<br>Score: 5.517<br>World rank: 72",
          "Croatia<br>Score: 5.488<br>World rank: 74",
          "Kosovo<br>Score: 5.401<br>World rank: 77",
          "Turkey<br>Score: 5.389<br>World rank: 78",
          "Azerbaijan<br>Score: 5.291<br>World rank: 81",
          "Serbia<br>Score: 5.177<br>World rank: 86",
          "Bosn Herzeg<br>Score: 5.163<br>World rank: 87",
          "Montenegro<br>Score: 5.161<br>World rank: 88",
          "Hungary<br>Score: 5.145<br>World rank: 91",
          "Portugal<br>Score: 5.123<br>World rank: 94",
          "Macedonia<br>Score: 5.121<br>World rank: 95",
          "Greece<br>Score: 5.033<br>World rank: 99",
          "Albania<br>Score: 4.655<br>World rank: 109",
          "Armenia<br>Score: 4.36<br>World rank: 121",
          "Ukraine<br>Score: 4.324<br>World rank: 123",
          "Georgia<br>Score: 4.252<br>World rank: 126",
          "Bulgaria<br>Score: 4.217<br>World rank: 129"
         ],
         "type": "scatter",
         "uid": "056b4d61-f8ed-452e-912b-e837ecec0f39",
         "x": [
          -0.07817512518760093,
          -0.23369684247061662,
          -0.3873357764801775,
          -0.5380418084182773,
          -0.681297357009554,
          -0.8184615682383931,
          -0.9496629182896339,
          -1.074431882125181,
          -1.181856174775227,
          -1.2800686729838089,
          -1.372000213436284,
          -1.456581415942317,
          -1.528553089469544,
          -1.5778889910521712,
          -1.6158976883414171,
          -1.643054795982473,
          -1.6675058942137624,
          -1.6679898781589313,
          -1.6382287574528611,
          -1.6162638492732846,
          -1.590540347599496,
          -1.547932806693359,
          -1.49736559600803,
          -1.4337829846615548,
          -1.361411349635853,
          -1.2788020736715457,
          -1.1875597692493178,
          -1.0859934800524997,
          -0.9783757366426474,
          -0.8517612738634918,
          -0.7313125931299291,
          -0.6053649075350082,
          -0.4753367359111242,
          -0.34147336144255763,
          -0.20473376739694624,
          -0.06836305878763049,
          0.06791309037059803,
          0.20165609718038868,
          0.3340688483341483,
          0.4640681817402267,
          0.5899367228407097,
          0.7107526285616741,
          0.8269323761725171,
          0.9312768260824986,
          1.0066294093473336,
          1.0756488303356122,
          1.154454376440635,
          1.2208757013493474,
          1.2807502735479646
         ],
         "y": [
          1.7905047390160749,
          1.7751037523270674,
          1.747158780741683,
          1.7064506030335118,
          1.6447973193014098,
          1.572250044198745,
          1.4906721859625434,
          1.4002268901750674,
          1.289769690573416,
          1.1729668299381792,
          1.052772791282555,
          0.9279447025417205,
          0.7957143733969201,
          0.6535830200130087,
          0.5094905840863975,
          0.36425647869919864,
          0.2195313157149457,
          0.0728260108422732,
          -0.07152661225023174,
          -0.21278517251704576,
          -0.35261430578105396,
          -0.48806133921646105,
          -0.6202291376973985,
          -0.7463801794565457,
          -0.8673146835787936,
          -0.9812593434116357,
          -1.0881980375720874,
          -1.1851539168870948,
          -1.2750440841649027,
          -1.3369973867307425,
          -1.4048384206315283,
          -1.461480169955749,
          -1.5075755209880128,
          -1.540286795233006,
          -1.5551073557190682,
          -1.5657714706455033,
          -1.5554654995176063,
          -1.531730129514044,
          -1.5068871949894294,
          -1.471836233149448,
          -1.424233237223978,
          -1.365343096164751,
          -1.298023824129495,
          -1.2136635888897391,
          -1.098543231847085,
          -0.9856505555319004,
          -0.885843999433322,
          -0.7777836014721607,
          -0.666716392394207
         ]
        },
        {
         "hoverinfo": "text",
         "marker": {
          "color": "rgb(61, 187, 116)",
          "size": 0.05
         },
         "mode": "markers",
         "name": "",
         "text": [
          "Denmark<br>Score: 7.526<br>World rank: 1",
          "Switzerland<br>Score: 7.509<br>World rank: 2",
          "Iceland<br>Score: 7.501<br>World rank: 3",
          "Norway<br>Score: 7.498<br>World rank: 4",
          "Finland<br>Score: 7.413<br>World rank: 5",
          "Netherlands<br>Score: 7.339<br>World rank: 7",
          "Sweden<br>Score: 7.291<br>World rank: 10",
          "Israel<br>Score: 7.267<br>World rank: 11",
          "Austria<br>Score: 7.119<br>World rank: 12",
          "Germany<br>Score: 6.994<br>World rank: 16",
          "Belgium<br>Score: 6.929<br>World rank: 18",
          "Ireland<br>Score: 6.907<br>World rank: 19",
          "Luxembourg<br>Score: 6.871<br>World rank: 20",
          "U Kingdom<br>Score: 6.725<br>World rank: 23",
          "Czech Rep<br>Score: 6.596<br>World rank: 27",
          "Malta<br>Score: 6.488<br>World rank: 30",
          "France<br>Score: 6.478<br>World rank: 32",
          "Spain<br>Score: 6.361<br>World rank: 37",
          "Slovakia<br>Score: 6.078<br>World rank: 45",
          "Uzbekistan<br>Score: 5.987<br>World rank: 49",
          "Italy<br>Score: 5.977<br>World rank: 50",
          "Kazakhstan<br>Score: 5.919<br>World rank: 54",
          "Moldova<br>Score: 5.897<br>World rank: 55",
          "Russia<br>Score: 5.856<br>World rank: 56",
          "Poland<br>Score: 5.835<br>World rank: 57",
          "Lithuania<br>Score: 5.813<br>World rank: 60",
          "Belarus<br>Score: 5.802<br>World rank: 61",
          "North Cyprus<br>Score: 5.771<br>World rank: 62",
          "Slovenia<br>Score: 5.768<br>World rank: 63",
          "Latvia<br>Score: 5.56<br>World rank: 68",
          "Cyprus<br>Score: 5.546<br>World rank: 69",
          "Romania<br>Score: 5.528<br>World rank: 71",
          "Estonia<br>Score: 5.517<br>World rank: 72",
          "Croatia<br>Score: 5.488<br>World rank: 74",
          "Kosovo<br>Score: 5.401<br>World rank: 77",
          "Turkey<br>Score: 5.389<br>World rank: 78",
          "Azerbaijan<br>Score: 5.291<br>World rank: 81",
          "Serbia<br>Score: 5.177<br>World rank: 86",
          "Bosn Herzeg<br>Score: 5.163<br>World rank: 87",
          "Montenegro<br>Score: 5.161<br>World rank: 88",
          "Hungary<br>Score: 5.145<br>World rank: 91",
          "Portugal<br>Score: 5.123<br>World rank: 94",
          "Macedonia<br>Score: 5.121<br>World rank: 95",
          "Greece<br>Score: 5.033<br>World rank: 99",
          "Albania<br>Score: 4.655<br>World rank: 109",
          "Armenia<br>Score: 4.36<br>World rank: 121",
          "Ukraine<br>Score: 4.324<br>World rank: 123",
          "Georgia<br>Score: 4.252<br>World rank: 126",
          "Bulgaria<br>Score: 4.217<br>World rank: 129"
         ],
         "type": "scatter",
         "uid": "8d8f628a-14f1-486f-9aa4-723ba89e9899",
         "x": [
          -0.11273086300986597,
          -0.3368674927211816,
          -0.5582319390222521,
          -0.7753778173322815,
          -0.9799112816540181,
          -1.1751745232417523,
          -1.3620262282324438,
          -1.5401023352416412,
          -1.6881221419347938,
          -1.8228600091574938,
          -1.9506470865813332,
          -2.0697713860717486,
          -2.1700953457608665,
          -2.231898449593056,
          -2.278078425934607,
          -2.309813584845013,
          -2.3435669270537143,
          -2.3369315347360047,
          -2.2774092933238643,
          -2.2410828371727587,
          -2.2047846880790583,
          -2.1421486626384914,
          -2.0708516595047732,
          -1.980555136144888,
          -1.8794312534588204,
          -1.7642508070518563,
          -1.6378422016885115,
          -1.4963967524893393,
          -1.347990044276574,
          -1.1662229393801593,
          -1.000876573024824,
          -0.828046382704926,
          -0.6499676723179746,
          -0.4665071089470116,
          -0.27894134257384084,
          -0.09310673020992485,
          0.0922067933758603,
          0.2727860021407261,
          0.45169808273019324,
          0.6274305639761799,
          0.7971900133163295,
          0.959756643888314,
          1.1165651439982103,
          1.2537922231562766,
          1.337668611079007,
          1.4140203238611007,
          1.515555412590035,
          1.5983599568858096,
          1.6744897139177075
         ],
         "y": [
          2.581961256450292,
          2.5587626432803243,
          2.5180215543634326,
          2.459184255318797,
          2.3657151060915327,
          2.257489255219268,
          2.137952926112201,
          2.0071004400588994,
          1.8422620443367077,
          1.670343452260698,
          1.4967841535563895,
          1.3185897967366167,
          1.1296801335588063,
          0.9244826076609276,
          0.7182753686685222,
          0.5120733434602945,
          0.3085364392098398,
          0.10203263431921034,
          -0.09943383713512764,
          -0.29504415281404023,
          -0.4887889976240054,
          -0.6754168789286494,
          -0.8577748430297074,
          -1.0310117456780572,
          -1.1973297588107636,
          -1.3537572578145507,
          -1.500805867528515,
          -1.6330304969640657,
          -1.7567348280385704,
          -1.8306033276485996,
          -1.9226660080848352,
          -1.999080807400211,
          -2.061434091227799,
          -2.1042775833460787,
          -2.118769850064326,
          -2.1324947197091486,
          -2.1118827774533546,
          -2.0720153976542774,
          -2.0374783828589256,
          -1.9899555155506687,
          -1.9245869419366695,
          -1.8436753591512804,
          -1.7526562024461043,
          -1.6339738374882429,
          -1.4598091268840458,
          -1.2957109034481404,
          -1.162926569857923,
          -1.0182675945974973,
          -0.8716841715533796
         ]
        }
       ],
       "_js2py_pointsCallback": {},
       "_js2py_relayout": {},
       "_js2py_restyle": {},
       "_js2py_update": {},
       "_last_layout_edit_id": 1,
       "_last_trace_edit_id": 1,
       "_layout": {
        "annotations": [
         {
          "font": {
           "size": 10
          },
          "showarrow": false,
          "text": "Denmark",
          "textangle": 87.5,
          "x": -0.12668906696677348,
          "y": 2.901656687356487
         },
         {
          "font": {
           "size": 10
          },
          "showarrow": false,
          "text": "Switzerland",
          "textangle": 82.5,
          "x": -0.3786358742315981,
          "y": 2.8760249989199442
         },
         {
          "font": {
           "size": 10
          },
          "showarrow": false,
          "text": "Iceland",
          "textangle": 77.5,
          "x": -0.627492615482445,
          "y": 2.830436276641811
         },
         {
          "font": {
           "size": 10
          },
          "showarrow": false,
          "text": "Norway",
          "textangle": 72.5,
          "x": -0.8716036731736488,
          "y": 2.764373679558229
         },
         {
          "font": {
           "size": 10
          },
          "showarrow": false,
          "text": "Finland",
          "textangle": 67.5,
          "x": -1.1023699800108469,
          "y": 2.6613565564951447
         },
         {
          "font": {
           "size": 10
          },
          "showarrow": false,
          "text": "Netherlands",
          "textangle": 62.5,
          "x": -1.322934079476963,
          "y": 2.541332721836299
         },
         {
          "font": {
           "size": 10
          },
          "showarrow": false,
          "text": "Sweden",
          "textangle": 57.5,
          "x": -1.5339621029034276,
          "y": 2.407838188772325
         },
         {
          "font": {
           "size": 10
          },
          "showarrow": false,
          "text": "Israel",
          "textangle": 52.5,
          "x": -1.7349059925244321,
          "y": 2.260973508952095
         },
         {
          "font": {
           "size": 10
          },
          "showarrow": false,
          "text": "Austria",
          "textangle": 47.5,
          "x": -1.9043110083718053,
          "y": 2.0781907921159477
         },
         {
          "font": {
           "size": 10
          },
          "showarrow": false,
          "text": "Germany",
          "textangle": 42.5,
          "x": -2.0587887569367336,
          "y": 1.8865323186977094
         },
         {
          "font": {
           "size": 10
          },
          "showarrow": false,
          "text": "Belgium",
          "textangle": 37.5,
          "x": -2.204520155474529,
          "y": 1.6915878108391804
         },
         {
          "font": {
           "size": 10
          },
          "showarrow": false,
          "text": "Ireland",
          "textangle": 32.50000000000003,
          "x": -2.3396566487318724,
          "y": 1.4905256714076005
         },
         {
          "font": {
           "size": 10
          },
          "showarrow": false,
          "text": "Luxembourg",
          "textangle": 27.5,
          "x": -2.4539388123778973,
          "y": 1.277439689794017
         },
         {
          "font": {
           "size": 10
          },
          "showarrow": false,
          "text": "U Kingdom",
          "textangle": 22.5,
          "x": -2.527539899996668,
          "y": 1.0469413060177564
         },
         {
          "font": {
           "size": 10
          },
          "showarrow": false,
          "text": "Czech Rep",
          "textangle": 17.49999999999997,
          "x": -2.5832678501740403,
          "y": 0.8145012245098896
         },
         {
          "font": {
           "size": 10
          },
          "showarrow": false,
          "text": "Malta",
          "textangle": 12.5,
          "x": -2.622228307123392,
          "y": 0.5813340199204873
         },
         {
          "font": {
           "size": 10
          },
          "showarrow": false,
          "text": "France",
          "textangle": 7.5,
          "x": -2.6608292826933337,
          "y": 0.3503048207202563
         },
         {
          "font": {
           "size": 10
          },
          "showarrow": false,
          "text": "Spain",
          "textangle": 2.5,
          "x": -2.6566269656421992,
          "y": 0.11599083827611789
         },
         {
          "font": {
           "size": 10
          },
          "showarrow": false,
          "text": "Slovakia",
          "textangle": -2.5,
          "x": -2.5971047242300593,
          "y": -0.11339204109203511
         },
         {
          "font": {
           "size": 10
          },
          "showarrow": false,
          "text": "Uzbekistan",
          "textangle": -7.499999999999972,
          "x": -2.558345192812378,
          "y": -0.3368125343244566
         },
         {
          "font": {
           "size": 10
          },
          "showarrow": false,
          "text": "Italy",
          "textangle": -12.499999999999972,
          "x": -2.517199410357437,
          "y": -0.5580496740841983
         },
         {
          "font": {
           "size": 10
          },
          "showarrow": false,
          "text": "Kazakhstan",
          "textangle": -17.49999999999997,
          "x": -2.447338086877924,
          "y": -0.7716427347700168
         },
         {
          "font": {
           "size": 10
          },
          "showarrow": false,
          "text": "Moldova",
          "textangle": -22.5,
          "x": -2.366493109908385,
          "y": -0.9802335413865361
         },
         {
          "font": {
           "size": 10
          },
          "showarrow": false,
          "text": "Russia",
          "textangle": -27.5,
          "x": -2.2643986027619194,
          "y": -1.1787713019132684
         },
         {
          "font": {
           "size": 10
          },
          "showarrow": false,
          "text": "Poland",
          "textangle": -32.49999999999997,
          "x": -2.149316516118944,
          "y": -1.3692656334817472
         },
         {
          "font": {
           "size": 10
          },
          "showarrow": false,
          "text": "Lithuania",
          "textangle": -37.5,
          "x": -2.0181238759450513,
          "y": -1.5485609150973414
         },
         {
          "font": {
           "size": 10
          },
          "showarrow": false,
          "text": "Belarus",
          "textangle": -42.5,
          "x": -1.8737709494677512,
          "y": -1.716994733965526
         },
         {
          "font": {
           "size": 10
          },
          "showarrow": false,
          "text": "North Cyprus",
          "textangle": -47.5,
          "x": -1.7125856189263509,
          "y": -1.8689592447433057
         },
         {
          "font": {
           "size": 10
          },
          "showarrow": false,
          "text": "Slovenia",
          "textangle": -52.499999999999986,
          "x": -1.5427937015593645,
          "y": -2.0106078969317656
         },
         {
          "font": {
           "size": 10
          },
          "showarrow": false,
          "text": "Latvia",
          "textangle": -57.49999999999997,
          "x": -1.3381588140511433,
          "y": -2.100488590308723
         },
         {
          "font": {
           "size": 10
          },
          "showarrow": false,
          "text": "Cyprus",
          "textangle": -62.49999999999997,
          "x": -1.1486361292600349,
          "y": -2.2065094747018663
         },
         {
          "font": {
           "size": 10
          },
          "showarrow": false,
          "text": "Romania",
          "textangle": -67.49999999999997,
          "x": -0.950505081061755,
          "y": -2.294722257803823
         },
         {
          "font": {
           "size": 10
          },
          "showarrow": false,
          "text": "Estonia",
          "textangle": -72.49999999999997,
          "x": -0.7461935281593423,
          "y": -2.3666235154672317
         },
         {
          "font": {
           "size": 10
          },
          "showarrow": false,
          "text": "Croatia",
          "textangle": -77.49999999999996,
          "x": -0.5357677854072048,
          "y": -2.4166923056244576
         },
         {
          "font": {
           "size": 10
          },
          "showarrow": false,
          "text": "Kosovo",
          "textangle": -82.49999999999999,
          "x": -0.3207097240842574,
          "y": -2.4360322057039454
         },
         {
          "font": {
           "size": 10
          },
          "showarrow": false,
          "text": "Turkey",
          "textangle": -87.49999999999999,
          "x": -0.10706493416683241,
          "y": -2.452190150615343
         },
         {
          "font": {
           "size": 10
          },
          "showarrow": false,
          "text": "Azerbaijan",
          "textangle": 87.5,
          "x": 0.10616499733276774,
          "y": -2.4315782083595487
         },
         {
          "font": {
           "size": 10
          },
          "showarrow": false,
          "text": "Serbia",
          "textangle": 82.5,
          "x": 0.3145543836511425,
          "y": -2.389277753293897
         },
         {
          "font": {
           "size": 10
          },
          "showarrow": false,
          "text": "Bosn Herzeg",
          "textangle": 77.5,
          "x": 0.5209587591903864,
          "y": -2.3498931051373044
         },
         {
          "font": {
           "size": 10
          },
          "showarrow": false,
          "text": "Montenegro",
          "textangle": 72.5,
          "x": 0.7236564198175475,
          "y": -2.2951449397901014
         },
         {
          "font": {
           "size": 10
          },
          "showarrow": false,
          "text": "Hungary",
          "textangle": 67.5,
          "x": 0.9196487116731584,
          "y": -2.2202283923402817
         },
         {
          "font": {
           "size": 10
          },
          "showarrow": false,
          "text": "Portugal",
          "textangle": 62.5,
          "x": 1.1075162001235248,
          "y": -2.1275188257683113
         },
         {
          "font": {
           "size": 10
          },
          "showarrow": false,
          "text": "Macedonia",
          "textangle": 57.5,
          "x": 1.2885010186691939,
          "y": -2.0225414651062277
         },
         {
          "font": {
           "size": 10
          },
          "showarrow": false,
          "text": "Greece",
          "textangle": 52.5,
          "x": 1.4485958804390673,
          "y": -1.8878469063814385
         },
         {
          "font": {
           "size": 10
          },
          "showarrow": false,
          "text": "Albania",
          "textangle": 47.5,
          "x": 1.5538574775160185,
          "y": -1.6957378746632858
         },
         {
          "font": {
           "size": 10
          },
          "showarrow": false,
          "text": "Armenia",
          "textangle": 42.50000000000003,
          "x": 1.6499490716403404,
          "y": -1.5118997698851517
         },
         {
          "font": {
           "size": 10
          },
          "showarrow": false,
          "text": "Ukraine",
          "textangle": 37.50000000000003,
          "x": 1.7694284814832302,
          "y": -1.3577302271407137
         },
         {
          "font": {
           "size": 10
          },
          "showarrow": false,
          "text": "Georgia",
          "textangle": 32.50000000000003,
          "x": 1.8682452195459327,
          "y": -1.1902034692684809
         },
         {
          "font": {
           "size": 10
          },
          "showarrow": false,
          "text": "Bulgaria",
          "textangle": 27.50000000000003,
          "x": 1.9583331805347384,
          "y": -1.0194437277885906
         },
         {
          "font": {
           "size": 11
          },
          "showarrow": false,
          "text": "Europe Happiness Score and Global Ranking<br>Data: World Happiness Report, 2016<a href='http://worldhappiness.report/wp-content/uploads/sites/2/2016/03/HR-V1_web.pdf'> [1]</a>",
          "textangle": 0,
          "x": 0.5,
          "y": 0.1
         }
        ],
        "font": {
         "size": 12
        },
        "height": 1000,
        "hovermode": "closest",
        "showlegend": false,
        "template": {},
        "title": {
         "text": ""
        },
        "width": 1000,
        "xaxis": {
         "range": [
          -3.5,
          4
         ],
         "visible": false
        }
       },
       "_py2js_addTraces": {},
       "_py2js_animate": {},
       "_py2js_deleteTraces": {},
       "_py2js_moveTraces": {},
       "_py2js_removeLayoutProps": {},
       "_py2js_removeTraceProps": {},
       "_py2js_restyle": {},
       "_view_count": 0
      }
     },
     "aa930a3270b54d838e7d060c062e2372": {
      "model_module": "plotlywidget",
      "model_module_version": "^0.11.0",
      "model_name": "FigureModel",
      "state": {
       "_config": {
        "plotlyServerURL": "https://plot.ly"
       },
       "_data": [
        {
         "hoverinfo": "none",
         "line": {
          "color": "rgb(253, 231, 36)",
          "width": 9.6
         },
         "mode": "lines",
         "type": "scatter",
         "uid": "ac3a9e89-064b-4c2e-afd1-b45ccdec9009",
         "x": [
          -0.04361938736533589,
          -0.11273086300986597,
          null
         ],
         "y": [
          0.9990482215818578,
          2.581961256450292,
          null
         ]
        },
        {
         "hoverinfo": "none",
         "line": {
          "color": "rgb(250, 230, 34)",
          "width": 9.6
         },
         "mode": "lines",
         "type": "scatter",
         "uid": "d1a6f1e1-4aeb-409a-8d51-34acc7776683",
         "x": [
          -0.1305261922200516,
          -0.3368674927211816,
          null
         ],
         "y": [
          0.9914448613738104,
          2.5587626432803243,
          null
         ]
        },
        {
         "hoverinfo": "none",
         "line": {
          "color": "rgb(250, 230, 34)",
          "width": 9.6
         },
         "mode": "lines",
         "type": "scatter",
         "uid": "286feae4-dea5-4a68-834a-0b6400b0f085",
         "x": [
          -0.2164396139381028,
          -0.5582319390222521,
          null
         ],
         "y": [
          0.9762960071199334,
          2.5180215543634326,
          null
         ]
        },
        {
         "hoverinfo": "none",
         "line": {
          "color": "rgb(248, 230, 33)",
          "width": 9.6
         },
         "mode": "lines",
         "type": "scatter",
         "uid": "f8caa26d-3fe1-4f0b-9708-d0054e262279",
         "x": [
          -0.3007057995042731,
          -0.7753778173322815,
          null
         ],
         "y": [
          0.9537169507482269,
          2.459184255318797,
          null
         ]
        },
        {
         "hoverinfo": "none",
         "line": {
          "color": "rgb(233, 228, 25)",
          "width": 9.6
         },
         "mode": "lines",
         "type": "scatter",
         "uid": "928b524d-915c-48fe-99c5-fed690206911",
         "x": [
          -0.3826834323650897,
          -0.9799112816540181,
          null
         ],
         "y": [
          0.9238795325112867,
          2.3657151060915327,
          null
         ]
        },
        {
         "hoverinfo": "none",
         "line": {
          "color": "rgb(218, 226, 24)",
          "width": 9.6
         },
         "mode": "lines",
         "type": "scatter",
         "uid": "5c9021a0-ea92-4d03-96ab-8c8f2ec6648f",
         "x": [
          -0.4617486132350338,
          -1.1751745232417523,
          null
         ],
         "y": [
          0.8870108331782218,
          2.257489255219268,
          null
         ]
        },
        {
         "hoverinfo": "none",
         "line": {
          "color": "rgb(207, 225, 28)",
          "width": 9.6
         },
         "mode": "lines",
         "type": "scatter",
         "uid": "5f5c5113-ca50-4504-b3b5-55bef4c19d31",
         "x": [
          -0.537299608346824,
          -1.3620262282324438,
          null
         ],
         "y": [
          0.8433914458128856,
          2.137952926112201,
          null
         ]
        },
        {
         "hoverinfo": "none",
         "line": {
          "color": "rgb(202, 224, 30)",
          "width": 9.6
         },
         "mode": "lines",
         "type": "scatter",
         "uid": "9494c44c-5c72-4fb2-8bf2-d16242907ccf",
         "x": [
          -0.6087614290087207,
          -1.5401023352416412,
          null
         ],
         "y": [
          0.7933533402912352,
          2.0071004400588994,
          null
         ]
        },
        {
         "hoverinfo": "none",
         "line": {
          "color": "rgb(173, 220, 48)",
          "width": 9.6
         },
         "mode": "lines",
         "type": "scatter",
         "uid": "98ec0ba1-5444-4f4b-a63d-ceaeb7ee32b7",
         "x": [
          -0.6755902076156602,
          -1.6881221419347938,
          null
         ],
         "y": [
          0.7372773368101241,
          1.8422620443367077,
          null
         ]
        },
        {
         "hoverinfo": "none",
         "line": {
          "color": "rgb(146, 215, 65)",
          "width": 9.6
         },
         "mode": "lines",
         "type": "scatter",
         "uid": "f2ee2b70-f278-43da-91dd-e64724eee4e4",
         "x": [
          -0.737277336810124,
          -1.8228600091574938,
          null
         ],
         "y": [
          0.6755902076156604,
          1.670343452260698,
          null
         ]
        },
        {
         "hoverinfo": "none",
         "line": {
          "color": "rgb(134, 212, 73)",
          "width": 9.6
         },
         "mode": "lines",
         "type": "scatter",
         "uid": "1dbbf498-dc39-4b47-9eb8-99fedf090a77",
         "x": [
          -0.793353340291235,
          -1.9506470865813332,
          null
         ],
         "y": [
          0.6087614290087209,
          1.4967841535563895,
          null
         ]
        },
        {
         "hoverinfo": "none",
         "line": {
          "color": "rgb(131, 211, 75)",
          "width": 9.6
         },
         "mode": "lines",
         "type": "scatter",
         "uid": "0e627a08-647f-44fe-979d-8259cb737266",
         "x": [
          -0.8433914458128855,
          -2.0697713860717486,
          null
         ],
         "y": [
          0.5372996083468241,
          1.3185897967366167,
          null
         ]
        },
        {
         "hoverinfo": "none",
         "line": {
          "color": "rgb(124, 210, 79)",
          "width": 9.6
         },
         "mode": "lines",
         "type": "scatter",
         "uid": "e9f5eeaa-d2ea-4ba1-8b56-a3b9996a976a",
         "x": [
          -0.8870108331782217,
          -2.1700953457608665,
          null
         ],
         "y": [
          0.4617486132350339,
          1.1296801335588063,
          null
         ]
        },
        {
         "hoverinfo": "none",
         "line": {
          "color": "rgb(98, 202, 95)",
          "width": 9.6
         },
         "mode": "lines",
         "type": "scatter",
         "uid": "4ce9435b-6f3f-4eb6-a7af-abf58aa83103",
         "x": [
          -0.9238795325112867,
          -2.231898449593056,
          null
         ],
         "y": [
          0.3826834323650899,
          0.9244826076609276,
          null
         ]
        },
        {
         "hoverinfo": "none",
         "line": {
          "color": "rgb(77, 194, 107)",
          "width": 9.6
         },
         "mode": "lines",
         "type": "scatter",
         "uid": "84308cfb-907d-440b-b48f-2a39b9784aa7",
         "x": [
          -0.953716950748227,
          -2.278078425934607,
          null
         ],
         "y": [
          0.3007057995042729,
          0.7182753686685222,
          null
         ]
        },
        {
         "hoverinfo": "none",
         "line": {
          "color": "rgb(61, 187, 116)",
          "width": 9.6
         },
         "mode": "lines",
         "type": "scatter",
         "uid": "26018af2-39c8-4f8b-b77e-c1167538c33e",
         "x": [
          -0.9762960071199334,
          -2.309813584845013,
          null
         ],
         "y": [
          0.21643961393810274,
          0.5120733434602945,
          null
         ]
        },
        {
         "hoverinfo": "none",
         "line": {
          "color": "rgb(59, 186, 117)",
          "width": 9.6
         },
         "mode": "lines",
         "type": "scatter",
         "uid": "527d7db9-2ebd-4b37-a0a1-942f2caefe56",
         "x": [
          -0.9914448613738104,
          -2.3435669270537143,
          null
         ],
         "y": [
          0.13052619222005157,
          0.3085364392098398,
          null
         ]
        },
        {
         "hoverinfo": "none",
         "line": {
          "color": "rgb(46, 178, 124)",
          "width": 9.6
         },
         "mode": "lines",
         "type": "scatter",
         "uid": "dafa8fcd-e9af-444f-9a07-fc4d2bf0cfff",
         "x": [
          -0.9990482215818578,
          -2.3369315347360047,
          null
         ],
         "y": [
          0.04361938736533607,
          0.10203263431921034,
          null
         ]
        },
        {
         "hoverinfo": "none",
         "line": {
          "color": "rgb(30, 158, 136)",
          "width": 9.6
         },
         "mode": "lines",
         "type": "scatter",
         "uid": "b16847e6-7d57-47de-854c-3bc1c38ed0b5",
         "x": [
          -0.9990482215818578,
          -2.2774092933238643,
          null
         ],
         "y": [
          -0.04361938736533583,
          -0.09943383713512764,
          null
         ]
        },
        {
         "hoverinfo": "none",
         "line": {
          "color": "rgb(30, 152, 138)",
          "width": 9.6
         },
         "mode": "lines",
         "type": "scatter",
         "uid": "2d7e92a9-0e37-4b17-a8a0-014b11f0440d",
         "x": [
          -0.9914448613738105,
          -2.2410828371727587,
          null
         ],
         "y": [
          -0.13052619222005132,
          -0.29504415281404023,
          null
         ]
        },
        {
         "hoverinfo": "none",
         "line": {
          "color": "rgb(30, 152, 138)",
          "width": 9.6
         },
         "mode": "lines",
         "type": "scatter",
         "uid": "763e9950-0f6d-46e5-a924-dd6cc8981fda",
         "x": [
          -0.9762960071199335,
          -2.2047846880790583,
          null
         ],
         "y": [
          -0.21643961393810252,
          -0.4887889976240054,
          null
         ]
        },
        {
         "hoverinfo": "none",
         "line": {
          "color": "rgb(31, 147, 139)",
          "width": 9.6
         },
         "mode": "lines",
         "type": "scatter",
         "uid": "7d66ebc2-4b2c-4422-a5a8-0a5ce8bc5f7d",
         "x": [
          -0.953716950748227,
          -2.1421486626384914,
          null
         ],
         "y": [
          -0.3007057995042727,
          -0.6754168789286494,
          null
         ]
        },
        {
         "hoverinfo": "none",
         "line": {
          "color": "rgb(32, 145, 140)",
          "width": 9.6
         },
         "mode": "lines",
         "type": "scatter",
         "uid": "03cc63fe-5dfd-4456-a349-018731fe8c9f",
         "x": [
          -0.9238795325112868,
          -2.0708516595047732,
          null
         ],
         "y": [
          -0.38268343236508967,
          -0.8577748430297074,
          null
         ]
        },
        {
         "hoverinfo": "none",
         "line": {
          "color": "rgb(33, 142, 140)",
          "width": 9.6
         },
         "mode": "lines",
         "type": "scatter",
         "uid": "190442bf-0aab-4784-a66c-c61386c23c24",
         "x": [
          -0.8870108331782216,
          -1.980555136144888,
          null
         ],
         "y": [
          -0.46174861323503413,
          -1.0310117456780572,
          null
         ]
        },
        {
         "hoverinfo": "none",
         "line": {
          "color": "rgb(33, 141, 140)",
          "width": 9.6
         },
         "mode": "lines",
         "type": "scatter",
         "uid": "3d999f25-c8ee-46dd-9af5-e10c3663fd8e",
         "x": [
          -0.8433914458128858,
          -1.8794312534588204,
          null
         ],
         "y": [
          -0.5372996083468236,
          -1.1973297588107636,
          null
         ]
        },
        {
         "hoverinfo": "none",
         "line": {
          "color": "rgb(34, 139, 141)",
          "width": 9.6
         },
         "mode": "lines",
         "type": "scatter",
         "uid": "ed22d0a2-3fcf-4a72-9bc0-8ac481259c9c",
         "x": [
          -0.7933533402912352,
          -1.7642508070518563,
          null
         ],
         "y": [
          -0.6087614290087207,
          -1.3537572578145507,
          null
         ]
        },
        {
         "hoverinfo": "none",
         "line": {
          "color": "rgb(34, 138, 141)",
          "width": 9.6
         },
         "mode": "lines",
         "type": "scatter",
         "uid": "7553e27e-48e9-425f-982f-f3bf30fc6ed4",
         "x": [
          -0.7372773368101241,
          -1.6378422016885115,
          null
         ],
         "y": [
          -0.6755902076156601,
          -1.500805867528515,
          null
         ]
        },
        {
         "hoverinfo": "none",
         "line": {
          "color": "rgb(35, 137, 141)",
          "width": 9.6
         },
         "mode": "lines",
         "type": "scatter",
         "uid": "69bb4722-0b63-4046-8b1e-d5f45a0aace2",
         "x": [
          -0.6755902076156604,
          -1.4963967524893393,
          null
         ],
         "y": [
          -0.7372773368101239,
          -1.6330304969640657,
          null
         ]
        },
        {
         "hoverinfo": "none",
         "line": {
          "color": "rgb(35, 136, 141)",
          "width": 9.6
         },
         "mode": "lines",
         "type": "scatter",
         "uid": "7c50555d-95a9-413c-88a9-936e5975fa9d",
         "x": [
          -0.6087614290087209,
          -1.347990044276574,
          null
         ],
         "y": [
          -0.7933533402912349,
          -1.7567348280385704,
          null
         ]
        },
        {
         "hoverinfo": "none",
         "line": {
          "color": "rgb(41, 121, 142)",
          "width": 9.6
         },
         "mode": "lines",
         "type": "scatter",
         "uid": "61b776db-6e73-42b8-b748-0393c3568dec",
         "x": [
          -0.5372996083468242,
          -1.1662229393801593,
          null
         ],
         "y": [
          -0.8433914458128855,
          -1.8306033276485996,
          null
         ]
        },
        {
         "hoverinfo": "none",
         "line": {
          "color": "rgb(41, 120, 142)",
          "width": 9.6
         },
         "mode": "lines",
         "type": "scatter",
         "uid": "e60be722-1830-4d17-8908-b4fb02791435",
         "x": [
          -0.46174861323503436,
          -1.000876573024824,
          null
         ],
         "y": [
          -0.8870108331782215,
          -1.9226660080848352,
          null
         ]
        },
        {
         "hoverinfo": "none",
         "line": {
          "color": "rgb(42, 119, 142)",
          "width": 9.6
         },
         "mode": "lines",
         "type": "scatter",
         "uid": "3c2e08ac-4e27-4496-87c4-ff017455ce22",
         "x": [
          -0.38268343236509034,
          -0.828046382704926,
          null
         ],
         "y": [
          -0.9238795325112865,
          -1.999080807400211,
          null
         ]
        },
        {
         "hoverinfo": "none",
         "line": {
          "color": "rgb(42, 118, 142)",
          "width": 9.6
         },
         "mode": "lines",
         "type": "scatter",
         "uid": "001349a3-7921-4d4c-b0ae-283ba95903b1",
         "x": [
          -0.3007057995042738,
          -0.6499676723179746,
          null
         ],
         "y": [
          -0.9537169507482267,
          -2.061434091227799,
          null
         ]
        },
        {
         "hoverinfo": "none",
         "line": {
          "color": "rgb(43, 116, 142)",
          "width": 9.6
         },
         "mode": "lines",
         "type": "scatter",
         "uid": "a29e66fe-c2d8-4357-8623-d46416238aea",
         "x": [
          -0.21643961393810368,
          -0.4665071089470116,
          null
         ],
         "y": [
          -0.9762960071199331,
          -2.1042775833460787,
          null
         ]
        },
        {
         "hoverinfo": "none",
         "line": {
          "color": "rgb(46, 109, 142)",
          "width": 9.6
         },
         "mode": "lines",
         "type": "scatter",
         "uid": "917794df-08e4-472a-9358-9e938090f4ea",
         "x": [
          -0.13052619222005163,
          -0.27894134257384084,
          null
         ],
         "y": [
          -0.9914448613738104,
          -2.118769850064326,
          null
         ]
        },
        {
         "hoverinfo": "none",
         "line": {
          "color": "rgb(46, 108, 142)",
          "width": 9.6
         },
         "mode": "lines",
         "type": "scatter",
         "uid": "d1773a91-2873-4799-97a2-6eefa9182749",
         "x": [
          -0.04361938736533613,
          -0.09310673020992485,
          null
         ],
         "y": [
          -0.9990482215818578,
          -2.1324947197091486,
          null
         ]
        },
        {
         "hoverinfo": "none",
         "line": {
          "color": "rgb(49, 101, 141)",
          "width": 9.6
         },
         "mode": "lines",
         "type": "scatter",
         "uid": "c9e53023-f17d-444d-8d0a-912e5e319553",
         "x": [
          0.043619387365335764,
          0.0922067933758603,
          null
         ],
         "y": [
          -0.9990482215818578,
          -2.1118827774533546,
          null
         ]
        },
        {
         "hoverinfo": "none",
         "line": {
          "color": "rgb(53, 92, 140)",
          "width": 9.6
         },
         "mode": "lines",
         "type": "scatter",
         "uid": "c05c0fef-6f7c-454d-8d48-db3ff027ceba",
         "x": [
          0.13052619222005127,
          0.2727860021407261,
          null
         ],
         "y": [
          -0.9914448613738105,
          -2.0720153976542774,
          null
         ]
        },
        {
         "hoverinfo": "none",
         "line": {
          "color": "rgb(54, 91, 140)",
          "width": 9.6
         },
         "mode": "lines",
         "type": "scatter",
         "uid": "4e27a45d-7f42-4932-a31a-4cbb616fba1e",
         "x": [
          0.21643961393810332,
          0.45169808273019324,
          null
         ],
         "y": [
          -0.9762960071199333,
          -2.0374783828589256,
          null
         ]
        },
        {
         "hoverinfo": "none",
         "line": {
          "color": "rgb(54, 91, 140)",
          "width": 9.6
         },
         "mode": "lines",
         "type": "scatter",
         "uid": "50b14dfa-ea09-495c-b995-8585317e863b",
         "x": [
          0.30070579950427345,
          0.6274305639761799,
          null
         ],
         "y": [
          -0.9537169507482268,
          -1.9899555155506687,
          null
         ]
        },
        {
         "hoverinfo": "none",
         "line": {
          "color": "rgb(55, 89, 140)",
          "width": 9.6
         },
         "mode": "lines",
         "type": "scatter",
         "uid": "eca4e791-9a57-4f2c-a31e-53c6a385dc1c",
         "x": [
          0.38268343236509,
          0.7971900133163295,
          null
         ],
         "y": [
          -0.9238795325112866,
          -1.9245869419366695,
          null
         ]
        },
        {
         "hoverinfo": "none",
         "line": {
          "color": "rgb(55, 88, 140)",
          "width": 9.6
         },
         "mode": "lines",
         "type": "scatter",
         "uid": "61f91586-35a2-45b2-9d4f-c01e6ffeec3c",
         "x": [
          0.4617486132350341,
          0.959756643888314,
          null
         ],
         "y": [
          -0.8870108331782216,
          -1.8436753591512804,
          null
         ]
        },
        {
         "hoverinfo": "none",
         "line": {
          "color": "rgb(56, 87, 140)",
          "width": 9.6
         },
         "mode": "lines",
         "type": "scatter",
         "uid": "52148687-2148-474a-8af3-e9fd49d7811c",
         "x": [
          0.5372996083468239,
          1.1165651439982103,
          null
         ],
         "y": [
          -0.8433914458128857,
          -1.7526562024461043,
          null
         ]
        },
        {
         "hoverinfo": "none",
         "line": {
          "color": "rgb(59, 81, 138)",
          "width": 9.6
         },
         "mode": "lines",
         "type": "scatter",
         "uid": "b1e8726f-c83c-4fbb-a7f7-0806c4655128",
         "x": [
          0.6087614290087205,
          1.2537922231562766,
          null
         ],
         "y": [
          -0.7933533402912352,
          -1.6339738374882429,
          null
         ]
        },
        {
         "hoverinfo": "none",
         "line": {
          "color": "rgb(70, 45, 124)",
          "width": 9.6
         },
         "mode": "lines",
         "type": "scatter",
         "uid": "6e1f0743-3e0e-4565-977b-f0d4169b9588",
         "x": [
          0.6755902076156601,
          1.337668611079007,
          null
         ],
         "y": [
          -0.7372773368101242,
          -1.4598091268840458,
          null
         ]
        },
        {
         "hoverinfo": "none",
         "line": {
          "color": "rgb(71, 17, 99)",
          "width": 9.6
         },
         "mode": "lines",
         "type": "scatter",
         "uid": "627c51bd-1d8c-47a9-a917-e6f817f8e893",
         "x": [
          0.7372773368101239,
          1.4140203238611007,
          null
         ],
         "y": [
          -0.6755902076156605,
          -1.2957109034481404,
          null
         ]
        },
        {
         "hoverinfo": "none",
         "line": {
          "color": "rgb(70, 12, 95)",
          "width": 9.6
         },
         "mode": "lines",
         "type": "scatter",
         "uid": "776bc14a-eacf-48ba-8aa2-89c6f651c717",
         "x": [
          0.7933533402912349,
          1.515555412590035,
          null
         ],
         "y": [
          -0.608761429008721,
          -1.162926569857923,
          null
         ]
        },
        {
         "hoverinfo": "none",
         "line": {
          "color": "rgb(68, 3, 87)",
          "width": 9.6
         },
         "mode": "lines",
         "type": "scatter",
         "uid": "43910468-5bea-419e-b587-512d27c692ce",
         "x": [
          0.8433914458128855,
          1.5983599568858096,
          null
         ],
         "y": [
          -0.5372996083468242,
          -1.0182675945974973,
          null
         ]
        },
        {
         "hoverinfo": "none",
         "line": {
          "color": "rgb(68, 1, 84)",
          "width": 9.6
         },
         "mode": "lines",
         "type": "scatter",
         "uid": "84b14524-bbfa-4744-8b44-bfcef12ccb56",
         "x": [
          0.8870108331782214,
          1.6744897139177075,
          null
         ],
         "y": [
          -0.4617486132350344,
          -0.8716841715533796,
          null
         ]
        },
        {
         "hoverinfo": "text",
         "marker": {
          "color": "rgb(61, 187, 116)",
          "size": 0.05
         },
         "mode": "markers",
         "name": "",
         "text": [
          "Denmark<br>Score: 7.526<br>World rank: 1",
          "Switzerland<br>Score: 7.509<br>World rank: 2",
          "Iceland<br>Score: 7.501<br>World rank: 3",
          "Norway<br>Score: 7.498<br>World rank: 4",
          "Finland<br>Score: 7.413<br>World rank: 5",
          "Netherlands<br>Score: 7.339<br>World rank: 7",
          "Sweden<br>Score: 7.291<br>World rank: 10",
          "Israel<br>Score: 7.267<br>World rank: 11",
          "Austria<br>Score: 7.119<br>World rank: 12",
          "Germany<br>Score: 6.994<br>World rank: 16",
          "Belgium<br>Score: 6.929<br>World rank: 18",
          "Ireland<br>Score: 6.907<br>World rank: 19",
          "Luxembourg<br>Score: 6.871<br>World rank: 20",
          "U Kingdom<br>Score: 6.725<br>World rank: 23",
          "Czech Rep<br>Score: 6.596<br>World rank: 27",
          "Malta<br>Score: 6.488<br>World rank: 30",
          "France<br>Score: 6.478<br>World rank: 32",
          "Spain<br>Score: 6.361<br>World rank: 37",
          "Slovakia<br>Score: 6.078<br>World rank: 45",
          "Uzbekistan<br>Score: 5.987<br>World rank: 49",
          "Italy<br>Score: 5.977<br>World rank: 50",
          "Kazakhstan<br>Score: 5.919<br>World rank: 54",
          "Moldova<br>Score: 5.897<br>World rank: 55",
          "Russia<br>Score: 5.856<br>World rank: 56",
          "Poland<br>Score: 5.835<br>World rank: 57",
          "Lithuania<br>Score: 5.813<br>World rank: 60",
          "Belarus<br>Score: 5.802<br>World rank: 61",
          "North Cyprus<br>Score: 5.771<br>World rank: 62",
          "Slovenia<br>Score: 5.768<br>World rank: 63",
          "Latvia<br>Score: 5.56<br>World rank: 68",
          "Cyprus<br>Score: 5.546<br>World rank: 69",
          "Romania<br>Score: 5.528<br>World rank: 71",
          "Estonia<br>Score: 5.517<br>World rank: 72",
          "Croatia<br>Score: 5.488<br>World rank: 74",
          "Kosovo<br>Score: 5.401<br>World rank: 77",
          "Turkey<br>Score: 5.389<br>World rank: 78",
          "Azerbaijan<br>Score: 5.291<br>World rank: 81",
          "Serbia<br>Score: 5.177<br>World rank: 86",
          "Bosn Herzeg<br>Score: 5.163<br>World rank: 87",
          "Montenegro<br>Score: 5.161<br>World rank: 88",
          "Hungary<br>Score: 5.145<br>World rank: 91",
          "Portugal<br>Score: 5.123<br>World rank: 94",
          "Macedonia<br>Score: 5.121<br>World rank: 95",
          "Greece<br>Score: 5.033<br>World rank: 99",
          "Albania<br>Score: 4.655<br>World rank: 109",
          "Armenia<br>Score: 4.36<br>World rank: 121",
          "Ukraine<br>Score: 4.324<br>World rank: 123",
          "Georgia<br>Score: 4.252<br>World rank: 126",
          "Bulgaria<br>Score: 4.217<br>World rank: 129"
         ],
         "type": "scatter",
         "uid": "af6535ba-2254-4fa2-9463-d5efa475f91f",
         "x": [
          -0.07817512518760093,
          -0.23369684247061662,
          -0.3873357764801775,
          -0.5380418084182773,
          -0.681297357009554,
          -0.8184615682383931,
          -0.9496629182896339,
          -1.074431882125181,
          -1.181856174775227,
          -1.2800686729838089,
          -1.372000213436284,
          -1.456581415942317,
          -1.528553089469544,
          -1.5778889910521712,
          -1.6158976883414171,
          -1.643054795982473,
          -1.6675058942137624,
          -1.6679898781589313,
          -1.6382287574528611,
          -1.6162638492732846,
          -1.590540347599496,
          -1.547932806693359,
          -1.49736559600803,
          -1.4337829846615548,
          -1.361411349635853,
          -1.2788020736715457,
          -1.1875597692493178,
          -1.0859934800524997,
          -0.9783757366426474,
          -0.8517612738634918,
          -0.7313125931299291,
          -0.6053649075350082,
          -0.4753367359111242,
          -0.34147336144255763,
          -0.20473376739694624,
          -0.06836305878763049,
          0.06791309037059803,
          0.20165609718038868,
          0.3340688483341483,
          0.4640681817402267,
          0.5899367228407097,
          0.7107526285616741,
          0.8269323761725171,
          0.9312768260824986,
          1.0066294093473336,
          1.0756488303356122,
          1.154454376440635,
          1.2208757013493474,
          1.2807502735479646
         ],
         "y": [
          1.7905047390160749,
          1.7751037523270674,
          1.747158780741683,
          1.7064506030335118,
          1.6447973193014098,
          1.572250044198745,
          1.4906721859625434,
          1.4002268901750674,
          1.289769690573416,
          1.1729668299381792,
          1.052772791282555,
          0.9279447025417205,
          0.7957143733969201,
          0.6535830200130087,
          0.5094905840863975,
          0.36425647869919864,
          0.2195313157149457,
          0.0728260108422732,
          -0.07152661225023174,
          -0.21278517251704576,
          -0.35261430578105396,
          -0.48806133921646105,
          -0.6202291376973985,
          -0.7463801794565457,
          -0.8673146835787936,
          -0.9812593434116357,
          -1.0881980375720874,
          -1.1851539168870948,
          -1.2750440841649027,
          -1.3369973867307425,
          -1.4048384206315283,
          -1.461480169955749,
          -1.5075755209880128,
          -1.540286795233006,
          -1.5551073557190682,
          -1.5657714706455033,
          -1.5554654995176063,
          -1.531730129514044,
          -1.5068871949894294,
          -1.471836233149448,
          -1.424233237223978,
          -1.365343096164751,
          -1.298023824129495,
          -1.2136635888897391,
          -1.098543231847085,
          -0.9856505555319004,
          -0.885843999433322,
          -0.7777836014721607,
          -0.666716392394207
         ]
        },
        {
         "hoverinfo": "text",
         "marker": {
          "color": "rgb(61, 187, 116)",
          "size": 0.05
         },
         "mode": "markers",
         "name": "",
         "text": [
          "Denmark<br>Score: 7.526<br>World rank: 1",
          "Switzerland<br>Score: 7.509<br>World rank: 2",
          "Iceland<br>Score: 7.501<br>World rank: 3",
          "Norway<br>Score: 7.498<br>World rank: 4",
          "Finland<br>Score: 7.413<br>World rank: 5",
          "Netherlands<br>Score: 7.339<br>World rank: 7",
          "Sweden<br>Score: 7.291<br>World rank: 10",
          "Israel<br>Score: 7.267<br>World rank: 11",
          "Austria<br>Score: 7.119<br>World rank: 12",
          "Germany<br>Score: 6.994<br>World rank: 16",
          "Belgium<br>Score: 6.929<br>World rank: 18",
          "Ireland<br>Score: 6.907<br>World rank: 19",
          "Luxembourg<br>Score: 6.871<br>World rank: 20",
          "U Kingdom<br>Score: 6.725<br>World rank: 23",
          "Czech Rep<br>Score: 6.596<br>World rank: 27",
          "Malta<br>Score: 6.488<br>World rank: 30",
          "France<br>Score: 6.478<br>World rank: 32",
          "Spain<br>Score: 6.361<br>World rank: 37",
          "Slovakia<br>Score: 6.078<br>World rank: 45",
          "Uzbekistan<br>Score: 5.987<br>World rank: 49",
          "Italy<br>Score: 5.977<br>World rank: 50",
          "Kazakhstan<br>Score: 5.919<br>World rank: 54",
          "Moldova<br>Score: 5.897<br>World rank: 55",
          "Russia<br>Score: 5.856<br>World rank: 56",
          "Poland<br>Score: 5.835<br>World rank: 57",
          "Lithuania<br>Score: 5.813<br>World rank: 60",
          "Belarus<br>Score: 5.802<br>World rank: 61",
          "North Cyprus<br>Score: 5.771<br>World rank: 62",
          "Slovenia<br>Score: 5.768<br>World rank: 63",
          "Latvia<br>Score: 5.56<br>World rank: 68",
          "Cyprus<br>Score: 5.546<br>World rank: 69",
          "Romania<br>Score: 5.528<br>World rank: 71",
          "Estonia<br>Score: 5.517<br>World rank: 72",
          "Croatia<br>Score: 5.488<br>World rank: 74",
          "Kosovo<br>Score: 5.401<br>World rank: 77",
          "Turkey<br>Score: 5.389<br>World rank: 78",
          "Azerbaijan<br>Score: 5.291<br>World rank: 81",
          "Serbia<br>Score: 5.177<br>World rank: 86",
          "Bosn Herzeg<br>Score: 5.163<br>World rank: 87",
          "Montenegro<br>Score: 5.161<br>World rank: 88",
          "Hungary<br>Score: 5.145<br>World rank: 91",
          "Portugal<br>Score: 5.123<br>World rank: 94",
          "Macedonia<br>Score: 5.121<br>World rank: 95",
          "Greece<br>Score: 5.033<br>World rank: 99",
          "Albania<br>Score: 4.655<br>World rank: 109",
          "Armenia<br>Score: 4.36<br>World rank: 121",
          "Ukraine<br>Score: 4.324<br>World rank: 123",
          "Georgia<br>Score: 4.252<br>World rank: 126",
          "Bulgaria<br>Score: 4.217<br>World rank: 129"
         ],
         "type": "scatter",
         "uid": "ab0323ff-41bb-4cfc-bc09-ed6f376af6ac",
         "x": [
          -0.11273086300986597,
          -0.3368674927211816,
          -0.5582319390222521,
          -0.7753778173322815,
          -0.9799112816540181,
          -1.1751745232417523,
          -1.3620262282324438,
          -1.5401023352416412,
          -1.6881221419347938,
          -1.8228600091574938,
          -1.9506470865813332,
          -2.0697713860717486,
          -2.1700953457608665,
          -2.231898449593056,
          -2.278078425934607,
          -2.309813584845013,
          -2.3435669270537143,
          -2.3369315347360047,
          -2.2774092933238643,
          -2.2410828371727587,
          -2.2047846880790583,
          -2.1421486626384914,
          -2.0708516595047732,
          -1.980555136144888,
          -1.8794312534588204,
          -1.7642508070518563,
          -1.6378422016885115,
          -1.4963967524893393,
          -1.347990044276574,
          -1.1662229393801593,
          -1.000876573024824,
          -0.828046382704926,
          -0.6499676723179746,
          -0.4665071089470116,
          -0.27894134257384084,
          -0.09310673020992485,
          0.0922067933758603,
          0.2727860021407261,
          0.45169808273019324,
          0.6274305639761799,
          0.7971900133163295,
          0.959756643888314,
          1.1165651439982103,
          1.2537922231562766,
          1.337668611079007,
          1.4140203238611007,
          1.515555412590035,
          1.5983599568858096,
          1.6744897139177075
         ],
         "y": [
          2.581961256450292,
          2.5587626432803243,
          2.5180215543634326,
          2.459184255318797,
          2.3657151060915327,
          2.257489255219268,
          2.137952926112201,
          2.0071004400588994,
          1.8422620443367077,
          1.670343452260698,
          1.4967841535563895,
          1.3185897967366167,
          1.1296801335588063,
          0.9244826076609276,
          0.7182753686685222,
          0.5120733434602945,
          0.3085364392098398,
          0.10203263431921034,
          -0.09943383713512764,
          -0.29504415281404023,
          -0.4887889976240054,
          -0.6754168789286494,
          -0.8577748430297074,
          -1.0310117456780572,
          -1.1973297588107636,
          -1.3537572578145507,
          -1.500805867528515,
          -1.6330304969640657,
          -1.7567348280385704,
          -1.8306033276485996,
          -1.9226660080848352,
          -1.999080807400211,
          -2.061434091227799,
          -2.1042775833460787,
          -2.118769850064326,
          -2.1324947197091486,
          -2.1118827774533546,
          -2.0720153976542774,
          -2.0374783828589256,
          -1.9899555155506687,
          -1.9245869419366695,
          -1.8436753591512804,
          -1.7526562024461043,
          -1.6339738374882429,
          -1.4598091268840458,
          -1.2957109034481404,
          -1.162926569857923,
          -1.0182675945974973,
          -0.8716841715533796
         ]
        }
       ],
       "_js2py_pointsCallback": {},
       "_js2py_relayout": {},
       "_js2py_restyle": {},
       "_js2py_update": {},
       "_last_layout_edit_id": 1,
       "_last_trace_edit_id": 1,
       "_layout": {
        "annotations": [
         {
          "font": {
           "size": 10
          },
          "showarrow": false,
          "text": "Denmark",
          "textangle": 87.5,
          "x": -0.12668906696677348,
          "y": 2.901656687356487
         },
         {
          "font": {
           "size": 10
          },
          "showarrow": false,
          "text": "Switzerland",
          "textangle": 82.5,
          "x": -0.3786358742315981,
          "y": 2.8760249989199442
         },
         {
          "font": {
           "size": 10
          },
          "showarrow": false,
          "text": "Iceland",
          "textangle": 77.5,
          "x": -0.627492615482445,
          "y": 2.830436276641811
         },
         {
          "font": {
           "size": 10
          },
          "showarrow": false,
          "text": "Norway",
          "textangle": 72.5,
          "x": -0.8716036731736488,
          "y": 2.764373679558229
         },
         {
          "font": {
           "size": 10
          },
          "showarrow": false,
          "text": "Finland",
          "textangle": 67.5,
          "x": -1.1023699800108469,
          "y": 2.6613565564951447
         },
         {
          "font": {
           "size": 10
          },
          "showarrow": false,
          "text": "Netherlands",
          "textangle": 62.5,
          "x": -1.322934079476963,
          "y": 2.541332721836299
         },
         {
          "font": {
           "size": 10
          },
          "showarrow": false,
          "text": "Sweden",
          "textangle": 57.5,
          "x": -1.5339621029034276,
          "y": 2.407838188772325
         },
         {
          "font": {
           "size": 10
          },
          "showarrow": false,
          "text": "Israel",
          "textangle": 52.5,
          "x": -1.7349059925244321,
          "y": 2.260973508952095
         },
         {
          "font": {
           "size": 10
          },
          "showarrow": false,
          "text": "Austria",
          "textangle": 47.5,
          "x": -1.9043110083718053,
          "y": 2.0781907921159477
         },
         {
          "font": {
           "size": 10
          },
          "showarrow": false,
          "text": "Germany",
          "textangle": 42.5,
          "x": -2.0587887569367336,
          "y": 1.8865323186977094
         },
         {
          "font": {
           "size": 10
          },
          "showarrow": false,
          "text": "Belgium",
          "textangle": 37.5,
          "x": -2.204520155474529,
          "y": 1.6915878108391804
         },
         {
          "font": {
           "size": 10
          },
          "showarrow": false,
          "text": "Ireland",
          "textangle": 32.50000000000003,
          "x": -2.3396566487318724,
          "y": 1.4905256714076005
         },
         {
          "font": {
           "size": 10
          },
          "showarrow": false,
          "text": "Luxembourg",
          "textangle": 27.5,
          "x": -2.4539388123778973,
          "y": 1.277439689794017
         },
         {
          "font": {
           "size": 10
          },
          "showarrow": false,
          "text": "U Kingdom",
          "textangle": 22.5,
          "x": -2.527539899996668,
          "y": 1.0469413060177564
         },
         {
          "font": {
           "size": 10
          },
          "showarrow": false,
          "text": "Czech Rep",
          "textangle": 17.49999999999997,
          "x": -2.5832678501740403,
          "y": 0.8145012245098896
         },
         {
          "font": {
           "size": 10
          },
          "showarrow": false,
          "text": "Malta",
          "textangle": 12.5,
          "x": -2.622228307123392,
          "y": 0.5813340199204873
         },
         {
          "font": {
           "size": 10
          },
          "showarrow": false,
          "text": "France",
          "textangle": 7.5,
          "x": -2.6608292826933337,
          "y": 0.3503048207202563
         },
         {
          "font": {
           "size": 10
          },
          "showarrow": false,
          "text": "Spain",
          "textangle": 2.5,
          "x": -2.6566269656421992,
          "y": 0.11599083827611789
         },
         {
          "font": {
           "size": 10
          },
          "showarrow": false,
          "text": "Slovakia",
          "textangle": -2.5,
          "x": -2.5971047242300593,
          "y": -0.11339204109203511
         },
         {
          "font": {
           "size": 10
          },
          "showarrow": false,
          "text": "Uzbekistan",
          "textangle": -7.499999999999972,
          "x": -2.558345192812378,
          "y": -0.3368125343244566
         },
         {
          "font": {
           "size": 10
          },
          "showarrow": false,
          "text": "Italy",
          "textangle": -12.499999999999972,
          "x": -2.517199410357437,
          "y": -0.5580496740841983
         },
         {
          "font": {
           "size": 10
          },
          "showarrow": false,
          "text": "Kazakhstan",
          "textangle": -17.49999999999997,
          "x": -2.447338086877924,
          "y": -0.7716427347700168
         },
         {
          "font": {
           "size": 10
          },
          "showarrow": false,
          "text": "Moldova",
          "textangle": -22.5,
          "x": -2.366493109908385,
          "y": -0.9802335413865361
         },
         {
          "font": {
           "size": 10
          },
          "showarrow": false,
          "text": "Russia",
          "textangle": -27.5,
          "x": -2.2643986027619194,
          "y": -1.1787713019132684
         },
         {
          "font": {
           "size": 10
          },
          "showarrow": false,
          "text": "Poland",
          "textangle": -32.49999999999997,
          "x": -2.149316516118944,
          "y": -1.3692656334817472
         },
         {
          "font": {
           "size": 10
          },
          "showarrow": false,
          "text": "Lithuania",
          "textangle": -37.5,
          "x": -2.0181238759450513,
          "y": -1.5485609150973414
         },
         {
          "font": {
           "size": 10
          },
          "showarrow": false,
          "text": "Belarus",
          "textangle": -42.5,
          "x": -1.8737709494677512,
          "y": -1.716994733965526
         },
         {
          "font": {
           "size": 10
          },
          "showarrow": false,
          "text": "North Cyprus",
          "textangle": -47.5,
          "x": -1.7125856189263509,
          "y": -1.8689592447433057
         },
         {
          "font": {
           "size": 10
          },
          "showarrow": false,
          "text": "Slovenia",
          "textangle": -52.499999999999986,
          "x": -1.5427937015593645,
          "y": -2.0106078969317656
         },
         {
          "font": {
           "size": 10
          },
          "showarrow": false,
          "text": "Latvia",
          "textangle": -57.49999999999997,
          "x": -1.3381588140511433,
          "y": -2.100488590308723
         },
         {
          "font": {
           "size": 10
          },
          "showarrow": false,
          "text": "Cyprus",
          "textangle": -62.49999999999997,
          "x": -1.1486361292600349,
          "y": -2.2065094747018663
         },
         {
          "font": {
           "size": 10
          },
          "showarrow": false,
          "text": "Romania",
          "textangle": -67.49999999999997,
          "x": -0.950505081061755,
          "y": -2.294722257803823
         },
         {
          "font": {
           "size": 10
          },
          "showarrow": false,
          "text": "Estonia",
          "textangle": -72.49999999999997,
          "x": -0.7461935281593423,
          "y": -2.3666235154672317
         },
         {
          "font": {
           "size": 10
          },
          "showarrow": false,
          "text": "Croatia",
          "textangle": -77.49999999999996,
          "x": -0.5357677854072048,
          "y": -2.4166923056244576
         },
         {
          "font": {
           "size": 10
          },
          "showarrow": false,
          "text": "Kosovo",
          "textangle": -82.49999999999999,
          "x": -0.3207097240842574,
          "y": -2.4360322057039454
         },
         {
          "font": {
           "size": 10
          },
          "showarrow": false,
          "text": "Turkey",
          "textangle": -87.49999999999999,
          "x": -0.10706493416683241,
          "y": -2.452190150615343
         },
         {
          "font": {
           "size": 10
          },
          "showarrow": false,
          "text": "Azerbaijan",
          "textangle": 87.5,
          "x": 0.10616499733276774,
          "y": -2.4315782083595487
         },
         {
          "font": {
           "size": 10
          },
          "showarrow": false,
          "text": "Serbia",
          "textangle": 82.5,
          "x": 0.3145543836511425,
          "y": -2.389277753293897
         },
         {
          "font": {
           "size": 10
          },
          "showarrow": false,
          "text": "Bosn Herzeg",
          "textangle": 77.5,
          "x": 0.5209587591903864,
          "y": -2.3498931051373044
         },
         {
          "font": {
           "size": 10
          },
          "showarrow": false,
          "text": "Montenegro",
          "textangle": 72.5,
          "x": 0.7236564198175475,
          "y": -2.2951449397901014
         },
         {
          "font": {
           "size": 10
          },
          "showarrow": false,
          "text": "Hungary",
          "textangle": 67.5,
          "x": 0.9196487116731584,
          "y": -2.2202283923402817
         },
         {
          "font": {
           "size": 10
          },
          "showarrow": false,
          "text": "Portugal",
          "textangle": 62.5,
          "x": 1.1075162001235248,
          "y": -2.1275188257683113
         },
         {
          "font": {
           "size": 10
          },
          "showarrow": false,
          "text": "Macedonia",
          "textangle": 57.5,
          "x": 1.2885010186691939,
          "y": -2.0225414651062277
         },
         {
          "font": {
           "size": 10
          },
          "showarrow": false,
          "text": "Greece",
          "textangle": 52.5,
          "x": 1.4485958804390673,
          "y": -1.8878469063814385
         },
         {
          "font": {
           "size": 10
          },
          "showarrow": false,
          "text": "Albania",
          "textangle": 47.5,
          "x": 1.5538574775160185,
          "y": -1.6957378746632858
         },
         {
          "font": {
           "size": 10
          },
          "showarrow": false,
          "text": "Armenia",
          "textangle": 42.50000000000003,
          "x": 1.6499490716403404,
          "y": -1.5118997698851517
         },
         {
          "font": {
           "size": 10
          },
          "showarrow": false,
          "text": "Ukraine",
          "textangle": 37.50000000000003,
          "x": 1.7694284814832302,
          "y": -1.3577302271407137
         },
         {
          "font": {
           "size": 10
          },
          "showarrow": false,
          "text": "Georgia",
          "textangle": 32.50000000000003,
          "x": 1.8682452195459327,
          "y": -1.1902034692684809
         },
         {
          "font": {
           "size": 10
          },
          "showarrow": false,
          "text": "Bulgaria",
          "textangle": 27.50000000000003,
          "x": 1.9583331805347384,
          "y": -1.0194437277885906
         },
         {
          "font": {
           "size": 11
          },
          "showarrow": false,
          "text": "Europe Happiness Score and Global Ranking<br>Data: World Happiness Report, 2016<a href='http://worldhappiness.report/wp-content/uploads/sites/2/2016/03/HR-V1_web.pdf'> [1]</a>",
          "textangle": 0,
          "x": 0.5,
          "y": 0.1
         }
        ],
        "font": {
         "size": 12
        },
        "height": 900,
        "hovermode": "closest",
        "plot_bgcolor": "rgb(245,245,245)",
        "showlegend": false,
        "template": {},
        "title": {
         "text": ""
        },
        "width": 900,
        "xaxis": {
         "range": [
          -3.5,
          4
         ],
         "visible": false
        },
        "yaxis": {
         "range": [
          -4.5,
          3.5
         ],
         "visible": false
        }
       },
       "_py2js_addTraces": {},
       "_py2js_animate": {},
       "_py2js_deleteTraces": {},
       "_py2js_moveTraces": {},
       "_py2js_removeLayoutProps": {},
       "_py2js_removeTraceProps": {},
       "_py2js_restyle": {},
       "_view_count": 0
      }
     },
     "d0d29334e9074e0fb1927fa98a38b490": {
      "model_module": "plotlywidget",
      "model_module_version": "^0.11.0",
      "model_name": "FigureModel",
      "state": {
       "_config": {
        "plotlyServerURL": "https://plot.ly"
       },
       "_data": [
        {
         "hoverinfo": "none",
         "line": {
          "color": "rgb(253, 231, 36)",
          "width": 9.6
         },
         "mode": "lines",
         "type": "scatter",
         "uid": "4784391f-4a5b-493f-a715-354766c24060",
         "x": [
          -0.04361938736533589,
          -0.11273086300986597,
          null
         ],
         "y": [
          0.9990482215818578,
          2.581961256450292,
          null
         ]
        },
        {
         "hoverinfo": "none",
         "line": {
          "color": "rgb(250, 230, 34)",
          "width": 9.6
         },
         "mode": "lines",
         "type": "scatter",
         "uid": "ef883949-3aef-4936-84f8-d5e5c4d14b76",
         "x": [
          -0.1305261922200516,
          -0.3368674927211816,
          null
         ],
         "y": [
          0.9914448613738104,
          2.5587626432803243,
          null
         ]
        },
        {
         "hoverinfo": "none",
         "line": {
          "color": "rgb(250, 230, 34)",
          "width": 9.6
         },
         "mode": "lines",
         "type": "scatter",
         "uid": "53ee8cf4-e7af-4223-a80c-685d7a332a1d",
         "x": [
          -0.2164396139381028,
          -0.5582319390222521,
          null
         ],
         "y": [
          0.9762960071199334,
          2.5180215543634326,
          null
         ]
        },
        {
         "hoverinfo": "none",
         "line": {
          "color": "rgb(248, 230, 33)",
          "width": 9.6
         },
         "mode": "lines",
         "type": "scatter",
         "uid": "f830867d-6495-437e-a89e-c433ea51976d",
         "x": [
          -0.3007057995042731,
          -0.7753778173322815,
          null
         ],
         "y": [
          0.9537169507482269,
          2.459184255318797,
          null
         ]
        },
        {
         "hoverinfo": "none",
         "line": {
          "color": "rgb(233, 228, 25)",
          "width": 9.6
         },
         "mode": "lines",
         "type": "scatter",
         "uid": "6589deca-a4bf-4cef-829c-8a764b0d712c",
         "x": [
          -0.3826834323650897,
          -0.9799112816540181,
          null
         ],
         "y": [
          0.9238795325112867,
          2.3657151060915327,
          null
         ]
        },
        {
         "hoverinfo": "none",
         "line": {
          "color": "rgb(218, 226, 24)",
          "width": 9.6
         },
         "mode": "lines",
         "type": "scatter",
         "uid": "9e6a953e-1014-48c1-8fea-b2c1cff400ac",
         "x": [
          -0.4617486132350338,
          -1.1751745232417523,
          null
         ],
         "y": [
          0.8870108331782218,
          2.257489255219268,
          null
         ]
        },
        {
         "hoverinfo": "none",
         "line": {
          "color": "rgb(207, 225, 28)",
          "width": 9.6
         },
         "mode": "lines",
         "type": "scatter",
         "uid": "2f1b7a92-88f7-48e3-a88e-816d46b6d192",
         "x": [
          -0.537299608346824,
          -1.3620262282324438,
          null
         ],
         "y": [
          0.8433914458128856,
          2.137952926112201,
          null
         ]
        },
        {
         "hoverinfo": "none",
         "line": {
          "color": "rgb(202, 224, 30)",
          "width": 9.6
         },
         "mode": "lines",
         "type": "scatter",
         "uid": "545f6400-749d-45af-b538-7a2998334965",
         "x": [
          -0.6087614290087207,
          -1.5401023352416412,
          null
         ],
         "y": [
          0.7933533402912352,
          2.0071004400588994,
          null
         ]
        },
        {
         "hoverinfo": "none",
         "line": {
          "color": "rgb(173, 220, 48)",
          "width": 9.6
         },
         "mode": "lines",
         "type": "scatter",
         "uid": "4ad09df0-55f7-4f21-ae99-e69b58c48feb",
         "x": [
          -0.6755902076156602,
          -1.6881221419347938,
          null
         ],
         "y": [
          0.7372773368101241,
          1.8422620443367077,
          null
         ]
        },
        {
         "hoverinfo": "none",
         "line": {
          "color": "rgb(146, 215, 65)",
          "width": 9.6
         },
         "mode": "lines",
         "type": "scatter",
         "uid": "30bae6ac-7543-4ad9-b05d-ec6ff0bfd114",
         "x": [
          -0.737277336810124,
          -1.8228600091574938,
          null
         ],
         "y": [
          0.6755902076156604,
          1.670343452260698,
          null
         ]
        },
        {
         "hoverinfo": "none",
         "line": {
          "color": "rgb(134, 212, 73)",
          "width": 9.6
         },
         "mode": "lines",
         "type": "scatter",
         "uid": "33721ea7-a534-4165-9f68-ea6a93fa39b8",
         "x": [
          -0.793353340291235,
          -1.9506470865813332,
          null
         ],
         "y": [
          0.6087614290087209,
          1.4967841535563895,
          null
         ]
        },
        {
         "hoverinfo": "none",
         "line": {
          "color": "rgb(131, 211, 75)",
          "width": 9.6
         },
         "mode": "lines",
         "type": "scatter",
         "uid": "3fb50c9a-eb12-4963-a7aa-57511d4a7aec",
         "x": [
          -0.8433914458128855,
          -2.0697713860717486,
          null
         ],
         "y": [
          0.5372996083468241,
          1.3185897967366167,
          null
         ]
        },
        {
         "hoverinfo": "none",
         "line": {
          "color": "rgb(124, 210, 79)",
          "width": 9.6
         },
         "mode": "lines",
         "type": "scatter",
         "uid": "839c11bb-f48e-4e21-86af-171c008ce4d8",
         "x": [
          -0.8870108331782217,
          -2.1700953457608665,
          null
         ],
         "y": [
          0.4617486132350339,
          1.1296801335588063,
          null
         ]
        },
        {
         "hoverinfo": "none",
         "line": {
          "color": "rgb(98, 202, 95)",
          "width": 9.6
         },
         "mode": "lines",
         "type": "scatter",
         "uid": "798d7451-47be-4d5c-bd83-7465611358ce",
         "x": [
          -0.9238795325112867,
          -2.231898449593056,
          null
         ],
         "y": [
          0.3826834323650899,
          0.9244826076609276,
          null
         ]
        },
        {
         "hoverinfo": "none",
         "line": {
          "color": "rgb(77, 194, 107)",
          "width": 9.6
         },
         "mode": "lines",
         "type": "scatter",
         "uid": "03c61477-c3fd-4b87-a55d-565bcf8ed3db",
         "x": [
          -0.953716950748227,
          -2.278078425934607,
          null
         ],
         "y": [
          0.3007057995042729,
          0.7182753686685222,
          null
         ]
        },
        {
         "hoverinfo": "none",
         "line": {
          "color": "rgb(61, 187, 116)",
          "width": 9.6
         },
         "mode": "lines",
         "type": "scatter",
         "uid": "734126fe-7711-49b1-b7fb-b81279c7f829",
         "x": [
          -0.9762960071199334,
          -2.309813584845013,
          null
         ],
         "y": [
          0.21643961393810274,
          0.5120733434602945,
          null
         ]
        },
        {
         "hoverinfo": "none",
         "line": {
          "color": "rgb(59, 186, 117)",
          "width": 9.6
         },
         "mode": "lines",
         "type": "scatter",
         "uid": "53ec368e-4b98-47de-8390-b0729c663c69",
         "x": [
          -0.9914448613738104,
          -2.3435669270537143,
          null
         ],
         "y": [
          0.13052619222005157,
          0.3085364392098398,
          null
         ]
        },
        {
         "hoverinfo": "none",
         "line": {
          "color": "rgb(46, 178, 124)",
          "width": 9.6
         },
         "mode": "lines",
         "type": "scatter",
         "uid": "82c0adce-880b-4893-9efa-7cd09ae9e52d",
         "x": [
          -0.9990482215818578,
          -2.3369315347360047,
          null
         ],
         "y": [
          0.04361938736533607,
          0.10203263431921034,
          null
         ]
        },
        {
         "hoverinfo": "none",
         "line": {
          "color": "rgb(30, 158, 136)",
          "width": 9.6
         },
         "mode": "lines",
         "type": "scatter",
         "uid": "b213453f-1d2c-4312-bf31-fb2546dd621b",
         "x": [
          -0.9990482215818578,
          -2.2774092933238643,
          null
         ],
         "y": [
          -0.04361938736533583,
          -0.09943383713512764,
          null
         ]
        },
        {
         "hoverinfo": "none",
         "line": {
          "color": "rgb(30, 152, 138)",
          "width": 9.6
         },
         "mode": "lines",
         "type": "scatter",
         "uid": "4b67f1b4-1691-4744-b704-8f112a69a1e5",
         "x": [
          -0.9914448613738105,
          -2.2410828371727587,
          null
         ],
         "y": [
          -0.13052619222005132,
          -0.29504415281404023,
          null
         ]
        },
        {
         "hoverinfo": "none",
         "line": {
          "color": "rgb(30, 152, 138)",
          "width": 9.6
         },
         "mode": "lines",
         "type": "scatter",
         "uid": "49b046f9-3c92-4a61-881e-591d8e384dc8",
         "x": [
          -0.9762960071199335,
          -2.2047846880790583,
          null
         ],
         "y": [
          -0.21643961393810252,
          -0.4887889976240054,
          null
         ]
        },
        {
         "hoverinfo": "none",
         "line": {
          "color": "rgb(31, 147, 139)",
          "width": 9.6
         },
         "mode": "lines",
         "type": "scatter",
         "uid": "3d482a85-9872-40a1-b007-6019ef235a10",
         "x": [
          -0.953716950748227,
          -2.1421486626384914,
          null
         ],
         "y": [
          -0.3007057995042727,
          -0.6754168789286494,
          null
         ]
        },
        {
         "hoverinfo": "none",
         "line": {
          "color": "rgb(32, 145, 140)",
          "width": 9.6
         },
         "mode": "lines",
         "type": "scatter",
         "uid": "9cc7a298-f0a0-41df-a55c-7424e2e46023",
         "x": [
          -0.9238795325112868,
          -2.0708516595047732,
          null
         ],
         "y": [
          -0.38268343236508967,
          -0.8577748430297074,
          null
         ]
        },
        {
         "hoverinfo": "none",
         "line": {
          "color": "rgb(33, 142, 140)",
          "width": 9.6
         },
         "mode": "lines",
         "type": "scatter",
         "uid": "bd5b78fb-fa75-4abb-b807-2fa117524d06",
         "x": [
          -0.8870108331782216,
          -1.980555136144888,
          null
         ],
         "y": [
          -0.46174861323503413,
          -1.0310117456780572,
          null
         ]
        },
        {
         "hoverinfo": "none",
         "line": {
          "color": "rgb(33, 141, 140)",
          "width": 9.6
         },
         "mode": "lines",
         "type": "scatter",
         "uid": "715fc003-c030-4351-99f6-ba9f419e2fad",
         "x": [
          -0.8433914458128858,
          -1.8794312534588204,
          null
         ],
         "y": [
          -0.5372996083468236,
          -1.1973297588107636,
          null
         ]
        },
        {
         "hoverinfo": "none",
         "line": {
          "color": "rgb(34, 139, 141)",
          "width": 9.6
         },
         "mode": "lines",
         "type": "scatter",
         "uid": "3a68f90d-584d-4639-a073-5a2f71838846",
         "x": [
          -0.7933533402912352,
          -1.7642508070518563,
          null
         ],
         "y": [
          -0.6087614290087207,
          -1.3537572578145507,
          null
         ]
        },
        {
         "hoverinfo": "none",
         "line": {
          "color": "rgb(34, 138, 141)",
          "width": 9.6
         },
         "mode": "lines",
         "type": "scatter",
         "uid": "abdc1ffb-a96b-4977-ac5a-6ec9de5dda4c",
         "x": [
          -0.7372773368101241,
          -1.6378422016885115,
          null
         ],
         "y": [
          -0.6755902076156601,
          -1.500805867528515,
          null
         ]
        },
        {
         "hoverinfo": "none",
         "line": {
          "color": "rgb(35, 137, 141)",
          "width": 9.6
         },
         "mode": "lines",
         "type": "scatter",
         "uid": "a921d068-6222-450f-9c43-f982cc476a1b",
         "x": [
          -0.6755902076156604,
          -1.4963967524893393,
          null
         ],
         "y": [
          -0.7372773368101239,
          -1.6330304969640657,
          null
         ]
        },
        {
         "hoverinfo": "none",
         "line": {
          "color": "rgb(35, 136, 141)",
          "width": 9.6
         },
         "mode": "lines",
         "type": "scatter",
         "uid": "91e5ca5f-5e2a-4877-85a3-71ac4859699d",
         "x": [
          -0.6087614290087209,
          -1.347990044276574,
          null
         ],
         "y": [
          -0.7933533402912349,
          -1.7567348280385704,
          null
         ]
        },
        {
         "hoverinfo": "none",
         "line": {
          "color": "rgb(41, 121, 142)",
          "width": 9.6
         },
         "mode": "lines",
         "type": "scatter",
         "uid": "f07e3a8b-7d59-433c-a94c-801d23a8928c",
         "x": [
          -0.5372996083468242,
          -1.1662229393801593,
          null
         ],
         "y": [
          -0.8433914458128855,
          -1.8306033276485996,
          null
         ]
        },
        {
         "hoverinfo": "none",
         "line": {
          "color": "rgb(41, 120, 142)",
          "width": 9.6
         },
         "mode": "lines",
         "type": "scatter",
         "uid": "ca0508a2-672f-45ac-8fd9-148163d98fb2",
         "x": [
          -0.46174861323503436,
          -1.000876573024824,
          null
         ],
         "y": [
          -0.8870108331782215,
          -1.9226660080848352,
          null
         ]
        },
        {
         "hoverinfo": "none",
         "line": {
          "color": "rgb(42, 119, 142)",
          "width": 9.6
         },
         "mode": "lines",
         "type": "scatter",
         "uid": "fd0911e8-4cce-4478-86ab-b8b24b6e844f",
         "x": [
          -0.38268343236509034,
          -0.828046382704926,
          null
         ],
         "y": [
          -0.9238795325112865,
          -1.999080807400211,
          null
         ]
        },
        {
         "hoverinfo": "none",
         "line": {
          "color": "rgb(42, 118, 142)",
          "width": 9.6
         },
         "mode": "lines",
         "type": "scatter",
         "uid": "351ad9d5-8d12-40a4-9b10-2f593f2a6c18",
         "x": [
          -0.3007057995042738,
          -0.6499676723179746,
          null
         ],
         "y": [
          -0.9537169507482267,
          -2.061434091227799,
          null
         ]
        },
        {
         "hoverinfo": "none",
         "line": {
          "color": "rgb(43, 116, 142)",
          "width": 9.6
         },
         "mode": "lines",
         "type": "scatter",
         "uid": "867e3b9b-6fbe-4652-af9a-d93ce9c35c74",
         "x": [
          -0.21643961393810368,
          -0.4665071089470116,
          null
         ],
         "y": [
          -0.9762960071199331,
          -2.1042775833460787,
          null
         ]
        },
        {
         "hoverinfo": "none",
         "line": {
          "color": "rgb(46, 109, 142)",
          "width": 9.6
         },
         "mode": "lines",
         "type": "scatter",
         "uid": "07b339c9-201a-4b67-8e87-50c61a08882e",
         "x": [
          -0.13052619222005163,
          -0.27894134257384084,
          null
         ],
         "y": [
          -0.9914448613738104,
          -2.118769850064326,
          null
         ]
        },
        {
         "hoverinfo": "none",
         "line": {
          "color": "rgb(46, 108, 142)",
          "width": 9.6
         },
         "mode": "lines",
         "type": "scatter",
         "uid": "23a6f1f5-e676-424b-8293-71fb1380cde5",
         "x": [
          -0.04361938736533613,
          -0.09310673020992485,
          null
         ],
         "y": [
          -0.9990482215818578,
          -2.1324947197091486,
          null
         ]
        },
        {
         "hoverinfo": "none",
         "line": {
          "color": "rgb(49, 101, 141)",
          "width": 9.6
         },
         "mode": "lines",
         "type": "scatter",
         "uid": "6cf0ff4d-26ae-46e2-b0ad-ce20c18c251c",
         "x": [
          0.043619387365335764,
          0.0922067933758603,
          null
         ],
         "y": [
          -0.9990482215818578,
          -2.1118827774533546,
          null
         ]
        },
        {
         "hoverinfo": "none",
         "line": {
          "color": "rgb(53, 92, 140)",
          "width": 9.6
         },
         "mode": "lines",
         "type": "scatter",
         "uid": "93756868-0af5-446a-b0bd-cb809d3ef906",
         "x": [
          0.13052619222005127,
          0.2727860021407261,
          null
         ],
         "y": [
          -0.9914448613738105,
          -2.0720153976542774,
          null
         ]
        },
        {
         "hoverinfo": "none",
         "line": {
          "color": "rgb(54, 91, 140)",
          "width": 9.6
         },
         "mode": "lines",
         "type": "scatter",
         "uid": "066d4304-0ceb-444b-a4e8-ff2e7d041b1d",
         "x": [
          0.21643961393810332,
          0.45169808273019324,
          null
         ],
         "y": [
          -0.9762960071199333,
          -2.0374783828589256,
          null
         ]
        },
        {
         "hoverinfo": "none",
         "line": {
          "color": "rgb(54, 91, 140)",
          "width": 9.6
         },
         "mode": "lines",
         "type": "scatter",
         "uid": "02576639-79fd-43f5-8142-eee28401078d",
         "x": [
          0.30070579950427345,
          0.6274305639761799,
          null
         ],
         "y": [
          -0.9537169507482268,
          -1.9899555155506687,
          null
         ]
        },
        {
         "hoverinfo": "none",
         "line": {
          "color": "rgb(55, 89, 140)",
          "width": 9.6
         },
         "mode": "lines",
         "type": "scatter",
         "uid": "636bb3f2-c4f4-43fb-b49d-0ff828958f48",
         "x": [
          0.38268343236509,
          0.7971900133163295,
          null
         ],
         "y": [
          -0.9238795325112866,
          -1.9245869419366695,
          null
         ]
        },
        {
         "hoverinfo": "none",
         "line": {
          "color": "rgb(55, 88, 140)",
          "width": 9.6
         },
         "mode": "lines",
         "type": "scatter",
         "uid": "97ee5842-036e-4ae9-8431-7834a5e9ce79",
         "x": [
          0.4617486132350341,
          0.959756643888314,
          null
         ],
         "y": [
          -0.8870108331782216,
          -1.8436753591512804,
          null
         ]
        },
        {
         "hoverinfo": "none",
         "line": {
          "color": "rgb(56, 87, 140)",
          "width": 9.6
         },
         "mode": "lines",
         "type": "scatter",
         "uid": "bf4ff018-2268-4fc1-bd13-ba3a3b11d1cb",
         "x": [
          0.5372996083468239,
          1.1165651439982103,
          null
         ],
         "y": [
          -0.8433914458128857,
          -1.7526562024461043,
          null
         ]
        },
        {
         "hoverinfo": "none",
         "line": {
          "color": "rgb(59, 81, 138)",
          "width": 9.6
         },
         "mode": "lines",
         "type": "scatter",
         "uid": "0e14248e-7f44-4525-bcfa-ee9ec626c281",
         "x": [
          0.6087614290087205,
          1.2537922231562766,
          null
         ],
         "y": [
          -0.7933533402912352,
          -1.6339738374882429,
          null
         ]
        },
        {
         "hoverinfo": "none",
         "line": {
          "color": "rgb(70, 45, 124)",
          "width": 9.6
         },
         "mode": "lines",
         "type": "scatter",
         "uid": "00d36847-c099-4f36-bcf8-ac7a9f88e3f4",
         "x": [
          0.6755902076156601,
          1.337668611079007,
          null
         ],
         "y": [
          -0.7372773368101242,
          -1.4598091268840458,
          null
         ]
        },
        {
         "hoverinfo": "none",
         "line": {
          "color": "rgb(71, 17, 99)",
          "width": 9.6
         },
         "mode": "lines",
         "type": "scatter",
         "uid": "7974edaa-549c-4e65-b882-7552a8d79be5",
         "x": [
          0.7372773368101239,
          1.4140203238611007,
          null
         ],
         "y": [
          -0.6755902076156605,
          -1.2957109034481404,
          null
         ]
        },
        {
         "hoverinfo": "none",
         "line": {
          "color": "rgb(70, 12, 95)",
          "width": 9.6
         },
         "mode": "lines",
         "type": "scatter",
         "uid": "fb500f93-35eb-4d77-8fa6-391b9d133bd7",
         "x": [
          0.7933533402912349,
          1.515555412590035,
          null
         ],
         "y": [
          -0.608761429008721,
          -1.162926569857923,
          null
         ]
        },
        {
         "hoverinfo": "none",
         "line": {
          "color": "rgb(68, 3, 87)",
          "width": 9.6
         },
         "mode": "lines",
         "type": "scatter",
         "uid": "63b0879a-3b22-4e30-8b35-1d690f43ccd1",
         "x": [
          0.8433914458128855,
          1.5983599568858096,
          null
         ],
         "y": [
          -0.5372996083468242,
          -1.0182675945974973,
          null
         ]
        },
        {
         "hoverinfo": "none",
         "line": {
          "color": "rgb(68, 1, 84)",
          "width": 9.6
         },
         "mode": "lines",
         "type": "scatter",
         "uid": "b069b926-a2af-45ec-b936-966851492e0e",
         "x": [
          0.8870108331782214,
          1.6744897139177075,
          null
         ],
         "y": [
          -0.4617486132350344,
          -0.8716841715533796,
          null
         ]
        },
        {
         "hoverinfo": "text",
         "marker": {
          "color": "rgb(61, 187, 116)",
          "size": 0.05
         },
         "mode": "markers",
         "name": "",
         "text": [
          "Denmark<br>Score: 7.526<br>World rank: 1",
          "Switzerland<br>Score: 7.509<br>World rank: 2",
          "Iceland<br>Score: 7.501<br>World rank: 3",
          "Norway<br>Score: 7.498<br>World rank: 4",
          "Finland<br>Score: 7.413<br>World rank: 5",
          "Netherlands<br>Score: 7.339<br>World rank: 7",
          "Sweden<br>Score: 7.291<br>World rank: 10",
          "Israel<br>Score: 7.267<br>World rank: 11",
          "Austria<br>Score: 7.119<br>World rank: 12",
          "Germany<br>Score: 6.994<br>World rank: 16",
          "Belgium<br>Score: 6.929<br>World rank: 18",
          "Ireland<br>Score: 6.907<br>World rank: 19",
          "Luxembourg<br>Score: 6.871<br>World rank: 20",
          "U Kingdom<br>Score: 6.725<br>World rank: 23",
          "Czech Rep<br>Score: 6.596<br>World rank: 27",
          "Malta<br>Score: 6.488<br>World rank: 30",
          "France<br>Score: 6.478<br>World rank: 32",
          "Spain<br>Score: 6.361<br>World rank: 37",
          "Slovakia<br>Score: 6.078<br>World rank: 45",
          "Uzbekistan<br>Score: 5.987<br>World rank: 49",
          "Italy<br>Score: 5.977<br>World rank: 50",
          "Kazakhstan<br>Score: 5.919<br>World rank: 54",
          "Moldova<br>Score: 5.897<br>World rank: 55",
          "Russia<br>Score: 5.856<br>World rank: 56",
          "Poland<br>Score: 5.835<br>World rank: 57",
          "Lithuania<br>Score: 5.813<br>World rank: 60",
          "Belarus<br>Score: 5.802<br>World rank: 61",
          "North Cyprus<br>Score: 5.771<br>World rank: 62",
          "Slovenia<br>Score: 5.768<br>World rank: 63",
          "Latvia<br>Score: 5.56<br>World rank: 68",
          "Cyprus<br>Score: 5.546<br>World rank: 69",
          "Romania<br>Score: 5.528<br>World rank: 71",
          "Estonia<br>Score: 5.517<br>World rank: 72",
          "Croatia<br>Score: 5.488<br>World rank: 74",
          "Kosovo<br>Score: 5.401<br>World rank: 77",
          "Turkey<br>Score: 5.389<br>World rank: 78",
          "Azerbaijan<br>Score: 5.291<br>World rank: 81",
          "Serbia<br>Score: 5.177<br>World rank: 86",
          "Bosn Herzeg<br>Score: 5.163<br>World rank: 87",
          "Montenegro<br>Score: 5.161<br>World rank: 88",
          "Hungary<br>Score: 5.145<br>World rank: 91",
          "Portugal<br>Score: 5.123<br>World rank: 94",
          "Macedonia<br>Score: 5.121<br>World rank: 95",
          "Greece<br>Score: 5.033<br>World rank: 99",
          "Albania<br>Score: 4.655<br>World rank: 109",
          "Armenia<br>Score: 4.36<br>World rank: 121",
          "Ukraine<br>Score: 4.324<br>World rank: 123",
          "Georgia<br>Score: 4.252<br>World rank: 126",
          "Bulgaria<br>Score: 4.217<br>World rank: 129"
         ],
         "type": "scatter",
         "uid": "ff6a7845-0ab4-4be9-83ba-82ac8a3f456d",
         "x": [
          -0.07817512518760093,
          -0.23369684247061662,
          -0.3873357764801775,
          -0.5380418084182773,
          -0.681297357009554,
          -0.8184615682383931,
          -0.9496629182896339,
          -1.074431882125181,
          -1.181856174775227,
          -1.2800686729838089,
          -1.372000213436284,
          -1.456581415942317,
          -1.528553089469544,
          -1.5778889910521712,
          -1.6158976883414171,
          -1.643054795982473,
          -1.6675058942137624,
          -1.6679898781589313,
          -1.6382287574528611,
          -1.6162638492732846,
          -1.590540347599496,
          -1.547932806693359,
          -1.49736559600803,
          -1.4337829846615548,
          -1.361411349635853,
          -1.2788020736715457,
          -1.1875597692493178,
          -1.0859934800524997,
          -0.9783757366426474,
          -0.8517612738634918,
          -0.7313125931299291,
          -0.6053649075350082,
          -0.4753367359111242,
          -0.34147336144255763,
          -0.20473376739694624,
          -0.06836305878763049,
          0.06791309037059803,
          0.20165609718038868,
          0.3340688483341483,
          0.4640681817402267,
          0.5899367228407097,
          0.7107526285616741,
          0.8269323761725171,
          0.9312768260824986,
          1.0066294093473336,
          1.0756488303356122,
          1.154454376440635,
          1.2208757013493474,
          1.2807502735479646
         ],
         "y": [
          1.7905047390160749,
          1.7751037523270674,
          1.747158780741683,
          1.7064506030335118,
          1.6447973193014098,
          1.572250044198745,
          1.4906721859625434,
          1.4002268901750674,
          1.289769690573416,
          1.1729668299381792,
          1.052772791282555,
          0.9279447025417205,
          0.7957143733969201,
          0.6535830200130087,
          0.5094905840863975,
          0.36425647869919864,
          0.2195313157149457,
          0.0728260108422732,
          -0.07152661225023174,
          -0.21278517251704576,
          -0.35261430578105396,
          -0.48806133921646105,
          -0.6202291376973985,
          -0.7463801794565457,
          -0.8673146835787936,
          -0.9812593434116357,
          -1.0881980375720874,
          -1.1851539168870948,
          -1.2750440841649027,
          -1.3369973867307425,
          -1.4048384206315283,
          -1.461480169955749,
          -1.5075755209880128,
          -1.540286795233006,
          -1.5551073557190682,
          -1.5657714706455033,
          -1.5554654995176063,
          -1.531730129514044,
          -1.5068871949894294,
          -1.471836233149448,
          -1.424233237223978,
          -1.365343096164751,
          -1.298023824129495,
          -1.2136635888897391,
          -1.098543231847085,
          -0.9856505555319004,
          -0.885843999433322,
          -0.7777836014721607,
          -0.666716392394207
         ]
        },
        {
         "hoverinfo": "text",
         "marker": {
          "color": "rgb(61, 187, 116)",
          "size": 0.05
         },
         "mode": "markers",
         "name": "",
         "text": [
          "Denmark<br>Score: 7.526<br>World rank: 1",
          "Switzerland<br>Score: 7.509<br>World rank: 2",
          "Iceland<br>Score: 7.501<br>World rank: 3",
          "Norway<br>Score: 7.498<br>World rank: 4",
          "Finland<br>Score: 7.413<br>World rank: 5",
          "Netherlands<br>Score: 7.339<br>World rank: 7",
          "Sweden<br>Score: 7.291<br>World rank: 10",
          "Israel<br>Score: 7.267<br>World rank: 11",
          "Austria<br>Score: 7.119<br>World rank: 12",
          "Germany<br>Score: 6.994<br>World rank: 16",
          "Belgium<br>Score: 6.929<br>World rank: 18",
          "Ireland<br>Score: 6.907<br>World rank: 19",
          "Luxembourg<br>Score: 6.871<br>World rank: 20",
          "U Kingdom<br>Score: 6.725<br>World rank: 23",
          "Czech Rep<br>Score: 6.596<br>World rank: 27",
          "Malta<br>Score: 6.488<br>World rank: 30",
          "France<br>Score: 6.478<br>World rank: 32",
          "Spain<br>Score: 6.361<br>World rank: 37",
          "Slovakia<br>Score: 6.078<br>World rank: 45",
          "Uzbekistan<br>Score: 5.987<br>World rank: 49",
          "Italy<br>Score: 5.977<br>World rank: 50",
          "Kazakhstan<br>Score: 5.919<br>World rank: 54",
          "Moldova<br>Score: 5.897<br>World rank: 55",
          "Russia<br>Score: 5.856<br>World rank: 56",
          "Poland<br>Score: 5.835<br>World rank: 57",
          "Lithuania<br>Score: 5.813<br>World rank: 60",
          "Belarus<br>Score: 5.802<br>World rank: 61",
          "North Cyprus<br>Score: 5.771<br>World rank: 62",
          "Slovenia<br>Score: 5.768<br>World rank: 63",
          "Latvia<br>Score: 5.56<br>World rank: 68",
          "Cyprus<br>Score: 5.546<br>World rank: 69",
          "Romania<br>Score: 5.528<br>World rank: 71",
          "Estonia<br>Score: 5.517<br>World rank: 72",
          "Croatia<br>Score: 5.488<br>World rank: 74",
          "Kosovo<br>Score: 5.401<br>World rank: 77",
          "Turkey<br>Score: 5.389<br>World rank: 78",
          "Azerbaijan<br>Score: 5.291<br>World rank: 81",
          "Serbia<br>Score: 5.177<br>World rank: 86",
          "Bosn Herzeg<br>Score: 5.163<br>World rank: 87",
          "Montenegro<br>Score: 5.161<br>World rank: 88",
          "Hungary<br>Score: 5.145<br>World rank: 91",
          "Portugal<br>Score: 5.123<br>World rank: 94",
          "Macedonia<br>Score: 5.121<br>World rank: 95",
          "Greece<br>Score: 5.033<br>World rank: 99",
          "Albania<br>Score: 4.655<br>World rank: 109",
          "Armenia<br>Score: 4.36<br>World rank: 121",
          "Ukraine<br>Score: 4.324<br>World rank: 123",
          "Georgia<br>Score: 4.252<br>World rank: 126",
          "Bulgaria<br>Score: 4.217<br>World rank: 129"
         ],
         "type": "scatter",
         "uid": "99d9c3fd-5821-4605-86ca-649d2a07a326",
         "x": [
          -0.11273086300986597,
          -0.3368674927211816,
          -0.5582319390222521,
          -0.7753778173322815,
          -0.9799112816540181,
          -1.1751745232417523,
          -1.3620262282324438,
          -1.5401023352416412,
          -1.6881221419347938,
          -1.8228600091574938,
          -1.9506470865813332,
          -2.0697713860717486,
          -2.1700953457608665,
          -2.231898449593056,
          -2.278078425934607,
          -2.309813584845013,
          -2.3435669270537143,
          -2.3369315347360047,
          -2.2774092933238643,
          -2.2410828371727587,
          -2.2047846880790583,
          -2.1421486626384914,
          -2.0708516595047732,
          -1.980555136144888,
          -1.8794312534588204,
          -1.7642508070518563,
          -1.6378422016885115,
          -1.4963967524893393,
          -1.347990044276574,
          -1.1662229393801593,
          -1.000876573024824,
          -0.828046382704926,
          -0.6499676723179746,
          -0.4665071089470116,
          -0.27894134257384084,
          -0.09310673020992485,
          0.0922067933758603,
          0.2727860021407261,
          0.45169808273019324,
          0.6274305639761799,
          0.7971900133163295,
          0.959756643888314,
          1.1165651439982103,
          1.2537922231562766,
          1.337668611079007,
          1.4140203238611007,
          1.515555412590035,
          1.5983599568858096,
          1.6744897139177075
         ],
         "y": [
          2.581961256450292,
          2.5587626432803243,
          2.5180215543634326,
          2.459184255318797,
          2.3657151060915327,
          2.257489255219268,
          2.137952926112201,
          2.0071004400588994,
          1.8422620443367077,
          1.670343452260698,
          1.4967841535563895,
          1.3185897967366167,
          1.1296801335588063,
          0.9244826076609276,
          0.7182753686685222,
          0.5120733434602945,
          0.3085364392098398,
          0.10203263431921034,
          -0.09943383713512764,
          -0.29504415281404023,
          -0.4887889976240054,
          -0.6754168789286494,
          -0.8577748430297074,
          -1.0310117456780572,
          -1.1973297588107636,
          -1.3537572578145507,
          -1.500805867528515,
          -1.6330304969640657,
          -1.7567348280385704,
          -1.8306033276485996,
          -1.9226660080848352,
          -1.999080807400211,
          -2.061434091227799,
          -2.1042775833460787,
          -2.118769850064326,
          -2.1324947197091486,
          -2.1118827774533546,
          -2.0720153976542774,
          -2.0374783828589256,
          -1.9899555155506687,
          -1.9245869419366695,
          -1.8436753591512804,
          -1.7526562024461043,
          -1.6339738374882429,
          -1.4598091268840458,
          -1.2957109034481404,
          -1.162926569857923,
          -1.0182675945974973,
          -0.8716841715533796
         ]
        }
       ],
       "_js2py_pointsCallback": {},
       "_js2py_relayout": {},
       "_js2py_restyle": {},
       "_js2py_update": {},
       "_last_layout_edit_id": 2,
       "_last_trace_edit_id": 2,
       "_layout": {
        "annotations": [
         {
          "font": {
           "size": 10
          },
          "showarrow": false,
          "text": "Denmark",
          "textangle": 87.5,
          "x": -0.12668906696677348,
          "y": 2.901656687356487
         },
         {
          "font": {
           "size": 10
          },
          "showarrow": false,
          "text": "Switzerland",
          "textangle": 82.5,
          "x": -0.3786358742315981,
          "y": 2.8760249989199442
         },
         {
          "font": {
           "size": 10
          },
          "showarrow": false,
          "text": "Iceland",
          "textangle": 77.5,
          "x": -0.627492615482445,
          "y": 2.830436276641811
         },
         {
          "font": {
           "size": 10
          },
          "showarrow": false,
          "text": "Norway",
          "textangle": 72.5,
          "x": -0.8716036731736488,
          "y": 2.764373679558229
         },
         {
          "font": {
           "size": 10
          },
          "showarrow": false,
          "text": "Finland",
          "textangle": 67.5,
          "x": -1.1023699800108469,
          "y": 2.6613565564951447
         },
         {
          "font": {
           "size": 10
          },
          "showarrow": false,
          "text": "Netherlands",
          "textangle": 62.5,
          "x": -1.322934079476963,
          "y": 2.541332721836299
         },
         {
          "font": {
           "size": 10
          },
          "showarrow": false,
          "text": "Sweden",
          "textangle": 57.5,
          "x": -1.5339621029034276,
          "y": 2.407838188772325
         },
         {
          "font": {
           "size": 10
          },
          "showarrow": false,
          "text": "Israel",
          "textangle": 52.5,
          "x": -1.7349059925244321,
          "y": 2.260973508952095
         },
         {
          "font": {
           "size": 10
          },
          "showarrow": false,
          "text": "Austria",
          "textangle": 47.5,
          "x": -1.9043110083718053,
          "y": 2.0781907921159477
         },
         {
          "font": {
           "size": 10
          },
          "showarrow": false,
          "text": "Germany",
          "textangle": 42.5,
          "x": -2.0587887569367336,
          "y": 1.8865323186977094
         },
         {
          "font": {
           "size": 10
          },
          "showarrow": false,
          "text": "Belgium",
          "textangle": 37.5,
          "x": -2.204520155474529,
          "y": 1.6915878108391804
         },
         {
          "font": {
           "size": 10
          },
          "showarrow": false,
          "text": "Ireland",
          "textangle": 32.50000000000003,
          "x": -2.3396566487318724,
          "y": 1.4905256714076005
         },
         {
          "font": {
           "size": 10
          },
          "showarrow": false,
          "text": "Luxembourg",
          "textangle": 27.5,
          "x": -2.4539388123778973,
          "y": 1.277439689794017
         },
         {
          "font": {
           "size": 10
          },
          "showarrow": false,
          "text": "U Kingdom",
          "textangle": 22.5,
          "x": -2.527539899996668,
          "y": 1.0469413060177564
         },
         {
          "font": {
           "size": 10
          },
          "showarrow": false,
          "text": "Czech Rep",
          "textangle": 17.49999999999997,
          "x": -2.5832678501740403,
          "y": 0.8145012245098896
         },
         {
          "font": {
           "size": 10
          },
          "showarrow": false,
          "text": "Malta",
          "textangle": 12.5,
          "x": -2.622228307123392,
          "y": 0.5813340199204873
         },
         {
          "font": {
           "size": 10
          },
          "showarrow": false,
          "text": "France",
          "textangle": 7.5,
          "x": -2.6608292826933337,
          "y": 0.3503048207202563
         },
         {
          "font": {
           "size": 10
          },
          "showarrow": false,
          "text": "Spain",
          "textangle": 2.5,
          "x": -2.6566269656421992,
          "y": 0.11599083827611789
         },
         {
          "font": {
           "size": 10
          },
          "showarrow": false,
          "text": "Slovakia",
          "textangle": -2.5,
          "x": -2.5971047242300593,
          "y": -0.11339204109203511
         },
         {
          "font": {
           "size": 10
          },
          "showarrow": false,
          "text": "Uzbekistan",
          "textangle": -7.499999999999972,
          "x": -2.558345192812378,
          "y": -0.3368125343244566
         },
         {
          "font": {
           "size": 10
          },
          "showarrow": false,
          "text": "Italy",
          "textangle": -12.499999999999972,
          "x": -2.517199410357437,
          "y": -0.5580496740841983
         },
         {
          "font": {
           "size": 10
          },
          "showarrow": false,
          "text": "Kazakhstan",
          "textangle": -17.49999999999997,
          "x": -2.447338086877924,
          "y": -0.7716427347700168
         },
         {
          "font": {
           "size": 10
          },
          "showarrow": false,
          "text": "Moldova",
          "textangle": -22.5,
          "x": -2.366493109908385,
          "y": -0.9802335413865361
         },
         {
          "font": {
           "size": 10
          },
          "showarrow": false,
          "text": "Russia",
          "textangle": -27.5,
          "x": -2.2643986027619194,
          "y": -1.1787713019132684
         },
         {
          "font": {
           "size": 10
          },
          "showarrow": false,
          "text": "Poland",
          "textangle": -32.49999999999997,
          "x": -2.149316516118944,
          "y": -1.3692656334817472
         },
         {
          "font": {
           "size": 10
          },
          "showarrow": false,
          "text": "Lithuania",
          "textangle": -37.5,
          "x": -2.0181238759450513,
          "y": -1.5485609150973414
         },
         {
          "font": {
           "size": 10
          },
          "showarrow": false,
          "text": "Belarus",
          "textangle": -42.5,
          "x": -1.8737709494677512,
          "y": -1.716994733965526
         },
         {
          "font": {
           "size": 10
          },
          "showarrow": false,
          "text": "North Cyprus",
          "textangle": -47.5,
          "x": -1.7125856189263509,
          "y": -1.8689592447433057
         },
         {
          "font": {
           "size": 10
          },
          "showarrow": false,
          "text": "Slovenia",
          "textangle": -52.499999999999986,
          "x": -1.5427937015593645,
          "y": -2.0106078969317656
         },
         {
          "font": {
           "size": 10
          },
          "showarrow": false,
          "text": "Latvia",
          "textangle": -57.49999999999997,
          "x": -1.3381588140511433,
          "y": -2.100488590308723
         },
         {
          "font": {
           "size": 10
          },
          "showarrow": false,
          "text": "Cyprus",
          "textangle": -62.49999999999997,
          "x": -1.1486361292600349,
          "y": -2.2065094747018663
         },
         {
          "font": {
           "size": 10
          },
          "showarrow": false,
          "text": "Romania",
          "textangle": -67.49999999999997,
          "x": -0.950505081061755,
          "y": -2.294722257803823
         },
         {
          "font": {
           "size": 10
          },
          "showarrow": false,
          "text": "Estonia",
          "textangle": -72.49999999999997,
          "x": -0.7461935281593423,
          "y": -2.3666235154672317
         },
         {
          "font": {
           "size": 10
          },
          "showarrow": false,
          "text": "Croatia",
          "textangle": -77.49999999999996,
          "x": -0.5357677854072048,
          "y": -2.4166923056244576
         },
         {
          "font": {
           "size": 10
          },
          "showarrow": false,
          "text": "Kosovo",
          "textangle": -82.49999999999999,
          "x": -0.3207097240842574,
          "y": -2.4360322057039454
         },
         {
          "font": {
           "size": 10
          },
          "showarrow": false,
          "text": "Turkey",
          "textangle": -87.49999999999999,
          "x": -0.10706493416683241,
          "y": -2.452190150615343
         },
         {
          "font": {
           "size": 10
          },
          "showarrow": false,
          "text": "Azerbaijan",
          "textangle": 87.5,
          "x": 0.10616499733276774,
          "y": -2.4315782083595487
         },
         {
          "font": {
           "size": 10
          },
          "showarrow": false,
          "text": "Serbia",
          "textangle": 82.5,
          "x": 0.3145543836511425,
          "y": -2.389277753293897
         },
         {
          "font": {
           "size": 10
          },
          "showarrow": false,
          "text": "Bosn Herzeg",
          "textangle": 77.5,
          "x": 0.5209587591903864,
          "y": -2.3498931051373044
         },
         {
          "font": {
           "size": 10
          },
          "showarrow": false,
          "text": "Montenegro",
          "textangle": 72.5,
          "x": 0.7236564198175475,
          "y": -2.2951449397901014
         },
         {
          "font": {
           "size": 10
          },
          "showarrow": false,
          "text": "Hungary",
          "textangle": 67.5,
          "x": 0.9196487116731584,
          "y": -2.2202283923402817
         },
         {
          "font": {
           "size": 10
          },
          "showarrow": false,
          "text": "Portugal",
          "textangle": 62.5,
          "x": 1.1075162001235248,
          "y": -2.1275188257683113
         },
         {
          "font": {
           "size": 10
          },
          "showarrow": false,
          "text": "Macedonia",
          "textangle": 57.5,
          "x": 1.2885010186691939,
          "y": -2.0225414651062277
         },
         {
          "font": {
           "size": 10
          },
          "showarrow": false,
          "text": "Greece",
          "textangle": 52.5,
          "x": 1.4485958804390673,
          "y": -1.8878469063814385
         },
         {
          "font": {
           "size": 10
          },
          "showarrow": false,
          "text": "Albania",
          "textangle": 47.5,
          "x": 1.5538574775160185,
          "y": -1.6957378746632858
         },
         {
          "font": {
           "size": 10
          },
          "showarrow": false,
          "text": "Armenia",
          "textangle": 42.50000000000003,
          "x": 1.6499490716403404,
          "y": -1.5118997698851517
         },
         {
          "font": {
           "size": 10
          },
          "showarrow": false,
          "text": "Ukraine",
          "textangle": 37.50000000000003,
          "x": 1.7694284814832302,
          "y": -1.3577302271407137
         },
         {
          "font": {
           "size": 10
          },
          "showarrow": false,
          "text": "Georgia",
          "textangle": 32.50000000000003,
          "x": 1.8682452195459327,
          "y": -1.1902034692684809
         },
         {
          "font": {
           "size": 10
          },
          "showarrow": false,
          "text": "Bulgaria",
          "textangle": 27.50000000000003,
          "x": 1.9583331805347384,
          "y": -1.0194437277885906
         },
         {
          "font": {
           "size": 11
          },
          "showarrow": false,
          "text": "Europe Happiness Score and Global Ranking<br>Data: World Happiness Report, 2016<a href='http://worldhappiness.report/wp-content/uploads/sites/2/2016/03/HR-V1_web.pdf'> [1]</a>",
          "textangle": 0,
          "x": 0.5,
          "y": 0.1
         }
        ],
        "font": {
         "size": 12
        },
        "height": 1000,
        "hovermode": "closest",
        "paper_bgcolor": "rgb(245,245,245)",
        "plot_bgcolor": "rgb(245,245,245)",
        "showlegend": false,
        "template": {},
        "title": {
         "text": ""
        },
        "width": 1000,
        "xaxis": {
         "range": [
          -3.5,
          4
         ],
         "visible": false
        },
        "yaxis": {
         "range": [
          -4.5,
          3.5
         ],
         "visible": false
        }
       },
       "_py2js_addTraces": {},
       "_py2js_animate": {},
       "_py2js_deleteTraces": {},
       "_py2js_moveTraces": {},
       "_py2js_removeLayoutProps": {},
       "_py2js_removeTraceProps": {},
       "_py2js_restyle": {},
       "_view_count": 0
      }
     },
     "f1ed3f4634a44f168e06ff70aaba9be5": {
      "model_module": "plotlywidget",
      "model_module_version": "^0.11.0",
      "model_name": "FigureModel",
      "state": {
       "_config": {
        "plotlyServerURL": "https://plot.ly"
       },
       "_data": [
        {
         "hoverinfo": "none",
         "line": {
          "color": "rgb(253, 231, 36)",
          "width": 9.6
         },
         "mode": "lines",
         "type": "scatter",
         "uid": "a0f72139-676c-4ce8-a510-16f3d5d9b770",
         "x": [
          -0.04361938736533589,
          -0.11273086300986597,
          null
         ],
         "y": [
          0.9990482215818578,
          2.581961256450292,
          null
         ]
        },
        {
         "hoverinfo": "none",
         "line": {
          "color": "rgb(250, 230, 34)",
          "width": 9.6
         },
         "mode": "lines",
         "type": "scatter",
         "uid": "8e2d8fac-44ec-4c4d-881f-7b882e8d78d3",
         "x": [
          -0.1305261922200516,
          -0.3368674927211816,
          null
         ],
         "y": [
          0.9914448613738104,
          2.5587626432803243,
          null
         ]
        },
        {
         "hoverinfo": "none",
         "line": {
          "color": "rgb(250, 230, 34)",
          "width": 9.6
         },
         "mode": "lines",
         "type": "scatter",
         "uid": "e8f3ff29-9f45-4706-a7e0-6319febaa64f",
         "x": [
          -0.2164396139381028,
          -0.5582319390222521,
          null
         ],
         "y": [
          0.9762960071199334,
          2.5180215543634326,
          null
         ]
        },
        {
         "hoverinfo": "none",
         "line": {
          "color": "rgb(248, 230, 33)",
          "width": 9.6
         },
         "mode": "lines",
         "type": "scatter",
         "uid": "8075d59d-7a77-41e8-934f-369097ec7e50",
         "x": [
          -0.3007057995042731,
          -0.7753778173322815,
          null
         ],
         "y": [
          0.9537169507482269,
          2.459184255318797,
          null
         ]
        },
        {
         "hoverinfo": "none",
         "line": {
          "color": "rgb(233, 228, 25)",
          "width": 9.6
         },
         "mode": "lines",
         "type": "scatter",
         "uid": "74e0b599-709b-472d-b219-2193d8e97dc7",
         "x": [
          -0.3826834323650897,
          -0.9799112816540181,
          null
         ],
         "y": [
          0.9238795325112867,
          2.3657151060915327,
          null
         ]
        },
        {
         "hoverinfo": "none",
         "line": {
          "color": "rgb(218, 226, 24)",
          "width": 9.6
         },
         "mode": "lines",
         "type": "scatter",
         "uid": "8fbc46f5-3d6e-41b5-a1f2-4005794c685e",
         "x": [
          -0.4617486132350338,
          -1.1751745232417523,
          null
         ],
         "y": [
          0.8870108331782218,
          2.257489255219268,
          null
         ]
        },
        {
         "hoverinfo": "none",
         "line": {
          "color": "rgb(207, 225, 28)",
          "width": 9.6
         },
         "mode": "lines",
         "type": "scatter",
         "uid": "6c3b87a6-dbe1-4bde-9019-face111d43e9",
         "x": [
          -0.537299608346824,
          -1.3620262282324438,
          null
         ],
         "y": [
          0.8433914458128856,
          2.137952926112201,
          null
         ]
        },
        {
         "hoverinfo": "none",
         "line": {
          "color": "rgb(202, 224, 30)",
          "width": 9.6
         },
         "mode": "lines",
         "type": "scatter",
         "uid": "7dc91092-1b65-4e3d-aaae-9db69ae15f9e",
         "x": [
          -0.6087614290087207,
          -1.5401023352416412,
          null
         ],
         "y": [
          0.7933533402912352,
          2.0071004400588994,
          null
         ]
        },
        {
         "hoverinfo": "none",
         "line": {
          "color": "rgb(173, 220, 48)",
          "width": 9.6
         },
         "mode": "lines",
         "type": "scatter",
         "uid": "a6997ba6-f7cf-4591-a927-e18e56255f7f",
         "x": [
          -0.6755902076156602,
          -1.6881221419347938,
          null
         ],
         "y": [
          0.7372773368101241,
          1.8422620443367077,
          null
         ]
        },
        {
         "hoverinfo": "none",
         "line": {
          "color": "rgb(146, 215, 65)",
          "width": 9.6
         },
         "mode": "lines",
         "type": "scatter",
         "uid": "c9435379-3cc6-45c1-b4ee-06ec0af3d337",
         "x": [
          -0.737277336810124,
          -1.8228600091574938,
          null
         ],
         "y": [
          0.6755902076156604,
          1.670343452260698,
          null
         ]
        },
        {
         "hoverinfo": "none",
         "line": {
          "color": "rgb(134, 212, 73)",
          "width": 9.6
         },
         "mode": "lines",
         "type": "scatter",
         "uid": "4998567a-f31d-4793-973c-75a28c6eadb8",
         "x": [
          -0.793353340291235,
          -1.9506470865813332,
          null
         ],
         "y": [
          0.6087614290087209,
          1.4967841535563895,
          null
         ]
        },
        {
         "hoverinfo": "none",
         "line": {
          "color": "rgb(131, 211, 75)",
          "width": 9.6
         },
         "mode": "lines",
         "type": "scatter",
         "uid": "df44f4c5-b308-48e7-b089-e378dec3a5bc",
         "x": [
          -0.8433914458128855,
          -2.0697713860717486,
          null
         ],
         "y": [
          0.5372996083468241,
          1.3185897967366167,
          null
         ]
        },
        {
         "hoverinfo": "none",
         "line": {
          "color": "rgb(124, 210, 79)",
          "width": 9.6
         },
         "mode": "lines",
         "type": "scatter",
         "uid": "3230b95e-3201-4d11-b7ee-071b0d3120a4",
         "x": [
          -0.8870108331782217,
          -2.1700953457608665,
          null
         ],
         "y": [
          0.4617486132350339,
          1.1296801335588063,
          null
         ]
        },
        {
         "hoverinfo": "none",
         "line": {
          "color": "rgb(98, 202, 95)",
          "width": 9.6
         },
         "mode": "lines",
         "type": "scatter",
         "uid": "1068d0f1-7f77-479a-a4bb-c66a6e3720a1",
         "x": [
          -0.9238795325112867,
          -2.231898449593056,
          null
         ],
         "y": [
          0.3826834323650899,
          0.9244826076609276,
          null
         ]
        },
        {
         "hoverinfo": "none",
         "line": {
          "color": "rgb(77, 194, 107)",
          "width": 9.6
         },
         "mode": "lines",
         "type": "scatter",
         "uid": "a4f71986-62b7-42a0-a934-3ab43f135a6f",
         "x": [
          -0.953716950748227,
          -2.278078425934607,
          null
         ],
         "y": [
          0.3007057995042729,
          0.7182753686685222,
          null
         ]
        },
        {
         "hoverinfo": "none",
         "line": {
          "color": "rgb(61, 187, 116)",
          "width": 9.6
         },
         "mode": "lines",
         "type": "scatter",
         "uid": "c3219de6-8289-4797-8ae5-8f2db81432dc",
         "x": [
          -0.9762960071199334,
          -2.309813584845013,
          null
         ],
         "y": [
          0.21643961393810274,
          0.5120733434602945,
          null
         ]
        },
        {
         "hoverinfo": "none",
         "line": {
          "color": "rgb(59, 186, 117)",
          "width": 9.6
         },
         "mode": "lines",
         "type": "scatter",
         "uid": "0428fc5b-74e3-45b0-ad46-6ccdcff28f4b",
         "x": [
          -0.9914448613738104,
          -2.3435669270537143,
          null
         ],
         "y": [
          0.13052619222005157,
          0.3085364392098398,
          null
         ]
        },
        {
         "hoverinfo": "none",
         "line": {
          "color": "rgb(46, 178, 124)",
          "width": 9.6
         },
         "mode": "lines",
         "type": "scatter",
         "uid": "7b97eeee-c753-45cb-a32c-a45ff02078e6",
         "x": [
          -0.9990482215818578,
          -2.3369315347360047,
          null
         ],
         "y": [
          0.04361938736533607,
          0.10203263431921034,
          null
         ]
        },
        {
         "hoverinfo": "none",
         "line": {
          "color": "rgb(30, 158, 136)",
          "width": 9.6
         },
         "mode": "lines",
         "type": "scatter",
         "uid": "d039005f-f96b-4f8a-bc55-4fe391d50084",
         "x": [
          -0.9990482215818578,
          -2.2774092933238643,
          null
         ],
         "y": [
          -0.04361938736533583,
          -0.09943383713512764,
          null
         ]
        },
        {
         "hoverinfo": "none",
         "line": {
          "color": "rgb(30, 152, 138)",
          "width": 9.6
         },
         "mode": "lines",
         "type": "scatter",
         "uid": "6f991529-e60d-437b-8122-741e9f5b0a9a",
         "x": [
          -0.9914448613738105,
          -2.2410828371727587,
          null
         ],
         "y": [
          -0.13052619222005132,
          -0.29504415281404023,
          null
         ]
        },
        {
         "hoverinfo": "none",
         "line": {
          "color": "rgb(30, 152, 138)",
          "width": 9.6
         },
         "mode": "lines",
         "type": "scatter",
         "uid": "01f412e9-788f-4c8f-9c08-d0b2f1636117",
         "x": [
          -0.9762960071199335,
          -2.2047846880790583,
          null
         ],
         "y": [
          -0.21643961393810252,
          -0.4887889976240054,
          null
         ]
        },
        {
         "hoverinfo": "none",
         "line": {
          "color": "rgb(31, 147, 139)",
          "width": 9.6
         },
         "mode": "lines",
         "type": "scatter",
         "uid": "32efb12f-30d4-4db3-bdc7-58137a5a82ea",
         "x": [
          -0.953716950748227,
          -2.1421486626384914,
          null
         ],
         "y": [
          -0.3007057995042727,
          -0.6754168789286494,
          null
         ]
        },
        {
         "hoverinfo": "none",
         "line": {
          "color": "rgb(32, 145, 140)",
          "width": 9.6
         },
         "mode": "lines",
         "type": "scatter",
         "uid": "04dd202a-58ae-49b8-a47b-774e712dc96c",
         "x": [
          -0.9238795325112868,
          -2.0708516595047732,
          null
         ],
         "y": [
          -0.38268343236508967,
          -0.8577748430297074,
          null
         ]
        },
        {
         "hoverinfo": "none",
         "line": {
          "color": "rgb(33, 142, 140)",
          "width": 9.6
         },
         "mode": "lines",
         "type": "scatter",
         "uid": "233cdfa3-3c3a-4389-9aa3-5c1f96f0ac4a",
         "x": [
          -0.8870108331782216,
          -1.980555136144888,
          null
         ],
         "y": [
          -0.46174861323503413,
          -1.0310117456780572,
          null
         ]
        },
        {
         "hoverinfo": "none",
         "line": {
          "color": "rgb(33, 141, 140)",
          "width": 9.6
         },
         "mode": "lines",
         "type": "scatter",
         "uid": "81b29438-4bb9-4d88-ba7b-97e9020c8fd4",
         "x": [
          -0.8433914458128858,
          -1.8794312534588204,
          null
         ],
         "y": [
          -0.5372996083468236,
          -1.1973297588107636,
          null
         ]
        },
        {
         "hoverinfo": "none",
         "line": {
          "color": "rgb(34, 139, 141)",
          "width": 9.6
         },
         "mode": "lines",
         "type": "scatter",
         "uid": "1c80aab0-663f-4b87-8ab3-cc372e39d539",
         "x": [
          -0.7933533402912352,
          -1.7642508070518563,
          null
         ],
         "y": [
          -0.6087614290087207,
          -1.3537572578145507,
          null
         ]
        },
        {
         "hoverinfo": "none",
         "line": {
          "color": "rgb(34, 138, 141)",
          "width": 9.6
         },
         "mode": "lines",
         "type": "scatter",
         "uid": "97069126-22b5-45de-b789-40a731d02a39",
         "x": [
          -0.7372773368101241,
          -1.6378422016885115,
          null
         ],
         "y": [
          -0.6755902076156601,
          -1.500805867528515,
          null
         ]
        },
        {
         "hoverinfo": "none",
         "line": {
          "color": "rgb(35, 137, 141)",
          "width": 9.6
         },
         "mode": "lines",
         "type": "scatter",
         "uid": "8f0d602b-99e3-46b0-a367-796c9c1ca3d0",
         "x": [
          -0.6755902076156604,
          -1.4963967524893393,
          null
         ],
         "y": [
          -0.7372773368101239,
          -1.6330304969640657,
          null
         ]
        },
        {
         "hoverinfo": "none",
         "line": {
          "color": "rgb(35, 136, 141)",
          "width": 9.6
         },
         "mode": "lines",
         "type": "scatter",
         "uid": "01ea7f9c-1eb7-40a1-8016-c5d311fc32e4",
         "x": [
          -0.6087614290087209,
          -1.347990044276574,
          null
         ],
         "y": [
          -0.7933533402912349,
          -1.7567348280385704,
          null
         ]
        },
        {
         "hoverinfo": "none",
         "line": {
          "color": "rgb(41, 121, 142)",
          "width": 9.6
         },
         "mode": "lines",
         "type": "scatter",
         "uid": "2a1da7b4-3587-4e22-9bc2-c19af67cf816",
         "x": [
          -0.5372996083468242,
          -1.1662229393801593,
          null
         ],
         "y": [
          -0.8433914458128855,
          -1.8306033276485996,
          null
         ]
        },
        {
         "hoverinfo": "none",
         "line": {
          "color": "rgb(41, 120, 142)",
          "width": 9.6
         },
         "mode": "lines",
         "type": "scatter",
         "uid": "babfb759-959a-4631-b72b-54384363f1c5",
         "x": [
          -0.46174861323503436,
          -1.000876573024824,
          null
         ],
         "y": [
          -0.8870108331782215,
          -1.9226660080848352,
          null
         ]
        },
        {
         "hoverinfo": "none",
         "line": {
          "color": "rgb(42, 119, 142)",
          "width": 9.6
         },
         "mode": "lines",
         "type": "scatter",
         "uid": "dcbb71d9-c04a-46d0-89df-909fd778d29f",
         "x": [
          -0.38268343236509034,
          -0.828046382704926,
          null
         ],
         "y": [
          -0.9238795325112865,
          -1.999080807400211,
          null
         ]
        },
        {
         "hoverinfo": "none",
         "line": {
          "color": "rgb(42, 118, 142)",
          "width": 9.6
         },
         "mode": "lines",
         "type": "scatter",
         "uid": "85592775-347d-4284-8e96-36dcaee84b32",
         "x": [
          -0.3007057995042738,
          -0.6499676723179746,
          null
         ],
         "y": [
          -0.9537169507482267,
          -2.061434091227799,
          null
         ]
        },
        {
         "hoverinfo": "none",
         "line": {
          "color": "rgb(43, 116, 142)",
          "width": 9.6
         },
         "mode": "lines",
         "type": "scatter",
         "uid": "3cf9fa3f-d86d-4663-a483-025b78c25ff9",
         "x": [
          -0.21643961393810368,
          -0.4665071089470116,
          null
         ],
         "y": [
          -0.9762960071199331,
          -2.1042775833460787,
          null
         ]
        },
        {
         "hoverinfo": "none",
         "line": {
          "color": "rgb(46, 109, 142)",
          "width": 9.6
         },
         "mode": "lines",
         "type": "scatter",
         "uid": "a0f56ecb-376a-4711-bf9e-43d4faae1801",
         "x": [
          -0.13052619222005163,
          -0.27894134257384084,
          null
         ],
         "y": [
          -0.9914448613738104,
          -2.118769850064326,
          null
         ]
        },
        {
         "hoverinfo": "none",
         "line": {
          "color": "rgb(46, 108, 142)",
          "width": 9.6
         },
         "mode": "lines",
         "type": "scatter",
         "uid": "2e0d003c-0df2-41aa-80fe-df26d585c648",
         "x": [
          -0.04361938736533613,
          -0.09310673020992485,
          null
         ],
         "y": [
          -0.9990482215818578,
          -2.1324947197091486,
          null
         ]
        },
        {
         "hoverinfo": "none",
         "line": {
          "color": "rgb(49, 101, 141)",
          "width": 9.6
         },
         "mode": "lines",
         "type": "scatter",
         "uid": "e3cc6855-3653-497e-ae77-988ec23c3bfd",
         "x": [
          0.043619387365335764,
          0.0922067933758603,
          null
         ],
         "y": [
          -0.9990482215818578,
          -2.1118827774533546,
          null
         ]
        },
        {
         "hoverinfo": "none",
         "line": {
          "color": "rgb(53, 92, 140)",
          "width": 9.6
         },
         "mode": "lines",
         "type": "scatter",
         "uid": "9dcfe4a1-c667-4f9f-9e1f-a5c034c14a8c",
         "x": [
          0.13052619222005127,
          0.2727860021407261,
          null
         ],
         "y": [
          -0.9914448613738105,
          -2.0720153976542774,
          null
         ]
        },
        {
         "hoverinfo": "none",
         "line": {
          "color": "rgb(54, 91, 140)",
          "width": 9.6
         },
         "mode": "lines",
         "type": "scatter",
         "uid": "825b17f4-36c6-4e3a-b09c-d6b5689f1254",
         "x": [
          0.21643961393810332,
          0.45169808273019324,
          null
         ],
         "y": [
          -0.9762960071199333,
          -2.0374783828589256,
          null
         ]
        },
        {
         "hoverinfo": "none",
         "line": {
          "color": "rgb(54, 91, 140)",
          "width": 9.6
         },
         "mode": "lines",
         "type": "scatter",
         "uid": "00d082f4-b02e-4c6e-87a8-94bd6a428ee6",
         "x": [
          0.30070579950427345,
          0.6274305639761799,
          null
         ],
         "y": [
          -0.9537169507482268,
          -1.9899555155506687,
          null
         ]
        },
        {
         "hoverinfo": "none",
         "line": {
          "color": "rgb(55, 89, 140)",
          "width": 9.6
         },
         "mode": "lines",
         "type": "scatter",
         "uid": "541a5df9-7d09-457b-a665-241146a3c0c1",
         "x": [
          0.38268343236509,
          0.7971900133163295,
          null
         ],
         "y": [
          -0.9238795325112866,
          -1.9245869419366695,
          null
         ]
        },
        {
         "hoverinfo": "none",
         "line": {
          "color": "rgb(55, 88, 140)",
          "width": 9.6
         },
         "mode": "lines",
         "type": "scatter",
         "uid": "f2a6b297-0549-4713-99f7-3763148b10c8",
         "x": [
          0.4617486132350341,
          0.959756643888314,
          null
         ],
         "y": [
          -0.8870108331782216,
          -1.8436753591512804,
          null
         ]
        },
        {
         "hoverinfo": "none",
         "line": {
          "color": "rgb(56, 87, 140)",
          "width": 9.6
         },
         "mode": "lines",
         "type": "scatter",
         "uid": "82f2cea1-61a2-4ad0-a226-0164e37f2418",
         "x": [
          0.5372996083468239,
          1.1165651439982103,
          null
         ],
         "y": [
          -0.8433914458128857,
          -1.7526562024461043,
          null
         ]
        },
        {
         "hoverinfo": "none",
         "line": {
          "color": "rgb(59, 81, 138)",
          "width": 9.6
         },
         "mode": "lines",
         "type": "scatter",
         "uid": "1547ef85-8201-4d22-8663-3f82377f2c2e",
         "x": [
          0.6087614290087205,
          1.2537922231562766,
          null
         ],
         "y": [
          -0.7933533402912352,
          -1.6339738374882429,
          null
         ]
        },
        {
         "hoverinfo": "none",
         "line": {
          "color": "rgb(70, 45, 124)",
          "width": 9.6
         },
         "mode": "lines",
         "type": "scatter",
         "uid": "894ed2a2-164c-4dd2-92b1-0dafddf58561",
         "x": [
          0.6755902076156601,
          1.337668611079007,
          null
         ],
         "y": [
          -0.7372773368101242,
          -1.4598091268840458,
          null
         ]
        },
        {
         "hoverinfo": "none",
         "line": {
          "color": "rgb(71, 17, 99)",
          "width": 9.6
         },
         "mode": "lines",
         "type": "scatter",
         "uid": "f5d82741-fcc6-42bc-acd6-08332d2adb8b",
         "x": [
          0.7372773368101239,
          1.4140203238611007,
          null
         ],
         "y": [
          -0.6755902076156605,
          -1.2957109034481404,
          null
         ]
        },
        {
         "hoverinfo": "none",
         "line": {
          "color": "rgb(70, 12, 95)",
          "width": 9.6
         },
         "mode": "lines",
         "type": "scatter",
         "uid": "906cfa1d-b2e6-4207-ad1c-ec9f8bc2b6ba",
         "x": [
          0.7933533402912349,
          1.515555412590035,
          null
         ],
         "y": [
          -0.608761429008721,
          -1.162926569857923,
          null
         ]
        },
        {
         "hoverinfo": "none",
         "line": {
          "color": "rgb(68, 3, 87)",
          "width": 9.6
         },
         "mode": "lines",
         "type": "scatter",
         "uid": "5872cd13-e06e-420a-8adf-a4e226a7a4a6",
         "x": [
          0.8433914458128855,
          1.5983599568858096,
          null
         ],
         "y": [
          -0.5372996083468242,
          -1.0182675945974973,
          null
         ]
        },
        {
         "hoverinfo": "none",
         "line": {
          "color": "rgb(68, 1, 84)",
          "width": 9.6
         },
         "mode": "lines",
         "type": "scatter",
         "uid": "506ec5b9-86ed-49c7-b8b9-89d1f0da29f0",
         "x": [
          0.8870108331782214,
          1.6744897139177075,
          null
         ],
         "y": [
          -0.4617486132350344,
          -0.8716841715533796,
          null
         ]
        },
        {
         "hoverinfo": "text",
         "marker": {
          "color": "rgb(61, 187, 116)",
          "size": 0.05
         },
         "mode": "markers",
         "name": "",
         "text": [
          "Denmark<br>Score: 7.526<br>World rank: 1",
          "Switzerland<br>Score: 7.509<br>World rank: 2",
          "Iceland<br>Score: 7.501<br>World rank: 3",
          "Norway<br>Score: 7.498<br>World rank: 4",
          "Finland<br>Score: 7.413<br>World rank: 5",
          "Netherlands<br>Score: 7.339<br>World rank: 7",
          "Sweden<br>Score: 7.291<br>World rank: 10",
          "Israel<br>Score: 7.267<br>World rank: 11",
          "Austria<br>Score: 7.119<br>World rank: 12",
          "Germany<br>Score: 6.994<br>World rank: 16",
          "Belgium<br>Score: 6.929<br>World rank: 18",
          "Ireland<br>Score: 6.907<br>World rank: 19",
          "Luxembourg<br>Score: 6.871<br>World rank: 20",
          "U Kingdom<br>Score: 6.725<br>World rank: 23",
          "Czech Rep<br>Score: 6.596<br>World rank: 27",
          "Malta<br>Score: 6.488<br>World rank: 30",
          "France<br>Score: 6.478<br>World rank: 32",
          "Spain<br>Score: 6.361<br>World rank: 37",
          "Slovakia<br>Score: 6.078<br>World rank: 45",
          "Uzbekistan<br>Score: 5.987<br>World rank: 49",
          "Italy<br>Score: 5.977<br>World rank: 50",
          "Kazakhstan<br>Score: 5.919<br>World rank: 54",
          "Moldova<br>Score: 5.897<br>World rank: 55",
          "Russia<br>Score: 5.856<br>World rank: 56",
          "Poland<br>Score: 5.835<br>World rank: 57",
          "Lithuania<br>Score: 5.813<br>World rank: 60",
          "Belarus<br>Score: 5.802<br>World rank: 61",
          "North Cyprus<br>Score: 5.771<br>World rank: 62",
          "Slovenia<br>Score: 5.768<br>World rank: 63",
          "Latvia<br>Score: 5.56<br>World rank: 68",
          "Cyprus<br>Score: 5.546<br>World rank: 69",
          "Romania<br>Score: 5.528<br>World rank: 71",
          "Estonia<br>Score: 5.517<br>World rank: 72",
          "Croatia<br>Score: 5.488<br>World rank: 74",
          "Kosovo<br>Score: 5.401<br>World rank: 77",
          "Turkey<br>Score: 5.389<br>World rank: 78",
          "Azerbaijan<br>Score: 5.291<br>World rank: 81",
          "Serbia<br>Score: 5.177<br>World rank: 86",
          "Bosn Herzeg<br>Score: 5.163<br>World rank: 87",
          "Montenegro<br>Score: 5.161<br>World rank: 88",
          "Hungary<br>Score: 5.145<br>World rank: 91",
          "Portugal<br>Score: 5.123<br>World rank: 94",
          "Macedonia<br>Score: 5.121<br>World rank: 95",
          "Greece<br>Score: 5.033<br>World rank: 99",
          "Albania<br>Score: 4.655<br>World rank: 109",
          "Armenia<br>Score: 4.36<br>World rank: 121",
          "Ukraine<br>Score: 4.324<br>World rank: 123",
          "Georgia<br>Score: 4.252<br>World rank: 126",
          "Bulgaria<br>Score: 4.217<br>World rank: 129"
         ],
         "type": "scatter",
         "uid": "825cf081-d689-45f0-8d51-6fced38e9f77",
         "x": [
          -0.07817512518760093,
          -0.23369684247061662,
          -0.3873357764801775,
          -0.5380418084182773,
          -0.681297357009554,
          -0.8184615682383931,
          -0.9496629182896339,
          -1.074431882125181,
          -1.181856174775227,
          -1.2800686729838089,
          -1.372000213436284,
          -1.456581415942317,
          -1.528553089469544,
          -1.5778889910521712,
          -1.6158976883414171,
          -1.643054795982473,
          -1.6675058942137624,
          -1.6679898781589313,
          -1.6382287574528611,
          -1.6162638492732846,
          -1.590540347599496,
          -1.547932806693359,
          -1.49736559600803,
          -1.4337829846615548,
          -1.361411349635853,
          -1.2788020736715457,
          -1.1875597692493178,
          -1.0859934800524997,
          -0.9783757366426474,
          -0.8517612738634918,
          -0.7313125931299291,
          -0.6053649075350082,
          -0.4753367359111242,
          -0.34147336144255763,
          -0.20473376739694624,
          -0.06836305878763049,
          0.06791309037059803,
          0.20165609718038868,
          0.3340688483341483,
          0.4640681817402267,
          0.5899367228407097,
          0.7107526285616741,
          0.8269323761725171,
          0.9312768260824986,
          1.0066294093473336,
          1.0756488303356122,
          1.154454376440635,
          1.2208757013493474,
          1.2807502735479646
         ],
         "y": [
          1.7905047390160749,
          1.7751037523270674,
          1.747158780741683,
          1.7064506030335118,
          1.6447973193014098,
          1.572250044198745,
          1.4906721859625434,
          1.4002268901750674,
          1.289769690573416,
          1.1729668299381792,
          1.052772791282555,
          0.9279447025417205,
          0.7957143733969201,
          0.6535830200130087,
          0.5094905840863975,
          0.36425647869919864,
          0.2195313157149457,
          0.0728260108422732,
          -0.07152661225023174,
          -0.21278517251704576,
          -0.35261430578105396,
          -0.48806133921646105,
          -0.6202291376973985,
          -0.7463801794565457,
          -0.8673146835787936,
          -0.9812593434116357,
          -1.0881980375720874,
          -1.1851539168870948,
          -1.2750440841649027,
          -1.3369973867307425,
          -1.4048384206315283,
          -1.461480169955749,
          -1.5075755209880128,
          -1.540286795233006,
          -1.5551073557190682,
          -1.5657714706455033,
          -1.5554654995176063,
          -1.531730129514044,
          -1.5068871949894294,
          -1.471836233149448,
          -1.424233237223978,
          -1.365343096164751,
          -1.298023824129495,
          -1.2136635888897391,
          -1.098543231847085,
          -0.9856505555319004,
          -0.885843999433322,
          -0.7777836014721607,
          -0.666716392394207
         ]
        },
        {
         "hoverinfo": "text",
         "marker": {
          "color": "rgb(61, 187, 116)",
          "size": 0.05
         },
         "mode": "markers",
         "name": "",
         "text": [
          "Denmark<br>Score: 7.526<br>World rank: 1",
          "Switzerland<br>Score: 7.509<br>World rank: 2",
          "Iceland<br>Score: 7.501<br>World rank: 3",
          "Norway<br>Score: 7.498<br>World rank: 4",
          "Finland<br>Score: 7.413<br>World rank: 5",
          "Netherlands<br>Score: 7.339<br>World rank: 7",
          "Sweden<br>Score: 7.291<br>World rank: 10",
          "Israel<br>Score: 7.267<br>World rank: 11",
          "Austria<br>Score: 7.119<br>World rank: 12",
          "Germany<br>Score: 6.994<br>World rank: 16",
          "Belgium<br>Score: 6.929<br>World rank: 18",
          "Ireland<br>Score: 6.907<br>World rank: 19",
          "Luxembourg<br>Score: 6.871<br>World rank: 20",
          "U Kingdom<br>Score: 6.725<br>World rank: 23",
          "Czech Rep<br>Score: 6.596<br>World rank: 27",
          "Malta<br>Score: 6.488<br>World rank: 30",
          "France<br>Score: 6.478<br>World rank: 32",
          "Spain<br>Score: 6.361<br>World rank: 37",
          "Slovakia<br>Score: 6.078<br>World rank: 45",
          "Uzbekistan<br>Score: 5.987<br>World rank: 49",
          "Italy<br>Score: 5.977<br>World rank: 50",
          "Kazakhstan<br>Score: 5.919<br>World rank: 54",
          "Moldova<br>Score: 5.897<br>World rank: 55",
          "Russia<br>Score: 5.856<br>World rank: 56",
          "Poland<br>Score: 5.835<br>World rank: 57",
          "Lithuania<br>Score: 5.813<br>World rank: 60",
          "Belarus<br>Score: 5.802<br>World rank: 61",
          "North Cyprus<br>Score: 5.771<br>World rank: 62",
          "Slovenia<br>Score: 5.768<br>World rank: 63",
          "Latvia<br>Score: 5.56<br>World rank: 68",
          "Cyprus<br>Score: 5.546<br>World rank: 69",
          "Romania<br>Score: 5.528<br>World rank: 71",
          "Estonia<br>Score: 5.517<br>World rank: 72",
          "Croatia<br>Score: 5.488<br>World rank: 74",
          "Kosovo<br>Score: 5.401<br>World rank: 77",
          "Turkey<br>Score: 5.389<br>World rank: 78",
          "Azerbaijan<br>Score: 5.291<br>World rank: 81",
          "Serbia<br>Score: 5.177<br>World rank: 86",
          "Bosn Herzeg<br>Score: 5.163<br>World rank: 87",
          "Montenegro<br>Score: 5.161<br>World rank: 88",
          "Hungary<br>Score: 5.145<br>World rank: 91",
          "Portugal<br>Score: 5.123<br>World rank: 94",
          "Macedonia<br>Score: 5.121<br>World rank: 95",
          "Greece<br>Score: 5.033<br>World rank: 99",
          "Albania<br>Score: 4.655<br>World rank: 109",
          "Armenia<br>Score: 4.36<br>World rank: 121",
          "Ukraine<br>Score: 4.324<br>World rank: 123",
          "Georgia<br>Score: 4.252<br>World rank: 126",
          "Bulgaria<br>Score: 4.217<br>World rank: 129"
         ],
         "type": "scatter",
         "uid": "d6e3c69a-c601-4f93-8dde-80716c9a936d",
         "x": [
          -0.11273086300986597,
          -0.3368674927211816,
          -0.5582319390222521,
          -0.7753778173322815,
          -0.9799112816540181,
          -1.1751745232417523,
          -1.3620262282324438,
          -1.5401023352416412,
          -1.6881221419347938,
          -1.8228600091574938,
          -1.9506470865813332,
          -2.0697713860717486,
          -2.1700953457608665,
          -2.231898449593056,
          -2.278078425934607,
          -2.309813584845013,
          -2.3435669270537143,
          -2.3369315347360047,
          -2.2774092933238643,
          -2.2410828371727587,
          -2.2047846880790583,
          -2.1421486626384914,
          -2.0708516595047732,
          -1.980555136144888,
          -1.8794312534588204,
          -1.7642508070518563,
          -1.6378422016885115,
          -1.4963967524893393,
          -1.347990044276574,
          -1.1662229393801593,
          -1.000876573024824,
          -0.828046382704926,
          -0.6499676723179746,
          -0.4665071089470116,
          -0.27894134257384084,
          -0.09310673020992485,
          0.0922067933758603,
          0.2727860021407261,
          0.45169808273019324,
          0.6274305639761799,
          0.7971900133163295,
          0.959756643888314,
          1.1165651439982103,
          1.2537922231562766,
          1.337668611079007,
          1.4140203238611007,
          1.515555412590035,
          1.5983599568858096,
          1.6744897139177075
         ],
         "y": [
          2.581961256450292,
          2.5587626432803243,
          2.5180215543634326,
          2.459184255318797,
          2.3657151060915327,
          2.257489255219268,
          2.137952926112201,
          2.0071004400588994,
          1.8422620443367077,
          1.670343452260698,
          1.4967841535563895,
          1.3185897967366167,
          1.1296801335588063,
          0.9244826076609276,
          0.7182753686685222,
          0.5120733434602945,
          0.3085364392098398,
          0.10203263431921034,
          -0.09943383713512764,
          -0.29504415281404023,
          -0.4887889976240054,
          -0.6754168789286494,
          -0.8577748430297074,
          -1.0310117456780572,
          -1.1973297588107636,
          -1.3537572578145507,
          -1.500805867528515,
          -1.6330304969640657,
          -1.7567348280385704,
          -1.8306033276485996,
          -1.9226660080848352,
          -1.999080807400211,
          -2.061434091227799,
          -2.1042775833460787,
          -2.118769850064326,
          -2.1324947197091486,
          -2.1118827774533546,
          -2.0720153976542774,
          -2.0374783828589256,
          -1.9899555155506687,
          -1.9245869419366695,
          -1.8436753591512804,
          -1.7526562024461043,
          -1.6339738374882429,
          -1.4598091268840458,
          -1.2957109034481404,
          -1.162926569857923,
          -1.0182675945974973,
          -0.8716841715533796
         ]
        }
       ],
       "_js2py_relayout": {},
       "_js2py_restyle": {},
       "_js2py_update": {},
       "_last_layout_edit_id": 1,
       "_last_trace_edit_id": 1,
       "_layout": {
        "annotations": [
         {
          "font": {
           "size": 10
          },
          "showarrow": false,
          "text": "Denmark",
          "textangle": 87.5,
          "x": -0.12668906696677348,
          "y": 2.901656687356487
         },
         {
          "font": {
           "size": 10
          },
          "showarrow": false,
          "text": "Switzerland",
          "textangle": 82.5,
          "x": -0.3786358742315981,
          "y": 2.8760249989199442
         },
         {
          "font": {
           "size": 10
          },
          "showarrow": false,
          "text": "Iceland",
          "textangle": 77.5,
          "x": -0.627492615482445,
          "y": 2.830436276641811
         },
         {
          "font": {
           "size": 10
          },
          "showarrow": false,
          "text": "Norway",
          "textangle": 72.5,
          "x": -0.8716036731736488,
          "y": 2.764373679558229
         },
         {
          "font": {
           "size": 10
          },
          "showarrow": false,
          "text": "Finland",
          "textangle": 67.5,
          "x": -1.1023699800108469,
          "y": 2.6613565564951447
         },
         {
          "font": {
           "size": 10
          },
          "showarrow": false,
          "text": "Netherlands",
          "textangle": 62.5,
          "x": -1.322934079476963,
          "y": 2.541332721836299
         },
         {
          "font": {
           "size": 10
          },
          "showarrow": false,
          "text": "Sweden",
          "textangle": 57.5,
          "x": -1.5339621029034276,
          "y": 2.407838188772325
         },
         {
          "font": {
           "size": 10
          },
          "showarrow": false,
          "text": "Israel",
          "textangle": 52.5,
          "x": -1.7349059925244321,
          "y": 2.260973508952095
         },
         {
          "font": {
           "size": 10
          },
          "showarrow": false,
          "text": "Austria",
          "textangle": 47.5,
          "x": -1.9043110083718053,
          "y": 2.0781907921159477
         },
         {
          "font": {
           "size": 10
          },
          "showarrow": false,
          "text": "Germany",
          "textangle": 42.5,
          "x": -2.0587887569367336,
          "y": 1.8865323186977094
         },
         {
          "font": {
           "size": 10
          },
          "showarrow": false,
          "text": "Belgium",
          "textangle": 37.5,
          "x": -2.204520155474529,
          "y": 1.6915878108391804
         },
         {
          "font": {
           "size": 10
          },
          "showarrow": false,
          "text": "Ireland",
          "textangle": 32.50000000000003,
          "x": -2.3396566487318724,
          "y": 1.4905256714076005
         },
         {
          "font": {
           "size": 10
          },
          "showarrow": false,
          "text": "Luxembourg",
          "textangle": 27.5,
          "x": -2.4539388123778973,
          "y": 1.277439689794017
         },
         {
          "font": {
           "size": 10
          },
          "showarrow": false,
          "text": "U Kingdom",
          "textangle": 22.5,
          "x": -2.527539899996668,
          "y": 1.0469413060177564
         },
         {
          "font": {
           "size": 10
          },
          "showarrow": false,
          "text": "Czech Rep",
          "textangle": 17.49999999999997,
          "x": -2.5832678501740403,
          "y": 0.8145012245098896
         },
         {
          "font": {
           "size": 10
          },
          "showarrow": false,
          "text": "Malta",
          "textangle": 12.5,
          "x": -2.622228307123392,
          "y": 0.5813340199204873
         },
         {
          "font": {
           "size": 10
          },
          "showarrow": false,
          "text": "France",
          "textangle": 7.5,
          "x": -2.6608292826933337,
          "y": 0.3503048207202563
         },
         {
          "font": {
           "size": 10
          },
          "showarrow": false,
          "text": "Spain",
          "textangle": 2.5,
          "x": -2.6566269656421992,
          "y": 0.11599083827611789
         },
         {
          "font": {
           "size": 10
          },
          "showarrow": false,
          "text": "Slovakia",
          "textangle": -2.5,
          "x": -2.5971047242300593,
          "y": -0.11339204109203511
         },
         {
          "font": {
           "size": 10
          },
          "showarrow": false,
          "text": "Uzbekistan",
          "textangle": -7.499999999999972,
          "x": -2.558345192812378,
          "y": -0.3368125343244566
         },
         {
          "font": {
           "size": 10
          },
          "showarrow": false,
          "text": "Italy",
          "textangle": -12.499999999999972,
          "x": -2.517199410357437,
          "y": -0.5580496740841983
         },
         {
          "font": {
           "size": 10
          },
          "showarrow": false,
          "text": "Kazakhstan",
          "textangle": -17.49999999999997,
          "x": -2.447338086877924,
          "y": -0.7716427347700168
         },
         {
          "font": {
           "size": 10
          },
          "showarrow": false,
          "text": "Moldova",
          "textangle": -22.5,
          "x": -2.366493109908385,
          "y": -0.9802335413865361
         },
         {
          "font": {
           "size": 10
          },
          "showarrow": false,
          "text": "Russia",
          "textangle": -27.5,
          "x": -2.2643986027619194,
          "y": -1.1787713019132684
         },
         {
          "font": {
           "size": 10
          },
          "showarrow": false,
          "text": "Poland",
          "textangle": -32.49999999999997,
          "x": -2.149316516118944,
          "y": -1.3692656334817472
         },
         {
          "font": {
           "size": 10
          },
          "showarrow": false,
          "text": "Lithuania",
          "textangle": -37.5,
          "x": -2.0181238759450513,
          "y": -1.5485609150973414
         },
         {
          "font": {
           "size": 10
          },
          "showarrow": false,
          "text": "Belarus",
          "textangle": -42.5,
          "x": -1.8737709494677512,
          "y": -1.716994733965526
         },
         {
          "font": {
           "size": 10
          },
          "showarrow": false,
          "text": "North Cyprus",
          "textangle": -47.5,
          "x": -1.7125856189263509,
          "y": -1.8689592447433057
         },
         {
          "font": {
           "size": 10
          },
          "showarrow": false,
          "text": "Slovenia",
          "textangle": -52.499999999999986,
          "x": -1.5427937015593645,
          "y": -2.0106078969317656
         },
         {
          "font": {
           "size": 10
          },
          "showarrow": false,
          "text": "Latvia",
          "textangle": -57.49999999999997,
          "x": -1.3381588140511433,
          "y": -2.100488590308723
         },
         {
          "font": {
           "size": 10
          },
          "showarrow": false,
          "text": "Cyprus",
          "textangle": -62.49999999999997,
          "x": -1.1486361292600349,
          "y": -2.2065094747018663
         },
         {
          "font": {
           "size": 10
          },
          "showarrow": false,
          "text": "Romania",
          "textangle": -67.49999999999997,
          "x": -0.950505081061755,
          "y": -2.294722257803823
         },
         {
          "font": {
           "size": 10
          },
          "showarrow": false,
          "text": "Estonia",
          "textangle": -72.49999999999997,
          "x": -0.7461935281593423,
          "y": -2.3666235154672317
         },
         {
          "font": {
           "size": 10
          },
          "showarrow": false,
          "text": "Croatia",
          "textangle": -77.49999999999996,
          "x": -0.5357677854072048,
          "y": -2.4166923056244576
         },
         {
          "font": {
           "size": 10
          },
          "showarrow": false,
          "text": "Kosovo",
          "textangle": -82.49999999999999,
          "x": -0.3207097240842574,
          "y": -2.4360322057039454
         },
         {
          "font": {
           "size": 10
          },
          "showarrow": false,
          "text": "Turkey",
          "textangle": -87.49999999999999,
          "x": -0.10706493416683241,
          "y": -2.452190150615343
         },
         {
          "font": {
           "size": 10
          },
          "showarrow": false,
          "text": "Azerbaijan",
          "textangle": 87.5,
          "x": 0.10616499733276774,
          "y": -2.4315782083595487
         },
         {
          "font": {
           "size": 10
          },
          "showarrow": false,
          "text": "Serbia",
          "textangle": 82.5,
          "x": 0.3145543836511425,
          "y": -2.389277753293897
         },
         {
          "font": {
           "size": 10
          },
          "showarrow": false,
          "text": "Bosn Herzeg",
          "textangle": 77.5,
          "x": 0.5209587591903864,
          "y": -2.3498931051373044
         },
         {
          "font": {
           "size": 10
          },
          "showarrow": false,
          "text": "Montenegro",
          "textangle": 72.5,
          "x": 0.7236564198175475,
          "y": -2.2951449397901014
         },
         {
          "font": {
           "size": 10
          },
          "showarrow": false,
          "text": "Hungary",
          "textangle": 67.5,
          "x": 0.9196487116731584,
          "y": -2.2202283923402817
         },
         {
          "font": {
           "size": 10
          },
          "showarrow": false,
          "text": "Portugal",
          "textangle": 62.5,
          "x": 1.1075162001235248,
          "y": -2.1275188257683113
         },
         {
          "font": {
           "size": 10
          },
          "showarrow": false,
          "text": "Macedonia",
          "textangle": 57.5,
          "x": 1.2885010186691939,
          "y": -2.0225414651062277
         },
         {
          "font": {
           "size": 10
          },
          "showarrow": false,
          "text": "Greece",
          "textangle": 52.5,
          "x": 1.4485958804390673,
          "y": -1.8878469063814385
         },
         {
          "font": {
           "size": 10
          },
          "showarrow": false,
          "text": "Albania",
          "textangle": 47.5,
          "x": 1.5538574775160185,
          "y": -1.6957378746632858
         },
         {
          "font": {
           "size": 10
          },
          "showarrow": false,
          "text": "Armenia",
          "textangle": 42.50000000000003,
          "x": 1.6499490716403404,
          "y": -1.5118997698851517
         },
         {
          "font": {
           "size": 10
          },
          "showarrow": false,
          "text": "Ukraine",
          "textangle": 37.50000000000003,
          "x": 1.7694284814832302,
          "y": -1.3577302271407137
         },
         {
          "font": {
           "size": 10
          },
          "showarrow": false,
          "text": "Georgia",
          "textangle": 32.50000000000003,
          "x": 1.8682452195459327,
          "y": -1.1902034692684809
         },
         {
          "font": {
           "size": 10
          },
          "showarrow": false,
          "text": "Bulgaria",
          "textangle": 27.50000000000003,
          "x": 1.9583331805347384,
          "y": -1.0194437277885906
         },
         {
          "font": {
           "size": 11
          },
          "showarrow": false,
          "text": "Europe Happiness Score and Global Ranking<br>Data: World Happiness Report, 2016<a href='http://worldhappiness.report/wp-content/uploads/sites/2/2016/03/HR-V1_web.pdf'> [1]</a>",
          "textangle": 0,
          "x": 0.5,
          "y": 0.1
         }
        ],
        "font": {
         "size": 12
        },
        "height": 900,
        "hovermode": "closest",
        "plot_bgcolor": "rgb(245,245,245)",
        "showlegend": false,
        "template": {},
        "title": {
         "text": ""
        },
        "width": 900,
        "xaxis": {
         "range": [
          -3.5,
          4
         ],
         "visible": false
        },
        "yaxis": {
         "range": [
          -4.5,
          3.5
         ],
         "visible": false
        }
       },
       "_py2js_addTraces": {},
       "_py2js_animate": {},
       "_py2js_deleteTraces": {},
       "_py2js_moveTraces": {},
       "_py2js_removeLayoutProps": {},
       "_py2js_removeTraceProps": {},
       "_py2js_restyle": {},
       "_view_count": 1
      }
     },
     "fb277bac0ca24f3caf48919b27c9e380": {
      "model_module": "plotlywidget",
      "model_module_version": "^0.11.0",
      "model_name": "FigureModel",
      "state": {
       "_config": {
        "plotlyServerURL": "https://plot.ly"
       },
       "_data": [
        {
         "hoverinfo": "none",
         "line": {
          "color": "rgb(253, 231, 36)",
          "width": 9.6
         },
         "mode": "lines",
         "type": "scatter",
         "uid": "0dcd5125-11d1-4499-8566-1b569f487314",
         "x": [
          -0.04361938736533589,
          -0.11273086300986597,
          null
         ],
         "y": [
          0.9990482215818578,
          2.581961256450292,
          null
         ]
        },
        {
         "hoverinfo": "none",
         "line": {
          "color": "rgb(250, 230, 34)",
          "width": 9.6
         },
         "mode": "lines",
         "type": "scatter",
         "uid": "746b731a-677a-4523-9787-b30e97e3e0a2",
         "x": [
          -0.1305261922200516,
          -0.3368674927211816,
          null
         ],
         "y": [
          0.9914448613738104,
          2.5587626432803243,
          null
         ]
        },
        {
         "hoverinfo": "none",
         "line": {
          "color": "rgb(250, 230, 34)",
          "width": 9.6
         },
         "mode": "lines",
         "type": "scatter",
         "uid": "5f31995b-dea3-4f53-bde1-59e5672ebc74",
         "x": [
          -0.2164396139381028,
          -0.5582319390222521,
          null
         ],
         "y": [
          0.9762960071199334,
          2.5180215543634326,
          null
         ]
        },
        {
         "hoverinfo": "none",
         "line": {
          "color": "rgb(248, 230, 33)",
          "width": 9.6
         },
         "mode": "lines",
         "type": "scatter",
         "uid": "4ba2627f-b008-4e98-a6de-9f56698c3783",
         "x": [
          -0.3007057995042731,
          -0.7753778173322815,
          null
         ],
         "y": [
          0.9537169507482269,
          2.459184255318797,
          null
         ]
        },
        {
         "hoverinfo": "none",
         "line": {
          "color": "rgb(233, 228, 25)",
          "width": 9.6
         },
         "mode": "lines",
         "type": "scatter",
         "uid": "45365d5d-a7b8-4e64-b29a-023422754ee4",
         "x": [
          -0.3826834323650897,
          -0.9799112816540181,
          null
         ],
         "y": [
          0.9238795325112867,
          2.3657151060915327,
          null
         ]
        },
        {
         "hoverinfo": "none",
         "line": {
          "color": "rgb(218, 226, 24)",
          "width": 9.6
         },
         "mode": "lines",
         "type": "scatter",
         "uid": "c0bff462-eade-4a56-8051-d39b15b34657",
         "x": [
          -0.4617486132350338,
          -1.1751745232417523,
          null
         ],
         "y": [
          0.8870108331782218,
          2.257489255219268,
          null
         ]
        },
        {
         "hoverinfo": "none",
         "line": {
          "color": "rgb(207, 225, 28)",
          "width": 9.6
         },
         "mode": "lines",
         "type": "scatter",
         "uid": "7cf2aa42-4567-48fe-88ee-6e2cdaa6b063",
         "x": [
          -0.537299608346824,
          -1.3620262282324438,
          null
         ],
         "y": [
          0.8433914458128856,
          2.137952926112201,
          null
         ]
        },
        {
         "hoverinfo": "none",
         "line": {
          "color": "rgb(202, 224, 30)",
          "width": 9.6
         },
         "mode": "lines",
         "type": "scatter",
         "uid": "3b3f5678-bcf1-4abd-b24d-c768aa60dd2e",
         "x": [
          -0.6087614290087207,
          -1.5401023352416412,
          null
         ],
         "y": [
          0.7933533402912352,
          2.0071004400588994,
          null
         ]
        },
        {
         "hoverinfo": "none",
         "line": {
          "color": "rgb(173, 220, 48)",
          "width": 9.6
         },
         "mode": "lines",
         "type": "scatter",
         "uid": "76f1c170-868b-4e2b-9713-75fd67c10b12",
         "x": [
          -0.6755902076156602,
          -1.6881221419347938,
          null
         ],
         "y": [
          0.7372773368101241,
          1.8422620443367077,
          null
         ]
        },
        {
         "hoverinfo": "none",
         "line": {
          "color": "rgb(146, 215, 65)",
          "width": 9.6
         },
         "mode": "lines",
         "type": "scatter",
         "uid": "cae7cbb4-8e23-42d2-948e-97a2cfadd8c1",
         "x": [
          -0.737277336810124,
          -1.8228600091574938,
          null
         ],
         "y": [
          0.6755902076156604,
          1.670343452260698,
          null
         ]
        },
        {
         "hoverinfo": "none",
         "line": {
          "color": "rgb(134, 212, 73)",
          "width": 9.6
         },
         "mode": "lines",
         "type": "scatter",
         "uid": "7b1848af-04a6-4e27-b121-2354e7ba028a",
         "x": [
          -0.793353340291235,
          -1.9506470865813332,
          null
         ],
         "y": [
          0.6087614290087209,
          1.4967841535563895,
          null
         ]
        },
        {
         "hoverinfo": "none",
         "line": {
          "color": "rgb(131, 211, 75)",
          "width": 9.6
         },
         "mode": "lines",
         "type": "scatter",
         "uid": "5276f484-618d-48f4-afdc-cd64d1703ea5",
         "x": [
          -0.8433914458128855,
          -2.0697713860717486,
          null
         ],
         "y": [
          0.5372996083468241,
          1.3185897967366167,
          null
         ]
        },
        {
         "hoverinfo": "none",
         "line": {
          "color": "rgb(124, 210, 79)",
          "width": 9.6
         },
         "mode": "lines",
         "type": "scatter",
         "uid": "782fddea-33ed-4334-bb61-5c2914f01d27",
         "x": [
          -0.8870108331782217,
          -2.1700953457608665,
          null
         ],
         "y": [
          0.4617486132350339,
          1.1296801335588063,
          null
         ]
        },
        {
         "hoverinfo": "none",
         "line": {
          "color": "rgb(98, 202, 95)",
          "width": 9.6
         },
         "mode": "lines",
         "type": "scatter",
         "uid": "31a62ceb-7c23-4ee1-9508-908b3a08970a",
         "x": [
          -0.9238795325112867,
          -2.231898449593056,
          null
         ],
         "y": [
          0.3826834323650899,
          0.9244826076609276,
          null
         ]
        },
        {
         "hoverinfo": "none",
         "line": {
          "color": "rgb(77, 194, 107)",
          "width": 9.6
         },
         "mode": "lines",
         "type": "scatter",
         "uid": "60e8540f-0854-403a-9eba-09fc3195e594",
         "x": [
          -0.953716950748227,
          -2.278078425934607,
          null
         ],
         "y": [
          0.3007057995042729,
          0.7182753686685222,
          null
         ]
        },
        {
         "hoverinfo": "none",
         "line": {
          "color": "rgb(61, 187, 116)",
          "width": 9.6
         },
         "mode": "lines",
         "type": "scatter",
         "uid": "f7ba507b-d87c-4d09-bfbb-d3dba798fc65",
         "x": [
          -0.9762960071199334,
          -2.309813584845013,
          null
         ],
         "y": [
          0.21643961393810274,
          0.5120733434602945,
          null
         ]
        },
        {
         "hoverinfo": "none",
         "line": {
          "color": "rgb(59, 186, 117)",
          "width": 9.6
         },
         "mode": "lines",
         "type": "scatter",
         "uid": "d2848ceb-e4fd-4dbd-9bec-3ab3a02e700f",
         "x": [
          -0.9914448613738104,
          -2.3435669270537143,
          null
         ],
         "y": [
          0.13052619222005157,
          0.3085364392098398,
          null
         ]
        },
        {
         "hoverinfo": "none",
         "line": {
          "color": "rgb(46, 178, 124)",
          "width": 9.6
         },
         "mode": "lines",
         "type": "scatter",
         "uid": "e4a3a2c3-9e10-4e7c-be9f-deb1ca9c4bee",
         "x": [
          -0.9990482215818578,
          -2.3369315347360047,
          null
         ],
         "y": [
          0.04361938736533607,
          0.10203263431921034,
          null
         ]
        },
        {
         "hoverinfo": "none",
         "line": {
          "color": "rgb(30, 158, 136)",
          "width": 9.6
         },
         "mode": "lines",
         "type": "scatter",
         "uid": "2943d80a-051e-4df0-8e77-c479bf8ab86e",
         "x": [
          -0.9990482215818578,
          -2.2774092933238643,
          null
         ],
         "y": [
          -0.04361938736533583,
          -0.09943383713512764,
          null
         ]
        },
        {
         "hoverinfo": "none",
         "line": {
          "color": "rgb(30, 152, 138)",
          "width": 9.6
         },
         "mode": "lines",
         "type": "scatter",
         "uid": "c9e47950-f839-4677-b8cd-9e0c1c44f420",
         "x": [
          -0.9914448613738105,
          -2.2410828371727587,
          null
         ],
         "y": [
          -0.13052619222005132,
          -0.29504415281404023,
          null
         ]
        },
        {
         "hoverinfo": "none",
         "line": {
          "color": "rgb(30, 152, 138)",
          "width": 9.6
         },
         "mode": "lines",
         "type": "scatter",
         "uid": "2dcf90b6-7091-4f6f-92aa-24f232d1cc3d",
         "x": [
          -0.9762960071199335,
          -2.2047846880790583,
          null
         ],
         "y": [
          -0.21643961393810252,
          -0.4887889976240054,
          null
         ]
        },
        {
         "hoverinfo": "none",
         "line": {
          "color": "rgb(31, 147, 139)",
          "width": 9.6
         },
         "mode": "lines",
         "type": "scatter",
         "uid": "4b349067-edc5-4bfc-b9bc-615e05570050",
         "x": [
          -0.953716950748227,
          -2.1421486626384914,
          null
         ],
         "y": [
          -0.3007057995042727,
          -0.6754168789286494,
          null
         ]
        },
        {
         "hoverinfo": "none",
         "line": {
          "color": "rgb(32, 145, 140)",
          "width": 9.6
         },
         "mode": "lines",
         "type": "scatter",
         "uid": "64ce8606-3a99-41d8-ad35-f7cfcca62d4f",
         "x": [
          -0.9238795325112868,
          -2.0708516595047732,
          null
         ],
         "y": [
          -0.38268343236508967,
          -0.8577748430297074,
          null
         ]
        },
        {
         "hoverinfo": "none",
         "line": {
          "color": "rgb(33, 142, 140)",
          "width": 9.6
         },
         "mode": "lines",
         "type": "scatter",
         "uid": "1560d5c3-8efc-4c41-8017-7814f330e854",
         "x": [
          -0.8870108331782216,
          -1.980555136144888,
          null
         ],
         "y": [
          -0.46174861323503413,
          -1.0310117456780572,
          null
         ]
        },
        {
         "hoverinfo": "none",
         "line": {
          "color": "rgb(33, 141, 140)",
          "width": 9.6
         },
         "mode": "lines",
         "type": "scatter",
         "uid": "4961bbae-6e31-49ad-93d6-36791e77fdb7",
         "x": [
          -0.8433914458128858,
          -1.8794312534588204,
          null
         ],
         "y": [
          -0.5372996083468236,
          -1.1973297588107636,
          null
         ]
        },
        {
         "hoverinfo": "none",
         "line": {
          "color": "rgb(34, 139, 141)",
          "width": 9.6
         },
         "mode": "lines",
         "type": "scatter",
         "uid": "67f5940c-e3fe-49bc-85ca-349fc38e14a9",
         "x": [
          -0.7933533402912352,
          -1.7642508070518563,
          null
         ],
         "y": [
          -0.6087614290087207,
          -1.3537572578145507,
          null
         ]
        },
        {
         "hoverinfo": "none",
         "line": {
          "color": "rgb(34, 138, 141)",
          "width": 9.6
         },
         "mode": "lines",
         "type": "scatter",
         "uid": "3ab7c113-5701-409a-8f21-08cb5e4aa0e2",
         "x": [
          -0.7372773368101241,
          -1.6378422016885115,
          null
         ],
         "y": [
          -0.6755902076156601,
          -1.500805867528515,
          null
         ]
        },
        {
         "hoverinfo": "none",
         "line": {
          "color": "rgb(35, 137, 141)",
          "width": 9.6
         },
         "mode": "lines",
         "type": "scatter",
         "uid": "456c4906-a112-4b3d-a3cf-1af8b311d573",
         "x": [
          -0.6755902076156604,
          -1.4963967524893393,
          null
         ],
         "y": [
          -0.7372773368101239,
          -1.6330304969640657,
          null
         ]
        },
        {
         "hoverinfo": "none",
         "line": {
          "color": "rgb(35, 136, 141)",
          "width": 9.6
         },
         "mode": "lines",
         "type": "scatter",
         "uid": "167392f9-f1ab-4b10-b92a-c1765b07e1aa",
         "x": [
          -0.6087614290087209,
          -1.347990044276574,
          null
         ],
         "y": [
          -0.7933533402912349,
          -1.7567348280385704,
          null
         ]
        },
        {
         "hoverinfo": "none",
         "line": {
          "color": "rgb(41, 121, 142)",
          "width": 9.6
         },
         "mode": "lines",
         "type": "scatter",
         "uid": "e472722a-4e9b-41fc-bf9e-fbcc7fc1633c",
         "x": [
          -0.5372996083468242,
          -1.1662229393801593,
          null
         ],
         "y": [
          -0.8433914458128855,
          -1.8306033276485996,
          null
         ]
        },
        {
         "hoverinfo": "none",
         "line": {
          "color": "rgb(41, 120, 142)",
          "width": 9.6
         },
         "mode": "lines",
         "type": "scatter",
         "uid": "f851a754-98ab-496b-ab39-7b49c7813bcd",
         "x": [
          -0.46174861323503436,
          -1.000876573024824,
          null
         ],
         "y": [
          -0.8870108331782215,
          -1.9226660080848352,
          null
         ]
        },
        {
         "hoverinfo": "none",
         "line": {
          "color": "rgb(42, 119, 142)",
          "width": 9.6
         },
         "mode": "lines",
         "type": "scatter",
         "uid": "fd1687e4-3316-48f8-a0b5-644079d7705c",
         "x": [
          -0.38268343236509034,
          -0.828046382704926,
          null
         ],
         "y": [
          -0.9238795325112865,
          -1.999080807400211,
          null
         ]
        },
        {
         "hoverinfo": "none",
         "line": {
          "color": "rgb(42, 118, 142)",
          "width": 9.6
         },
         "mode": "lines",
         "type": "scatter",
         "uid": "682914ea-70e2-413d-b16b-44226152fe77",
         "x": [
          -0.3007057995042738,
          -0.6499676723179746,
          null
         ],
         "y": [
          -0.9537169507482267,
          -2.061434091227799,
          null
         ]
        },
        {
         "hoverinfo": "none",
         "line": {
          "color": "rgb(43, 116, 142)",
          "width": 9.6
         },
         "mode": "lines",
         "type": "scatter",
         "uid": "2850f398-a727-4af3-a1dc-89dff16d086e",
         "x": [
          -0.21643961393810368,
          -0.4665071089470116,
          null
         ],
         "y": [
          -0.9762960071199331,
          -2.1042775833460787,
          null
         ]
        },
        {
         "hoverinfo": "none",
         "line": {
          "color": "rgb(46, 109, 142)",
          "width": 9.6
         },
         "mode": "lines",
         "type": "scatter",
         "uid": "3ce57fdd-74ed-447c-a650-d27fc4a667f2",
         "x": [
          -0.13052619222005163,
          -0.27894134257384084,
          null
         ],
         "y": [
          -0.9914448613738104,
          -2.118769850064326,
          null
         ]
        },
        {
         "hoverinfo": "none",
         "line": {
          "color": "rgb(46, 108, 142)",
          "width": 9.6
         },
         "mode": "lines",
         "type": "scatter",
         "uid": "b1dc27ce-a663-47ce-97e4-fdf316822a2b",
         "x": [
          -0.04361938736533613,
          -0.09310673020992485,
          null
         ],
         "y": [
          -0.9990482215818578,
          -2.1324947197091486,
          null
         ]
        },
        {
         "hoverinfo": "none",
         "line": {
          "color": "rgb(49, 101, 141)",
          "width": 9.6
         },
         "mode": "lines",
         "type": "scatter",
         "uid": "b80e1bf3-bebc-46dd-afe2-0a4aae0e7edb",
         "x": [
          0.043619387365335764,
          0.0922067933758603,
          null
         ],
         "y": [
          -0.9990482215818578,
          -2.1118827774533546,
          null
         ]
        },
        {
         "hoverinfo": "none",
         "line": {
          "color": "rgb(53, 92, 140)",
          "width": 9.6
         },
         "mode": "lines",
         "type": "scatter",
         "uid": "5ba8bc9d-6120-4713-8220-1df14bc0c4f7",
         "x": [
          0.13052619222005127,
          0.2727860021407261,
          null
         ],
         "y": [
          -0.9914448613738105,
          -2.0720153976542774,
          null
         ]
        },
        {
         "hoverinfo": "none",
         "line": {
          "color": "rgb(54, 91, 140)",
          "width": 9.6
         },
         "mode": "lines",
         "type": "scatter",
         "uid": "e6bcf4e6-56cb-4661-8f91-30bc59ae98d7",
         "x": [
          0.21643961393810332,
          0.45169808273019324,
          null
         ],
         "y": [
          -0.9762960071199333,
          -2.0374783828589256,
          null
         ]
        },
        {
         "hoverinfo": "none",
         "line": {
          "color": "rgb(54, 91, 140)",
          "width": 9.6
         },
         "mode": "lines",
         "type": "scatter",
         "uid": "4837e166-d168-4baf-a191-c22f9b12d85a",
         "x": [
          0.30070579950427345,
          0.6274305639761799,
          null
         ],
         "y": [
          -0.9537169507482268,
          -1.9899555155506687,
          null
         ]
        },
        {
         "hoverinfo": "none",
         "line": {
          "color": "rgb(55, 89, 140)",
          "width": 9.6
         },
         "mode": "lines",
         "type": "scatter",
         "uid": "46b71995-4c59-4169-ac82-fec68bc8d1c4",
         "x": [
          0.38268343236509,
          0.7971900133163295,
          null
         ],
         "y": [
          -0.9238795325112866,
          -1.9245869419366695,
          null
         ]
        },
        {
         "hoverinfo": "none",
         "line": {
          "color": "rgb(55, 88, 140)",
          "width": 9.6
         },
         "mode": "lines",
         "type": "scatter",
         "uid": "7e46be32-6b73-4eb9-b30b-d5b08621c661",
         "x": [
          0.4617486132350341,
          0.959756643888314,
          null
         ],
         "y": [
          -0.8870108331782216,
          -1.8436753591512804,
          null
         ]
        },
        {
         "hoverinfo": "none",
         "line": {
          "color": "rgb(56, 87, 140)",
          "width": 9.6
         },
         "mode": "lines",
         "type": "scatter",
         "uid": "bf8965af-8254-4ea6-bd3e-5e3da6fa9960",
         "x": [
          0.5372996083468239,
          1.1165651439982103,
          null
         ],
         "y": [
          -0.8433914458128857,
          -1.7526562024461043,
          null
         ]
        },
        {
         "hoverinfo": "none",
         "line": {
          "color": "rgb(59, 81, 138)",
          "width": 9.6
         },
         "mode": "lines",
         "type": "scatter",
         "uid": "6e85744b-b67b-4ce1-bf79-cdbdcea66a74",
         "x": [
          0.6087614290087205,
          1.2537922231562766,
          null
         ],
         "y": [
          -0.7933533402912352,
          -1.6339738374882429,
          null
         ]
        },
        {
         "hoverinfo": "none",
         "line": {
          "color": "rgb(70, 45, 124)",
          "width": 9.6
         },
         "mode": "lines",
         "type": "scatter",
         "uid": "2ffb6d0b-67e8-4589-944f-039a5bf47239",
         "x": [
          0.6755902076156601,
          1.337668611079007,
          null
         ],
         "y": [
          -0.7372773368101242,
          -1.4598091268840458,
          null
         ]
        },
        {
         "hoverinfo": "none",
         "line": {
          "color": "rgb(71, 17, 99)",
          "width": 9.6
         },
         "mode": "lines",
         "type": "scatter",
         "uid": "94396222-2dee-47f0-9d58-101bdf818002",
         "x": [
          0.7372773368101239,
          1.4140203238611007,
          null
         ],
         "y": [
          -0.6755902076156605,
          -1.2957109034481404,
          null
         ]
        },
        {
         "hoverinfo": "none",
         "line": {
          "color": "rgb(70, 12, 95)",
          "width": 9.6
         },
         "mode": "lines",
         "type": "scatter",
         "uid": "47a921d1-818d-4593-97ed-e6365c8633c1",
         "x": [
          0.7933533402912349,
          1.515555412590035,
          null
         ],
         "y": [
          -0.608761429008721,
          -1.162926569857923,
          null
         ]
        },
        {
         "hoverinfo": "none",
         "line": {
          "color": "rgb(68, 3, 87)",
          "width": 9.6
         },
         "mode": "lines",
         "type": "scatter",
         "uid": "7c40c14b-848f-43d0-b5c3-125a710bf1eb",
         "x": [
          0.8433914458128855,
          1.5983599568858096,
          null
         ],
         "y": [
          -0.5372996083468242,
          -1.0182675945974973,
          null
         ]
        },
        {
         "hoverinfo": "none",
         "line": {
          "color": "rgb(68, 1, 84)",
          "width": 9.6
         },
         "mode": "lines",
         "type": "scatter",
         "uid": "95f29d68-08c3-4a65-b42f-2994b720e1d1",
         "x": [
          0.8870108331782214,
          1.6744897139177075,
          null
         ],
         "y": [
          -0.4617486132350344,
          -0.8716841715533796,
          null
         ]
        },
        {
         "hoverinfo": "text",
         "marker": {
          "color": "rgb(61, 187, 116)",
          "size": 0.05
         },
         "mode": "markers",
         "name": "",
         "text": [
          "Denmark<br>Score: 7.526<br>World rank: 1",
          "Switzerland<br>Score: 7.509<br>World rank: 2",
          "Iceland<br>Score: 7.501<br>World rank: 3",
          "Norway<br>Score: 7.498<br>World rank: 4",
          "Finland<br>Score: 7.413<br>World rank: 5",
          "Netherlands<br>Score: 7.339<br>World rank: 7",
          "Sweden<br>Score: 7.291<br>World rank: 10",
          "Israel<br>Score: 7.267<br>World rank: 11",
          "Austria<br>Score: 7.119<br>World rank: 12",
          "Germany<br>Score: 6.994<br>World rank: 16",
          "Belgium<br>Score: 6.929<br>World rank: 18",
          "Ireland<br>Score: 6.907<br>World rank: 19",
          "Luxembourg<br>Score: 6.871<br>World rank: 20",
          "U Kingdom<br>Score: 6.725<br>World rank: 23",
          "Czech Rep<br>Score: 6.596<br>World rank: 27",
          "Malta<br>Score: 6.488<br>World rank: 30",
          "France<br>Score: 6.478<br>World rank: 32",
          "Spain<br>Score: 6.361<br>World rank: 37",
          "Slovakia<br>Score: 6.078<br>World rank: 45",
          "Uzbekistan<br>Score: 5.987<br>World rank: 49",
          "Italy<br>Score: 5.977<br>World rank: 50",
          "Kazakhstan<br>Score: 5.919<br>World rank: 54",
          "Moldova<br>Score: 5.897<br>World rank: 55",
          "Russia<br>Score: 5.856<br>World rank: 56",
          "Poland<br>Score: 5.835<br>World rank: 57",
          "Lithuania<br>Score: 5.813<br>World rank: 60",
          "Belarus<br>Score: 5.802<br>World rank: 61",
          "North Cyprus<br>Score: 5.771<br>World rank: 62",
          "Slovenia<br>Score: 5.768<br>World rank: 63",
          "Latvia<br>Score: 5.56<br>World rank: 68",
          "Cyprus<br>Score: 5.546<br>World rank: 69",
          "Romania<br>Score: 5.528<br>World rank: 71",
          "Estonia<br>Score: 5.517<br>World rank: 72",
          "Croatia<br>Score: 5.488<br>World rank: 74",
          "Kosovo<br>Score: 5.401<br>World rank: 77",
          "Turkey<br>Score: 5.389<br>World rank: 78",
          "Azerbaijan<br>Score: 5.291<br>World rank: 81",
          "Serbia<br>Score: 5.177<br>World rank: 86",
          "Bosn Herzeg<br>Score: 5.163<br>World rank: 87",
          "Montenegro<br>Score: 5.161<br>World rank: 88",
          "Hungary<br>Score: 5.145<br>World rank: 91",
          "Portugal<br>Score: 5.123<br>World rank: 94",
          "Macedonia<br>Score: 5.121<br>World rank: 95",
          "Greece<br>Score: 5.033<br>World rank: 99",
          "Albania<br>Score: 4.655<br>World rank: 109",
          "Armenia<br>Score: 4.36<br>World rank: 121",
          "Ukraine<br>Score: 4.324<br>World rank: 123",
          "Georgia<br>Score: 4.252<br>World rank: 126",
          "Bulgaria<br>Score: 4.217<br>World rank: 129"
         ],
         "type": "scatter",
         "uid": "d98e9558-5a41-4484-b746-5c44bd675565",
         "x": [
          -0.07817512518760093,
          -0.23369684247061662,
          -0.3873357764801775,
          -0.5380418084182773,
          -0.681297357009554,
          -0.8184615682383931,
          -0.9496629182896339,
          -1.074431882125181,
          -1.181856174775227,
          -1.2800686729838089,
          -1.372000213436284,
          -1.456581415942317,
          -1.528553089469544,
          -1.5778889910521712,
          -1.6158976883414171,
          -1.643054795982473,
          -1.6675058942137624,
          -1.6679898781589313,
          -1.6382287574528611,
          -1.6162638492732846,
          -1.590540347599496,
          -1.547932806693359,
          -1.49736559600803,
          -1.4337829846615548,
          -1.361411349635853,
          -1.2788020736715457,
          -1.1875597692493178,
          -1.0859934800524997,
          -0.9783757366426474,
          -0.8517612738634918,
          -0.7313125931299291,
          -0.6053649075350082,
          -0.4753367359111242,
          -0.34147336144255763,
          -0.20473376739694624,
          -0.06836305878763049,
          0.06791309037059803,
          0.20165609718038868,
          0.3340688483341483,
          0.4640681817402267,
          0.5899367228407097,
          0.7107526285616741,
          0.8269323761725171,
          0.9312768260824986,
          1.0066294093473336,
          1.0756488303356122,
          1.154454376440635,
          1.2208757013493474,
          1.2807502735479646
         ],
         "y": [
          1.7905047390160749,
          1.7751037523270674,
          1.747158780741683,
          1.7064506030335118,
          1.6447973193014098,
          1.572250044198745,
          1.4906721859625434,
          1.4002268901750674,
          1.289769690573416,
          1.1729668299381792,
          1.052772791282555,
          0.9279447025417205,
          0.7957143733969201,
          0.6535830200130087,
          0.5094905840863975,
          0.36425647869919864,
          0.2195313157149457,
          0.0728260108422732,
          -0.07152661225023174,
          -0.21278517251704576,
          -0.35261430578105396,
          -0.48806133921646105,
          -0.6202291376973985,
          -0.7463801794565457,
          -0.8673146835787936,
          -0.9812593434116357,
          -1.0881980375720874,
          -1.1851539168870948,
          -1.2750440841649027,
          -1.3369973867307425,
          -1.4048384206315283,
          -1.461480169955749,
          -1.5075755209880128,
          -1.540286795233006,
          -1.5551073557190682,
          -1.5657714706455033,
          -1.5554654995176063,
          -1.531730129514044,
          -1.5068871949894294,
          -1.471836233149448,
          -1.424233237223978,
          -1.365343096164751,
          -1.298023824129495,
          -1.2136635888897391,
          -1.098543231847085,
          -0.9856505555319004,
          -0.885843999433322,
          -0.7777836014721607,
          -0.666716392394207
         ]
        },
        {
         "hoverinfo": "text",
         "marker": {
          "color": "rgb(61, 187, 116)",
          "size": 0.05
         },
         "mode": "markers",
         "name": "",
         "text": [
          "Denmark<br>Score: 7.526<br>World rank: 1",
          "Switzerland<br>Score: 7.509<br>World rank: 2",
          "Iceland<br>Score: 7.501<br>World rank: 3",
          "Norway<br>Score: 7.498<br>World rank: 4",
          "Finland<br>Score: 7.413<br>World rank: 5",
          "Netherlands<br>Score: 7.339<br>World rank: 7",
          "Sweden<br>Score: 7.291<br>World rank: 10",
          "Israel<br>Score: 7.267<br>World rank: 11",
          "Austria<br>Score: 7.119<br>World rank: 12",
          "Germany<br>Score: 6.994<br>World rank: 16",
          "Belgium<br>Score: 6.929<br>World rank: 18",
          "Ireland<br>Score: 6.907<br>World rank: 19",
          "Luxembourg<br>Score: 6.871<br>World rank: 20",
          "U Kingdom<br>Score: 6.725<br>World rank: 23",
          "Czech Rep<br>Score: 6.596<br>World rank: 27",
          "Malta<br>Score: 6.488<br>World rank: 30",
          "France<br>Score: 6.478<br>World rank: 32",
          "Spain<br>Score: 6.361<br>World rank: 37",
          "Slovakia<br>Score: 6.078<br>World rank: 45",
          "Uzbekistan<br>Score: 5.987<br>World rank: 49",
          "Italy<br>Score: 5.977<br>World rank: 50",
          "Kazakhstan<br>Score: 5.919<br>World rank: 54",
          "Moldova<br>Score: 5.897<br>World rank: 55",
          "Russia<br>Score: 5.856<br>World rank: 56",
          "Poland<br>Score: 5.835<br>World rank: 57",
          "Lithuania<br>Score: 5.813<br>World rank: 60",
          "Belarus<br>Score: 5.802<br>World rank: 61",
          "North Cyprus<br>Score: 5.771<br>World rank: 62",
          "Slovenia<br>Score: 5.768<br>World rank: 63",
          "Latvia<br>Score: 5.56<br>World rank: 68",
          "Cyprus<br>Score: 5.546<br>World rank: 69",
          "Romania<br>Score: 5.528<br>World rank: 71",
          "Estonia<br>Score: 5.517<br>World rank: 72",
          "Croatia<br>Score: 5.488<br>World rank: 74",
          "Kosovo<br>Score: 5.401<br>World rank: 77",
          "Turkey<br>Score: 5.389<br>World rank: 78",
          "Azerbaijan<br>Score: 5.291<br>World rank: 81",
          "Serbia<br>Score: 5.177<br>World rank: 86",
          "Bosn Herzeg<br>Score: 5.163<br>World rank: 87",
          "Montenegro<br>Score: 5.161<br>World rank: 88",
          "Hungary<br>Score: 5.145<br>World rank: 91",
          "Portugal<br>Score: 5.123<br>World rank: 94",
          "Macedonia<br>Score: 5.121<br>World rank: 95",
          "Greece<br>Score: 5.033<br>World rank: 99",
          "Albania<br>Score: 4.655<br>World rank: 109",
          "Armenia<br>Score: 4.36<br>World rank: 121",
          "Ukraine<br>Score: 4.324<br>World rank: 123",
          "Georgia<br>Score: 4.252<br>World rank: 126",
          "Bulgaria<br>Score: 4.217<br>World rank: 129"
         ],
         "type": "scatter",
         "uid": "9fde697f-d3f8-4c82-902e-60ed11faaeaa",
         "x": [
          -0.11273086300986597,
          -0.3368674927211816,
          -0.5582319390222521,
          -0.7753778173322815,
          -0.9799112816540181,
          -1.1751745232417523,
          -1.3620262282324438,
          -1.5401023352416412,
          -1.6881221419347938,
          -1.8228600091574938,
          -1.9506470865813332,
          -2.0697713860717486,
          -2.1700953457608665,
          -2.231898449593056,
          -2.278078425934607,
          -2.309813584845013,
          -2.3435669270537143,
          -2.3369315347360047,
          -2.2774092933238643,
          -2.2410828371727587,
          -2.2047846880790583,
          -2.1421486626384914,
          -2.0708516595047732,
          -1.980555136144888,
          -1.8794312534588204,
          -1.7642508070518563,
          -1.6378422016885115,
          -1.4963967524893393,
          -1.347990044276574,
          -1.1662229393801593,
          -1.000876573024824,
          -0.828046382704926,
          -0.6499676723179746,
          -0.4665071089470116,
          -0.27894134257384084,
          -0.09310673020992485,
          0.0922067933758603,
          0.2727860021407261,
          0.45169808273019324,
          0.6274305639761799,
          0.7971900133163295,
          0.959756643888314,
          1.1165651439982103,
          1.2537922231562766,
          1.337668611079007,
          1.4140203238611007,
          1.515555412590035,
          1.5983599568858096,
          1.6744897139177075
         ],
         "y": [
          2.581961256450292,
          2.5587626432803243,
          2.5180215543634326,
          2.459184255318797,
          2.3657151060915327,
          2.257489255219268,
          2.137952926112201,
          2.0071004400588994,
          1.8422620443367077,
          1.670343452260698,
          1.4967841535563895,
          1.3185897967366167,
          1.1296801335588063,
          0.9244826076609276,
          0.7182753686685222,
          0.5120733434602945,
          0.3085364392098398,
          0.10203263431921034,
          -0.09943383713512764,
          -0.29504415281404023,
          -0.4887889976240054,
          -0.6754168789286494,
          -0.8577748430297074,
          -1.0310117456780572,
          -1.1973297588107636,
          -1.3537572578145507,
          -1.500805867528515,
          -1.6330304969640657,
          -1.7567348280385704,
          -1.8306033276485996,
          -1.9226660080848352,
          -1.999080807400211,
          -2.061434091227799,
          -2.1042775833460787,
          -2.118769850064326,
          -2.1324947197091486,
          -2.1118827774533546,
          -2.0720153976542774,
          -2.0374783828589256,
          -1.9899555155506687,
          -1.9245869419366695,
          -1.8436753591512804,
          -1.7526562024461043,
          -1.6339738374882429,
          -1.4598091268840458,
          -1.2957109034481404,
          -1.162926569857923,
          -1.0182675945974973,
          -0.8716841715533796
         ]
        }
       ],
       "_js2py_pointsCallback": {},
       "_js2py_relayout": {},
       "_js2py_restyle": {},
       "_js2py_update": {},
       "_last_layout_edit_id": 1,
       "_last_trace_edit_id": 1,
       "_layout": {
        "annotations": [
         {
          "font": {
           "size": 10
          },
          "showarrow": false,
          "text": "Denmark",
          "textangle": 87.5,
          "x": -0.12668906696677348,
          "y": 2.901656687356487
         },
         {
          "font": {
           "size": 10
          },
          "showarrow": false,
          "text": "Switzerland",
          "textangle": 82.5,
          "x": -0.3786358742315981,
          "y": 2.8760249989199442
         },
         {
          "font": {
           "size": 10
          },
          "showarrow": false,
          "text": "Iceland",
          "textangle": 77.5,
          "x": -0.627492615482445,
          "y": 2.830436276641811
         },
         {
          "font": {
           "size": 10
          },
          "showarrow": false,
          "text": "Norway",
          "textangle": 72.5,
          "x": -0.8716036731736488,
          "y": 2.764373679558229
         },
         {
          "font": {
           "size": 10
          },
          "showarrow": false,
          "text": "Finland",
          "textangle": 67.5,
          "x": -1.1023699800108469,
          "y": 2.6613565564951447
         },
         {
          "font": {
           "size": 10
          },
          "showarrow": false,
          "text": "Netherlands",
          "textangle": 62.5,
          "x": -1.322934079476963,
          "y": 2.541332721836299
         },
         {
          "font": {
           "size": 10
          },
          "showarrow": false,
          "text": "Sweden",
          "textangle": 57.5,
          "x": -1.5339621029034276,
          "y": 2.407838188772325
         },
         {
          "font": {
           "size": 10
          },
          "showarrow": false,
          "text": "Israel",
          "textangle": 52.5,
          "x": -1.7349059925244321,
          "y": 2.260973508952095
         },
         {
          "font": {
           "size": 10
          },
          "showarrow": false,
          "text": "Austria",
          "textangle": 47.5,
          "x": -1.9043110083718053,
          "y": 2.0781907921159477
         },
         {
          "font": {
           "size": 10
          },
          "showarrow": false,
          "text": "Germany",
          "textangle": 42.5,
          "x": -2.0587887569367336,
          "y": 1.8865323186977094
         },
         {
          "font": {
           "size": 10
          },
          "showarrow": false,
          "text": "Belgium",
          "textangle": 37.5,
          "x": -2.204520155474529,
          "y": 1.6915878108391804
         },
         {
          "font": {
           "size": 10
          },
          "showarrow": false,
          "text": "Ireland",
          "textangle": 32.50000000000003,
          "x": -2.3396566487318724,
          "y": 1.4905256714076005
         },
         {
          "font": {
           "size": 10
          },
          "showarrow": false,
          "text": "Luxembourg",
          "textangle": 27.5,
          "x": -2.4539388123778973,
          "y": 1.277439689794017
         },
         {
          "font": {
           "size": 10
          },
          "showarrow": false,
          "text": "U Kingdom",
          "textangle": 22.5,
          "x": -2.527539899996668,
          "y": 1.0469413060177564
         },
         {
          "font": {
           "size": 10
          },
          "showarrow": false,
          "text": "Czech Rep",
          "textangle": 17.49999999999997,
          "x": -2.5832678501740403,
          "y": 0.8145012245098896
         },
         {
          "font": {
           "size": 10
          },
          "showarrow": false,
          "text": "Malta",
          "textangle": 12.5,
          "x": -2.622228307123392,
          "y": 0.5813340199204873
         },
         {
          "font": {
           "size": 10
          },
          "showarrow": false,
          "text": "France",
          "textangle": 7.5,
          "x": -2.6608292826933337,
          "y": 0.3503048207202563
         },
         {
          "font": {
           "size": 10
          },
          "showarrow": false,
          "text": "Spain",
          "textangle": 2.5,
          "x": -2.6566269656421992,
          "y": 0.11599083827611789
         },
         {
          "font": {
           "size": 10
          },
          "showarrow": false,
          "text": "Slovakia",
          "textangle": -2.5,
          "x": -2.5971047242300593,
          "y": -0.11339204109203511
         },
         {
          "font": {
           "size": 10
          },
          "showarrow": false,
          "text": "Uzbekistan",
          "textangle": -7.499999999999972,
          "x": -2.558345192812378,
          "y": -0.3368125343244566
         },
         {
          "font": {
           "size": 10
          },
          "showarrow": false,
          "text": "Italy",
          "textangle": -12.499999999999972,
          "x": -2.517199410357437,
          "y": -0.5580496740841983
         },
         {
          "font": {
           "size": 10
          },
          "showarrow": false,
          "text": "Kazakhstan",
          "textangle": -17.49999999999997,
          "x": -2.447338086877924,
          "y": -0.7716427347700168
         },
         {
          "font": {
           "size": 10
          },
          "showarrow": false,
          "text": "Moldova",
          "textangle": -22.5,
          "x": -2.366493109908385,
          "y": -0.9802335413865361
         },
         {
          "font": {
           "size": 10
          },
          "showarrow": false,
          "text": "Russia",
          "textangle": -27.5,
          "x": -2.2643986027619194,
          "y": -1.1787713019132684
         },
         {
          "font": {
           "size": 10
          },
          "showarrow": false,
          "text": "Poland",
          "textangle": -32.49999999999997,
          "x": -2.149316516118944,
          "y": -1.3692656334817472
         },
         {
          "font": {
           "size": 10
          },
          "showarrow": false,
          "text": "Lithuania",
          "textangle": -37.5,
          "x": -2.0181238759450513,
          "y": -1.5485609150973414
         },
         {
          "font": {
           "size": 10
          },
          "showarrow": false,
          "text": "Belarus",
          "textangle": -42.5,
          "x": -1.8737709494677512,
          "y": -1.716994733965526
         },
         {
          "font": {
           "size": 10
          },
          "showarrow": false,
          "text": "North Cyprus",
          "textangle": -47.5,
          "x": -1.7125856189263509,
          "y": -1.8689592447433057
         },
         {
          "font": {
           "size": 10
          },
          "showarrow": false,
          "text": "Slovenia",
          "textangle": -52.499999999999986,
          "x": -1.5427937015593645,
          "y": -2.0106078969317656
         },
         {
          "font": {
           "size": 10
          },
          "showarrow": false,
          "text": "Latvia",
          "textangle": -57.49999999999997,
          "x": -1.3381588140511433,
          "y": -2.100488590308723
         },
         {
          "font": {
           "size": 10
          },
          "showarrow": false,
          "text": "Cyprus",
          "textangle": -62.49999999999997,
          "x": -1.1486361292600349,
          "y": -2.2065094747018663
         },
         {
          "font": {
           "size": 10
          },
          "showarrow": false,
          "text": "Romania",
          "textangle": -67.49999999999997,
          "x": -0.950505081061755,
          "y": -2.294722257803823
         },
         {
          "font": {
           "size": 10
          },
          "showarrow": false,
          "text": "Estonia",
          "textangle": -72.49999999999997,
          "x": -0.7461935281593423,
          "y": -2.3666235154672317
         },
         {
          "font": {
           "size": 10
          },
          "showarrow": false,
          "text": "Croatia",
          "textangle": -77.49999999999996,
          "x": -0.5357677854072048,
          "y": -2.4166923056244576
         },
         {
          "font": {
           "size": 10
          },
          "showarrow": false,
          "text": "Kosovo",
          "textangle": -82.49999999999999,
          "x": -0.3207097240842574,
          "y": -2.4360322057039454
         },
         {
          "font": {
           "size": 10
          },
          "showarrow": false,
          "text": "Turkey",
          "textangle": -87.49999999999999,
          "x": -0.10706493416683241,
          "y": -2.452190150615343
         },
         {
          "font": {
           "size": 10
          },
          "showarrow": false,
          "text": "Azerbaijan",
          "textangle": 87.5,
          "x": 0.10616499733276774,
          "y": -2.4315782083595487
         },
         {
          "font": {
           "size": 10
          },
          "showarrow": false,
          "text": "Serbia",
          "textangle": 82.5,
          "x": 0.3145543836511425,
          "y": -2.389277753293897
         },
         {
          "font": {
           "size": 10
          },
          "showarrow": false,
          "text": "Bosn Herzeg",
          "textangle": 77.5,
          "x": 0.5209587591903864,
          "y": -2.3498931051373044
         },
         {
          "font": {
           "size": 10
          },
          "showarrow": false,
          "text": "Montenegro",
          "textangle": 72.5,
          "x": 0.7236564198175475,
          "y": -2.2951449397901014
         },
         {
          "font": {
           "size": 10
          },
          "showarrow": false,
          "text": "Hungary",
          "textangle": 67.5,
          "x": 0.9196487116731584,
          "y": -2.2202283923402817
         },
         {
          "font": {
           "size": 10
          },
          "showarrow": false,
          "text": "Portugal",
          "textangle": 62.5,
          "x": 1.1075162001235248,
          "y": -2.1275188257683113
         },
         {
          "font": {
           "size": 10
          },
          "showarrow": false,
          "text": "Macedonia",
          "textangle": 57.5,
          "x": 1.2885010186691939,
          "y": -2.0225414651062277
         },
         {
          "font": {
           "size": 10
          },
          "showarrow": false,
          "text": "Greece",
          "textangle": 52.5,
          "x": 1.4485958804390673,
          "y": -1.8878469063814385
         },
         {
          "font": {
           "size": 10
          },
          "showarrow": false,
          "text": "Albania",
          "textangle": 47.5,
          "x": 1.5538574775160185,
          "y": -1.6957378746632858
         },
         {
          "font": {
           "size": 10
          },
          "showarrow": false,
          "text": "Armenia",
          "textangle": 42.50000000000003,
          "x": 1.6499490716403404,
          "y": -1.5118997698851517
         },
         {
          "font": {
           "size": 10
          },
          "showarrow": false,
          "text": "Ukraine",
          "textangle": 37.50000000000003,
          "x": 1.7694284814832302,
          "y": -1.3577302271407137
         },
         {
          "font": {
           "size": 10
          },
          "showarrow": false,
          "text": "Georgia",
          "textangle": 32.50000000000003,
          "x": 1.8682452195459327,
          "y": -1.1902034692684809
         },
         {
          "font": {
           "size": 10
          },
          "showarrow": false,
          "text": "Bulgaria",
          "textangle": 27.50000000000003,
          "x": 1.9583331805347384,
          "y": -1.0194437277885906
         },
         {
          "font": {
           "size": 11
          },
          "showarrow": false,
          "text": "Europe Happiness Score and Global Ranking<br>Data: World Happiness Report, 2016<a href='http://worldhappiness.report/wp-content/uploads/sites/2/2016/03/HR-V1_web.pdf'> [1]</a>",
          "textangle": 0,
          "x": 0.5,
          "y": 0.1
         }
        ],
        "font": {
         "size": 12
        },
        "height": 1000,
        "hovermode": "closest",
        "showlegend": false,
        "template": {},
        "title": {
         "text": ""
        },
        "width": 1000,
        "xaxis": {
         "range": [
          -3.5,
          4
         ],
         "visible": false
        },
        "yaxis": {
         "range": [
          -4.5,
          3.5
         ],
         "visible": false
        }
       },
       "_py2js_addTraces": {},
       "_py2js_animate": {},
       "_py2js_deleteTraces": {},
       "_py2js_moveTraces": {},
       "_py2js_removeLayoutProps": {},
       "_py2js_removeTraceProps": {},
       "_py2js_restyle": {},
       "_view_count": 0
      }
     }
    },
    "version_major": 2,
    "version_minor": 0
   }
  }
 },
 "nbformat": 4,
 "nbformat_minor": 1
}
